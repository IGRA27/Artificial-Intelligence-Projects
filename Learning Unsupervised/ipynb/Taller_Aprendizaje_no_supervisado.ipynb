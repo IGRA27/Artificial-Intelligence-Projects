{
  "cells": [
    {
      "cell_type": "markdown",
      "metadata": {
        "id": "g8LPXiP75m6Q"
      },
      "source": [
        "Realizar el aprendizaje no supervisado de la siguiente base"
      ]
    },
    {
      "cell_type": "code",
      "execution_count": 1,
      "metadata": {
        "id": "Rd0HzDD75qKO"
      },
      "outputs": [],
      "source": [
        "import pandas as pd"
      ]
    },
    {
      "cell_type": "code",
      "execution_count": 2,
      "metadata": {
        "id": "myMpM_KJSeDh"
      },
      "outputs": [],
      "source": [
        "df = pd.read_excel('E-com_Data.xlsx')"
      ]
    },
    {
      "cell_type": "code",
      "execution_count": 3,
      "metadata": {
        "colab": {
          "base_uri": "https://localhost:8080/",
          "height": 696
        },
        "id": "1MXqWX6tSoaA",
        "outputId": "279b7ee2-863f-433c-cb2e-bc9871b7f926"
      },
      "outputs": [
        {
          "output_type": "execute_result",
          "data": {
            "text/plain": [
              "        CustomerID Item Code  InvoieNo Date of purchase  Quantity      Time  \\\n",
              "0           4355.0     15734    398177       2017-10-29         6  15:36:00   \n",
              "1           4352.0     14616    394422       2017-10-05         2  14:53:00   \n",
              "2           4352.0     14614    394422       2017-10-12         2  14:53:00   \n",
              "3           4352.0    85014B    388633       2017-08-22         3  14:47:00   \n",
              "4           4352.0     15364    394422       2017-10-10         2  14:53:00   \n",
              "...            ...       ...       ...              ...       ...       ...   \n",
              "537974         NaN    85194L    372313       2017-03-23         6  09:27:00   \n",
              "537975         NaN     14693    367605       2017-02-06         2  14:25:00   \n",
              "537976         NaN     14693    368246       2017-02-06         3  10:40:00   \n",
              "537977         NaN    85194L    366891       2017-01-29        15  17:05:00   \n",
              "537978         NaN     14693    391243       2017-09-17        20  12:42:00   \n",
              "\n",
              "        price per Unit   Price Shipping Location  Cancelled_status  \\\n",
              "0                321.0  1926.0        Location 1               NaN   \n",
              "1                870.0  1740.0        Location 1               NaN   \n",
              "2                933.0  1866.0        Location 1               NaN   \n",
              "3                623.0  1869.0        Location 1               NaN   \n",
              "4                944.0  1888.0        Location 1               NaN   \n",
              "...                ...     ...               ...               ...   \n",
              "537974           198.0  1188.0        Location 8               NaN   \n",
              "537975           761.0  1522.0        Location 8               NaN   \n",
              "537976           761.0  2283.0        Location 8               NaN   \n",
              "537977           198.0  2970.0        Location 8               NaN   \n",
              "537978           417.0  8340.0        Location 8               NaN   \n",
              "\n",
              "       Reason of return  Sold as set  \n",
              "0                   NaN          NaN  \n",
              "1                   NaN          NaN  \n",
              "2                   NaN          NaN  \n",
              "3                   NaN          NaN  \n",
              "4                   NaN          NaN  \n",
              "...                 ...          ...  \n",
              "537974              NaN          NaN  \n",
              "537975              NaN          NaN  \n",
              "537976              NaN          NaN  \n",
              "537977              NaN          NaN  \n",
              "537978              NaN          NaN  \n",
              "\n",
              "[537979 rows x 12 columns]"
            ],
            "text/html": [
              "\n",
              "  <div id=\"df-dc8f70cc-78b3-4cb0-995a-a49df6e1b435\">\n",
              "    <div class=\"colab-df-container\">\n",
              "      <div>\n",
              "<style scoped>\n",
              "    .dataframe tbody tr th:only-of-type {\n",
              "        vertical-align: middle;\n",
              "    }\n",
              "\n",
              "    .dataframe tbody tr th {\n",
              "        vertical-align: top;\n",
              "    }\n",
              "\n",
              "    .dataframe thead th {\n",
              "        text-align: right;\n",
              "    }\n",
              "</style>\n",
              "<table border=\"1\" class=\"dataframe\">\n",
              "  <thead>\n",
              "    <tr style=\"text-align: right;\">\n",
              "      <th></th>\n",
              "      <th>CustomerID</th>\n",
              "      <th>Item Code</th>\n",
              "      <th>InvoieNo</th>\n",
              "      <th>Date of purchase</th>\n",
              "      <th>Quantity</th>\n",
              "      <th>Time</th>\n",
              "      <th>price per Unit</th>\n",
              "      <th>Price</th>\n",
              "      <th>Shipping Location</th>\n",
              "      <th>Cancelled_status</th>\n",
              "      <th>Reason of return</th>\n",
              "      <th>Sold as set</th>\n",
              "    </tr>\n",
              "  </thead>\n",
              "  <tbody>\n",
              "    <tr>\n",
              "      <th>0</th>\n",
              "      <td>4355.0</td>\n",
              "      <td>15734</td>\n",
              "      <td>398177</td>\n",
              "      <td>2017-10-29</td>\n",
              "      <td>6</td>\n",
              "      <td>15:36:00</td>\n",
              "      <td>321.0</td>\n",
              "      <td>1926.0</td>\n",
              "      <td>Location 1</td>\n",
              "      <td>NaN</td>\n",
              "      <td>NaN</td>\n",
              "      <td>NaN</td>\n",
              "    </tr>\n",
              "    <tr>\n",
              "      <th>1</th>\n",
              "      <td>4352.0</td>\n",
              "      <td>14616</td>\n",
              "      <td>394422</td>\n",
              "      <td>2017-10-05</td>\n",
              "      <td>2</td>\n",
              "      <td>14:53:00</td>\n",
              "      <td>870.0</td>\n",
              "      <td>1740.0</td>\n",
              "      <td>Location 1</td>\n",
              "      <td>NaN</td>\n",
              "      <td>NaN</td>\n",
              "      <td>NaN</td>\n",
              "    </tr>\n",
              "    <tr>\n",
              "      <th>2</th>\n",
              "      <td>4352.0</td>\n",
              "      <td>14614</td>\n",
              "      <td>394422</td>\n",
              "      <td>2017-10-12</td>\n",
              "      <td>2</td>\n",
              "      <td>14:53:00</td>\n",
              "      <td>933.0</td>\n",
              "      <td>1866.0</td>\n",
              "      <td>Location 1</td>\n",
              "      <td>NaN</td>\n",
              "      <td>NaN</td>\n",
              "      <td>NaN</td>\n",
              "    </tr>\n",
              "    <tr>\n",
              "      <th>3</th>\n",
              "      <td>4352.0</td>\n",
              "      <td>85014B</td>\n",
              "      <td>388633</td>\n",
              "      <td>2017-08-22</td>\n",
              "      <td>3</td>\n",
              "      <td>14:47:00</td>\n",
              "      <td>623.0</td>\n",
              "      <td>1869.0</td>\n",
              "      <td>Location 1</td>\n",
              "      <td>NaN</td>\n",
              "      <td>NaN</td>\n",
              "      <td>NaN</td>\n",
              "    </tr>\n",
              "    <tr>\n",
              "      <th>4</th>\n",
              "      <td>4352.0</td>\n",
              "      <td>15364</td>\n",
              "      <td>394422</td>\n",
              "      <td>2017-10-10</td>\n",
              "      <td>2</td>\n",
              "      <td>14:53:00</td>\n",
              "      <td>944.0</td>\n",
              "      <td>1888.0</td>\n",
              "      <td>Location 1</td>\n",
              "      <td>NaN</td>\n",
              "      <td>NaN</td>\n",
              "      <td>NaN</td>\n",
              "    </tr>\n",
              "    <tr>\n",
              "      <th>...</th>\n",
              "      <td>...</td>\n",
              "      <td>...</td>\n",
              "      <td>...</td>\n",
              "      <td>...</td>\n",
              "      <td>...</td>\n",
              "      <td>...</td>\n",
              "      <td>...</td>\n",
              "      <td>...</td>\n",
              "      <td>...</td>\n",
              "      <td>...</td>\n",
              "      <td>...</td>\n",
              "      <td>...</td>\n",
              "    </tr>\n",
              "    <tr>\n",
              "      <th>537974</th>\n",
              "      <td>NaN</td>\n",
              "      <td>85194L</td>\n",
              "      <td>372313</td>\n",
              "      <td>2017-03-23</td>\n",
              "      <td>6</td>\n",
              "      <td>09:27:00</td>\n",
              "      <td>198.0</td>\n",
              "      <td>1188.0</td>\n",
              "      <td>Location 8</td>\n",
              "      <td>NaN</td>\n",
              "      <td>NaN</td>\n",
              "      <td>NaN</td>\n",
              "    </tr>\n",
              "    <tr>\n",
              "      <th>537975</th>\n",
              "      <td>NaN</td>\n",
              "      <td>14693</td>\n",
              "      <td>367605</td>\n",
              "      <td>2017-02-06</td>\n",
              "      <td>2</td>\n",
              "      <td>14:25:00</td>\n",
              "      <td>761.0</td>\n",
              "      <td>1522.0</td>\n",
              "      <td>Location 8</td>\n",
              "      <td>NaN</td>\n",
              "      <td>NaN</td>\n",
              "      <td>NaN</td>\n",
              "    </tr>\n",
              "    <tr>\n",
              "      <th>537976</th>\n",
              "      <td>NaN</td>\n",
              "      <td>14693</td>\n",
              "      <td>368246</td>\n",
              "      <td>2017-02-06</td>\n",
              "      <td>3</td>\n",
              "      <td>10:40:00</td>\n",
              "      <td>761.0</td>\n",
              "      <td>2283.0</td>\n",
              "      <td>Location 8</td>\n",
              "      <td>NaN</td>\n",
              "      <td>NaN</td>\n",
              "      <td>NaN</td>\n",
              "    </tr>\n",
              "    <tr>\n",
              "      <th>537977</th>\n",
              "      <td>NaN</td>\n",
              "      <td>85194L</td>\n",
              "      <td>366891</td>\n",
              "      <td>2017-01-29</td>\n",
              "      <td>15</td>\n",
              "      <td>17:05:00</td>\n",
              "      <td>198.0</td>\n",
              "      <td>2970.0</td>\n",
              "      <td>Location 8</td>\n",
              "      <td>NaN</td>\n",
              "      <td>NaN</td>\n",
              "      <td>NaN</td>\n",
              "    </tr>\n",
              "    <tr>\n",
              "      <th>537978</th>\n",
              "      <td>NaN</td>\n",
              "      <td>14693</td>\n",
              "      <td>391243</td>\n",
              "      <td>2017-09-17</td>\n",
              "      <td>20</td>\n",
              "      <td>12:42:00</td>\n",
              "      <td>417.0</td>\n",
              "      <td>8340.0</td>\n",
              "      <td>Location 8</td>\n",
              "      <td>NaN</td>\n",
              "      <td>NaN</td>\n",
              "      <td>NaN</td>\n",
              "    </tr>\n",
              "  </tbody>\n",
              "</table>\n",
              "<p>537979 rows × 12 columns</p>\n",
              "</div>\n",
              "      <button class=\"colab-df-convert\" onclick=\"convertToInteractive('df-dc8f70cc-78b3-4cb0-995a-a49df6e1b435')\"\n",
              "              title=\"Convert this dataframe to an interactive table.\"\n",
              "              style=\"display:none;\">\n",
              "        \n",
              "  <svg xmlns=\"http://www.w3.org/2000/svg\" height=\"24px\"viewBox=\"0 0 24 24\"\n",
              "       width=\"24px\">\n",
              "    <path d=\"M0 0h24v24H0V0z\" fill=\"none\"/>\n",
              "    <path d=\"M18.56 5.44l.94 2.06.94-2.06 2.06-.94-2.06-.94-.94-2.06-.94 2.06-2.06.94zm-11 1L8.5 8.5l.94-2.06 2.06-.94-2.06-.94L8.5 2.5l-.94 2.06-2.06.94zm10 10l.94 2.06.94-2.06 2.06-.94-2.06-.94-.94-2.06-.94 2.06-2.06.94z\"/><path d=\"M17.41 7.96l-1.37-1.37c-.4-.4-.92-.59-1.43-.59-.52 0-1.04.2-1.43.59L10.3 9.45l-7.72 7.72c-.78.78-.78 2.05 0 2.83L4 21.41c.39.39.9.59 1.41.59.51 0 1.02-.2 1.41-.59l7.78-7.78 2.81-2.81c.8-.78.8-2.07 0-2.86zM5.41 20L4 18.59l7.72-7.72 1.47 1.35L5.41 20z\"/>\n",
              "  </svg>\n",
              "      </button>\n",
              "      \n",
              "  <style>\n",
              "    .colab-df-container {\n",
              "      display:flex;\n",
              "      flex-wrap:wrap;\n",
              "      gap: 12px;\n",
              "    }\n",
              "\n",
              "    .colab-df-convert {\n",
              "      background-color: #E8F0FE;\n",
              "      border: none;\n",
              "      border-radius: 50%;\n",
              "      cursor: pointer;\n",
              "      display: none;\n",
              "      fill: #1967D2;\n",
              "      height: 32px;\n",
              "      padding: 0 0 0 0;\n",
              "      width: 32px;\n",
              "    }\n",
              "\n",
              "    .colab-df-convert:hover {\n",
              "      background-color: #E2EBFA;\n",
              "      box-shadow: 0px 1px 2px rgba(60, 64, 67, 0.3), 0px 1px 3px 1px rgba(60, 64, 67, 0.15);\n",
              "      fill: #174EA6;\n",
              "    }\n",
              "\n",
              "    [theme=dark] .colab-df-convert {\n",
              "      background-color: #3B4455;\n",
              "      fill: #D2E3FC;\n",
              "    }\n",
              "\n",
              "    [theme=dark] .colab-df-convert:hover {\n",
              "      background-color: #434B5C;\n",
              "      box-shadow: 0px 1px 3px 1px rgba(0, 0, 0, 0.15);\n",
              "      filter: drop-shadow(0px 1px 2px rgba(0, 0, 0, 0.3));\n",
              "      fill: #FFFFFF;\n",
              "    }\n",
              "  </style>\n",
              "\n",
              "      <script>\n",
              "        const buttonEl =\n",
              "          document.querySelector('#df-dc8f70cc-78b3-4cb0-995a-a49df6e1b435 button.colab-df-convert');\n",
              "        buttonEl.style.display =\n",
              "          google.colab.kernel.accessAllowed ? 'block' : 'none';\n",
              "\n",
              "        async function convertToInteractive(key) {\n",
              "          const element = document.querySelector('#df-dc8f70cc-78b3-4cb0-995a-a49df6e1b435');\n",
              "          const dataTable =\n",
              "            await google.colab.kernel.invokeFunction('convertToInteractive',\n",
              "                                                     [key], {});\n",
              "          if (!dataTable) return;\n",
              "\n",
              "          const docLinkHtml = 'Like what you see? Visit the ' +\n",
              "            '<a target=\"_blank\" href=https://colab.research.google.com/notebooks/data_table.ipynb>data table notebook</a>'\n",
              "            + ' to learn more about interactive tables.';\n",
              "          element.innerHTML = '';\n",
              "          dataTable['output_type'] = 'display_data';\n",
              "          await google.colab.output.renderOutput(dataTable, element);\n",
              "          const docLink = document.createElement('div');\n",
              "          docLink.innerHTML = docLinkHtml;\n",
              "          element.appendChild(docLink);\n",
              "        }\n",
              "      </script>\n",
              "    </div>\n",
              "  </div>\n",
              "  "
            ]
          },
          "metadata": {},
          "execution_count": 3
        }
      ],
      "source": [
        "df"
      ]
    },
    {
      "cell_type": "code",
      "execution_count": 4,
      "metadata": {
        "colab": {
          "base_uri": "https://localhost:8080/"
        },
        "id": "rJAbzu8tTCQL",
        "outputId": "e7df7717-059c-4a61-f4ab-c200328d9509"
      },
      "outputs": [
        {
          "output_type": "stream",
          "name": "stdout",
          "text": [
            "<class 'pandas.core.frame.DataFrame'>\n",
            "RangeIndex: 537979 entries, 0 to 537978\n",
            "Data columns (total 12 columns):\n",
            " #   Column             Non-Null Count   Dtype         \n",
            "---  ------             --------------   -----         \n",
            " 0   CustomerID         404189 non-null  float64       \n",
            " 1   Item Code          537979 non-null  object        \n",
            " 2   InvoieNo           537979 non-null  int64         \n",
            " 3   Date of purchase   537979 non-null  datetime64[ns]\n",
            " 4   Quantity           537979 non-null  int64         \n",
            " 5   Time               537979 non-null  object        \n",
            " 6   price per Unit     537979 non-null  float64       \n",
            " 7   Price              537979 non-null  float64       \n",
            " 8   Shipping Location  537979 non-null  object        \n",
            " 9   Cancelled_status   8345 non-null    float64       \n",
            " 10  Reason of return   3 non-null       object        \n",
            " 11  Sold as set        0 non-null       float64       \n",
            "dtypes: datetime64[ns](1), float64(5), int64(2), object(4)\n",
            "memory usage: 49.3+ MB\n"
          ]
        }
      ],
      "source": [
        "df.info()"
      ]
    },
    {
      "cell_type": "code",
      "execution_count": 5,
      "metadata": {
        "id": "ZPYM2hv4i60a"
      },
      "outputs": [],
      "source": [
        "df = df.drop('Sold as set', axis=1)\n",
        "df = df.drop('Reason of return', axis=1)"
      ]
    },
    {
      "cell_type": "code",
      "execution_count": 6,
      "metadata": {
        "colab": {
          "base_uri": "https://localhost:8080/",
          "height": 696
        },
        "id": "YtUJkQAnzaSm",
        "outputId": "1db0494f-425e-4058-949a-ea6cf62edf8f"
      },
      "outputs": [
        {
          "output_type": "execute_result",
          "data": {
            "text/plain": [
              "        CustomerID Item Code  InvoieNo Date of purchase  Quantity      Time  \\\n",
              "0           4355.0     15734    398177       2017-10-29         6  15:36:00   \n",
              "1           4352.0     14616    394422       2017-10-05         2  14:53:00   \n",
              "2           4352.0     14614    394422       2017-10-12         2  14:53:00   \n",
              "3           4352.0    85014B    388633       2017-08-22         3  14:47:00   \n",
              "4           4352.0     15364    394422       2017-10-10         2  14:53:00   \n",
              "...            ...       ...       ...              ...       ...       ...   \n",
              "537974         NaN    85194L    372313       2017-03-23         6  09:27:00   \n",
              "537975         NaN     14693    367605       2017-02-06         2  14:25:00   \n",
              "537976         NaN     14693    368246       2017-02-06         3  10:40:00   \n",
              "537977         NaN    85194L    366891       2017-01-29        15  17:05:00   \n",
              "537978         NaN     14693    391243       2017-09-17        20  12:42:00   \n",
              "\n",
              "        price per Unit   Price Shipping Location  Cancelled_status  \n",
              "0                321.0  1926.0        Location 1               NaN  \n",
              "1                870.0  1740.0        Location 1               NaN  \n",
              "2                933.0  1866.0        Location 1               NaN  \n",
              "3                623.0  1869.0        Location 1               NaN  \n",
              "4                944.0  1888.0        Location 1               NaN  \n",
              "...                ...     ...               ...               ...  \n",
              "537974           198.0  1188.0        Location 8               NaN  \n",
              "537975           761.0  1522.0        Location 8               NaN  \n",
              "537976           761.0  2283.0        Location 8               NaN  \n",
              "537977           198.0  2970.0        Location 8               NaN  \n",
              "537978           417.0  8340.0        Location 8               NaN  \n",
              "\n",
              "[537979 rows x 10 columns]"
            ],
            "text/html": [
              "\n",
              "  <div id=\"df-c0128966-e2fd-4b4c-a1ea-3e3b66a7fd85\">\n",
              "    <div class=\"colab-df-container\">\n",
              "      <div>\n",
              "<style scoped>\n",
              "    .dataframe tbody tr th:only-of-type {\n",
              "        vertical-align: middle;\n",
              "    }\n",
              "\n",
              "    .dataframe tbody tr th {\n",
              "        vertical-align: top;\n",
              "    }\n",
              "\n",
              "    .dataframe thead th {\n",
              "        text-align: right;\n",
              "    }\n",
              "</style>\n",
              "<table border=\"1\" class=\"dataframe\">\n",
              "  <thead>\n",
              "    <tr style=\"text-align: right;\">\n",
              "      <th></th>\n",
              "      <th>CustomerID</th>\n",
              "      <th>Item Code</th>\n",
              "      <th>InvoieNo</th>\n",
              "      <th>Date of purchase</th>\n",
              "      <th>Quantity</th>\n",
              "      <th>Time</th>\n",
              "      <th>price per Unit</th>\n",
              "      <th>Price</th>\n",
              "      <th>Shipping Location</th>\n",
              "      <th>Cancelled_status</th>\n",
              "    </tr>\n",
              "  </thead>\n",
              "  <tbody>\n",
              "    <tr>\n",
              "      <th>0</th>\n",
              "      <td>4355.0</td>\n",
              "      <td>15734</td>\n",
              "      <td>398177</td>\n",
              "      <td>2017-10-29</td>\n",
              "      <td>6</td>\n",
              "      <td>15:36:00</td>\n",
              "      <td>321.0</td>\n",
              "      <td>1926.0</td>\n",
              "      <td>Location 1</td>\n",
              "      <td>NaN</td>\n",
              "    </tr>\n",
              "    <tr>\n",
              "      <th>1</th>\n",
              "      <td>4352.0</td>\n",
              "      <td>14616</td>\n",
              "      <td>394422</td>\n",
              "      <td>2017-10-05</td>\n",
              "      <td>2</td>\n",
              "      <td>14:53:00</td>\n",
              "      <td>870.0</td>\n",
              "      <td>1740.0</td>\n",
              "      <td>Location 1</td>\n",
              "      <td>NaN</td>\n",
              "    </tr>\n",
              "    <tr>\n",
              "      <th>2</th>\n",
              "      <td>4352.0</td>\n",
              "      <td>14614</td>\n",
              "      <td>394422</td>\n",
              "      <td>2017-10-12</td>\n",
              "      <td>2</td>\n",
              "      <td>14:53:00</td>\n",
              "      <td>933.0</td>\n",
              "      <td>1866.0</td>\n",
              "      <td>Location 1</td>\n",
              "      <td>NaN</td>\n",
              "    </tr>\n",
              "    <tr>\n",
              "      <th>3</th>\n",
              "      <td>4352.0</td>\n",
              "      <td>85014B</td>\n",
              "      <td>388633</td>\n",
              "      <td>2017-08-22</td>\n",
              "      <td>3</td>\n",
              "      <td>14:47:00</td>\n",
              "      <td>623.0</td>\n",
              "      <td>1869.0</td>\n",
              "      <td>Location 1</td>\n",
              "      <td>NaN</td>\n",
              "    </tr>\n",
              "    <tr>\n",
              "      <th>4</th>\n",
              "      <td>4352.0</td>\n",
              "      <td>15364</td>\n",
              "      <td>394422</td>\n",
              "      <td>2017-10-10</td>\n",
              "      <td>2</td>\n",
              "      <td>14:53:00</td>\n",
              "      <td>944.0</td>\n",
              "      <td>1888.0</td>\n",
              "      <td>Location 1</td>\n",
              "      <td>NaN</td>\n",
              "    </tr>\n",
              "    <tr>\n",
              "      <th>...</th>\n",
              "      <td>...</td>\n",
              "      <td>...</td>\n",
              "      <td>...</td>\n",
              "      <td>...</td>\n",
              "      <td>...</td>\n",
              "      <td>...</td>\n",
              "      <td>...</td>\n",
              "      <td>...</td>\n",
              "      <td>...</td>\n",
              "      <td>...</td>\n",
              "    </tr>\n",
              "    <tr>\n",
              "      <th>537974</th>\n",
              "      <td>NaN</td>\n",
              "      <td>85194L</td>\n",
              "      <td>372313</td>\n",
              "      <td>2017-03-23</td>\n",
              "      <td>6</td>\n",
              "      <td>09:27:00</td>\n",
              "      <td>198.0</td>\n",
              "      <td>1188.0</td>\n",
              "      <td>Location 8</td>\n",
              "      <td>NaN</td>\n",
              "    </tr>\n",
              "    <tr>\n",
              "      <th>537975</th>\n",
              "      <td>NaN</td>\n",
              "      <td>14693</td>\n",
              "      <td>367605</td>\n",
              "      <td>2017-02-06</td>\n",
              "      <td>2</td>\n",
              "      <td>14:25:00</td>\n",
              "      <td>761.0</td>\n",
              "      <td>1522.0</td>\n",
              "      <td>Location 8</td>\n",
              "      <td>NaN</td>\n",
              "    </tr>\n",
              "    <tr>\n",
              "      <th>537976</th>\n",
              "      <td>NaN</td>\n",
              "      <td>14693</td>\n",
              "      <td>368246</td>\n",
              "      <td>2017-02-06</td>\n",
              "      <td>3</td>\n",
              "      <td>10:40:00</td>\n",
              "      <td>761.0</td>\n",
              "      <td>2283.0</td>\n",
              "      <td>Location 8</td>\n",
              "      <td>NaN</td>\n",
              "    </tr>\n",
              "    <tr>\n",
              "      <th>537977</th>\n",
              "      <td>NaN</td>\n",
              "      <td>85194L</td>\n",
              "      <td>366891</td>\n",
              "      <td>2017-01-29</td>\n",
              "      <td>15</td>\n",
              "      <td>17:05:00</td>\n",
              "      <td>198.0</td>\n",
              "      <td>2970.0</td>\n",
              "      <td>Location 8</td>\n",
              "      <td>NaN</td>\n",
              "    </tr>\n",
              "    <tr>\n",
              "      <th>537978</th>\n",
              "      <td>NaN</td>\n",
              "      <td>14693</td>\n",
              "      <td>391243</td>\n",
              "      <td>2017-09-17</td>\n",
              "      <td>20</td>\n",
              "      <td>12:42:00</td>\n",
              "      <td>417.0</td>\n",
              "      <td>8340.0</td>\n",
              "      <td>Location 8</td>\n",
              "      <td>NaN</td>\n",
              "    </tr>\n",
              "  </tbody>\n",
              "</table>\n",
              "<p>537979 rows × 10 columns</p>\n",
              "</div>\n",
              "      <button class=\"colab-df-convert\" onclick=\"convertToInteractive('df-c0128966-e2fd-4b4c-a1ea-3e3b66a7fd85')\"\n",
              "              title=\"Convert this dataframe to an interactive table.\"\n",
              "              style=\"display:none;\">\n",
              "        \n",
              "  <svg xmlns=\"http://www.w3.org/2000/svg\" height=\"24px\"viewBox=\"0 0 24 24\"\n",
              "       width=\"24px\">\n",
              "    <path d=\"M0 0h24v24H0V0z\" fill=\"none\"/>\n",
              "    <path d=\"M18.56 5.44l.94 2.06.94-2.06 2.06-.94-2.06-.94-.94-2.06-.94 2.06-2.06.94zm-11 1L8.5 8.5l.94-2.06 2.06-.94-2.06-.94L8.5 2.5l-.94 2.06-2.06.94zm10 10l.94 2.06.94-2.06 2.06-.94-2.06-.94-.94-2.06-.94 2.06-2.06.94z\"/><path d=\"M17.41 7.96l-1.37-1.37c-.4-.4-.92-.59-1.43-.59-.52 0-1.04.2-1.43.59L10.3 9.45l-7.72 7.72c-.78.78-.78 2.05 0 2.83L4 21.41c.39.39.9.59 1.41.59.51 0 1.02-.2 1.41-.59l7.78-7.78 2.81-2.81c.8-.78.8-2.07 0-2.86zM5.41 20L4 18.59l7.72-7.72 1.47 1.35L5.41 20z\"/>\n",
              "  </svg>\n",
              "      </button>\n",
              "      \n",
              "  <style>\n",
              "    .colab-df-container {\n",
              "      display:flex;\n",
              "      flex-wrap:wrap;\n",
              "      gap: 12px;\n",
              "    }\n",
              "\n",
              "    .colab-df-convert {\n",
              "      background-color: #E8F0FE;\n",
              "      border: none;\n",
              "      border-radius: 50%;\n",
              "      cursor: pointer;\n",
              "      display: none;\n",
              "      fill: #1967D2;\n",
              "      height: 32px;\n",
              "      padding: 0 0 0 0;\n",
              "      width: 32px;\n",
              "    }\n",
              "\n",
              "    .colab-df-convert:hover {\n",
              "      background-color: #E2EBFA;\n",
              "      box-shadow: 0px 1px 2px rgba(60, 64, 67, 0.3), 0px 1px 3px 1px rgba(60, 64, 67, 0.15);\n",
              "      fill: #174EA6;\n",
              "    }\n",
              "\n",
              "    [theme=dark] .colab-df-convert {\n",
              "      background-color: #3B4455;\n",
              "      fill: #D2E3FC;\n",
              "    }\n",
              "\n",
              "    [theme=dark] .colab-df-convert:hover {\n",
              "      background-color: #434B5C;\n",
              "      box-shadow: 0px 1px 3px 1px rgba(0, 0, 0, 0.15);\n",
              "      filter: drop-shadow(0px 1px 2px rgba(0, 0, 0, 0.3));\n",
              "      fill: #FFFFFF;\n",
              "    }\n",
              "  </style>\n",
              "\n",
              "      <script>\n",
              "        const buttonEl =\n",
              "          document.querySelector('#df-c0128966-e2fd-4b4c-a1ea-3e3b66a7fd85 button.colab-df-convert');\n",
              "        buttonEl.style.display =\n",
              "          google.colab.kernel.accessAllowed ? 'block' : 'none';\n",
              "\n",
              "        async function convertToInteractive(key) {\n",
              "          const element = document.querySelector('#df-c0128966-e2fd-4b4c-a1ea-3e3b66a7fd85');\n",
              "          const dataTable =\n",
              "            await google.colab.kernel.invokeFunction('convertToInteractive',\n",
              "                                                     [key], {});\n",
              "          if (!dataTable) return;\n",
              "\n",
              "          const docLinkHtml = 'Like what you see? Visit the ' +\n",
              "            '<a target=\"_blank\" href=https://colab.research.google.com/notebooks/data_table.ipynb>data table notebook</a>'\n",
              "            + ' to learn more about interactive tables.';\n",
              "          element.innerHTML = '';\n",
              "          dataTable['output_type'] = 'display_data';\n",
              "          await google.colab.output.renderOutput(dataTable, element);\n",
              "          const docLink = document.createElement('div');\n",
              "          docLink.innerHTML = docLinkHtml;\n",
              "          element.appendChild(docLink);\n",
              "        }\n",
              "      </script>\n",
              "    </div>\n",
              "  </div>\n",
              "  "
            ]
          },
          "metadata": {},
          "execution_count": 6
        }
      ],
      "source": [
        "df"
      ]
    },
    {
      "cell_type": "code",
      "execution_count": 7,
      "metadata": {
        "colab": {
          "base_uri": "https://localhost:8080/"
        },
        "id": "iNzNOJ9VzhWN",
        "outputId": "3cf293c4-c63c-40d8-cbb2-289d7ec4423e"
      },
      "outputs": [
        {
          "output_type": "stream",
          "name": "stdout",
          "text": [
            "<class 'pandas.core.frame.DataFrame'>\n",
            "RangeIndex: 537979 entries, 0 to 537978\n",
            "Data columns (total 10 columns):\n",
            " #   Column             Non-Null Count   Dtype         \n",
            "---  ------             --------------   -----         \n",
            " 0   CustomerID         404189 non-null  float64       \n",
            " 1   Item Code          537979 non-null  object        \n",
            " 2   InvoieNo           537979 non-null  int64         \n",
            " 3   Date of purchase   537979 non-null  datetime64[ns]\n",
            " 4   Quantity           537979 non-null  int64         \n",
            " 5   Time               537979 non-null  object        \n",
            " 6   price per Unit     537979 non-null  float64       \n",
            " 7   Price              537979 non-null  float64       \n",
            " 8   Shipping Location  537979 non-null  object        \n",
            " 9   Cancelled_status   8345 non-null    float64       \n",
            "dtypes: datetime64[ns](1), float64(4), int64(2), object(3)\n",
            "memory usage: 41.0+ MB\n"
          ]
        }
      ],
      "source": [
        "df.info()"
      ]
    },
    {
      "cell_type": "code",
      "execution_count": 8,
      "metadata": {
        "colab": {
          "base_uri": "https://localhost:8080/"
        },
        "id": "pgbkMEbCz5-F",
        "outputId": "b0ecebcc-6b71-4a17-cb0b-6634c5a43c6f"
      },
      "outputs": [
        {
          "output_type": "stream",
          "name": "stdout",
          "text": [
            "1.0    8345\n",
            "Name: Cancelled_status, dtype: int64\n",
            "[nan  1.]\n"
          ]
        }
      ],
      "source": [
        "print(df['Cancelled_status'].value_counts())\n",
        "print(df['Cancelled_status'].unique())"
      ]
    },
    {
      "cell_type": "code",
      "execution_count": 9,
      "metadata": {
        "colab": {
          "base_uri": "https://localhost:8080/"
        },
        "id": "5DmO_k0g057r",
        "outputId": "fd131ecb-1656-4eca-99bf-58d6700f9d3f"
      },
      "outputs": [
        {
          "output_type": "stream",
          "name": "stdout",
          "text": [
            "0.0    529634\n",
            "1.0      8345\n",
            "Name: Cancelled_status, dtype: int64\n",
            "[0. 1.]\n"
          ]
        }
      ],
      "source": [
        "df['Cancelled_status'].fillna(0, inplace=True)\n",
        "print(df['Cancelled_status'].value_counts())\n",
        "print(df['Cancelled_status'].unique())"
      ]
    },
    {
      "cell_type": "code",
      "execution_count": 10,
      "metadata": {
        "colab": {
          "base_uri": "https://localhost:8080/"
        },
        "id": "80AU7aMX09vG",
        "outputId": "5b5ca783-b32e-49cf-b58c-ed99ffe62804"
      },
      "outputs": [
        {
          "output_type": "stream",
          "name": "stdout",
          "text": [
            "<class 'pandas.core.frame.DataFrame'>\n",
            "RangeIndex: 537979 entries, 0 to 537978\n",
            "Data columns (total 10 columns):\n",
            " #   Column             Non-Null Count   Dtype         \n",
            "---  ------             --------------   -----         \n",
            " 0   CustomerID         404189 non-null  float64       \n",
            " 1   Item Code          537979 non-null  object        \n",
            " 2   InvoieNo           537979 non-null  int64         \n",
            " 3   Date of purchase   537979 non-null  datetime64[ns]\n",
            " 4   Quantity           537979 non-null  int64         \n",
            " 5   Time               537979 non-null  object        \n",
            " 6   price per Unit     537979 non-null  float64       \n",
            " 7   Price              537979 non-null  float64       \n",
            " 8   Shipping Location  537979 non-null  object        \n",
            " 9   Cancelled_status   537979 non-null  float64       \n",
            "dtypes: datetime64[ns](1), float64(4), int64(2), object(3)\n",
            "memory usage: 41.0+ MB\n"
          ]
        }
      ],
      "source": [
        "df.info()"
      ]
    },
    {
      "cell_type": "code",
      "execution_count": 11,
      "metadata": {
        "colab": {
          "base_uri": "https://localhost:8080/"
        },
        "id": "Rsjx4V4H1E8t",
        "outputId": "17adba51-57a0-4780-8e01-d35ae1f454d3"
      },
      "outputs": [
        {
          "output_type": "stream",
          "name": "stdout",
          "text": [
            "Location 36    501963\n",
            "Location 14     10843\n",
            "Location 26      9316\n",
            "Location 15      5626\n",
            "Location 1       3642\n",
            "Location 11      2931\n",
            "Location 37       808\n",
            "Location 25       709\n",
            "Location 21       644\n",
            "Location 20       517\n",
            "Location 4        202\n",
            "Location 23       193\n",
            "Location 32       145\n",
            "Location 8        140\n",
            "Location 10       112\n",
            "Location 28       108\n",
            "Location 31        40\n",
            "Location 7         35\n",
            "Location 24         3\n",
            "Location 34         2\n",
            "Name: Shipping Location, dtype: int64\n",
            "['Location 1' 'Location 10' 'Location 11' 'Location 14' 'Location 15'\n",
            " 'Location 20' 'Location 21' 'Location 23' 'Location 24' 'Location 25'\n",
            " 'Location 26' 'Location 28' 'Location 31' 'Location 32' 'Location 34'\n",
            " 'Location 36' 'Location 37' 'Location 4' 'Location 7' 'Location 8']\n"
          ]
        }
      ],
      "source": [
        "print(df['Shipping Location'].value_counts())\n",
        "print(df['Shipping Location'].unique())"
      ]
    },
    {
      "cell_type": "code",
      "execution_count": 12,
      "metadata": {
        "colab": {
          "base_uri": "https://localhost:8080/"
        },
        "id": "68kQGYFK1r3w",
        "outputId": "8ed7809b-d423-4ae5-e5e3-627fd02daf38"
      },
      "outputs": [
        {
          "output_type": "stream",
          "name": "stdout",
          "text": [
            "['1' '10' '11' '14' '15' '20' '21' '23' '24' '25' '26' '28' '31' '32' '34'\n",
            " '36' '37' '4' '7' '8']\n"
          ]
        }
      ],
      "source": [
        "#df['Shipping Location'] = df['Shipping Location'].str.replace('Location ', '')\n",
        "df['Shipping Location'] = df['Shipping Location'].apply(lambda x: x.split()[-1])\n",
        "print(df['Shipping Location'].unique())\n"
      ]
    },
    {
      "cell_type": "code",
      "execution_count": 13,
      "metadata": {
        "colab": {
          "base_uri": "https://localhost:8080/"
        },
        "id": "8xeOMB5J2G0s",
        "outputId": "78d132cb-cc6f-4035-90f3-8576813bc2cb"
      },
      "outputs": [
        {
          "output_type": "stream",
          "name": "stdout",
          "text": [
            "<class 'pandas.core.frame.DataFrame'>\n",
            "RangeIndex: 537979 entries, 0 to 537978\n",
            "Data columns (total 10 columns):\n",
            " #   Column             Non-Null Count   Dtype         \n",
            "---  ------             --------------   -----         \n",
            " 0   CustomerID         404189 non-null  float64       \n",
            " 1   Item Code          537979 non-null  object        \n",
            " 2   InvoieNo           537979 non-null  int64         \n",
            " 3   Date of purchase   537979 non-null  datetime64[ns]\n",
            " 4   Quantity           537979 non-null  int64         \n",
            " 5   Time               537979 non-null  object        \n",
            " 6   price per Unit     537979 non-null  float64       \n",
            " 7   Price              537979 non-null  float64       \n",
            " 8   Shipping Location  537979 non-null  object        \n",
            " 9   Cancelled_status   537979 non-null  float64       \n",
            "dtypes: datetime64[ns](1), float64(4), int64(2), object(3)\n",
            "memory usage: 41.0+ MB\n"
          ]
        }
      ],
      "source": [
        "df.info()"
      ]
    },
    {
      "cell_type": "code",
      "execution_count": 14,
      "metadata": {
        "colab": {
          "base_uri": "https://localhost:8080/"
        },
        "id": "pofxeNqN3wHK",
        "outputId": "588468c7-334f-49da-e4d0-8d180ed41aa5"
      },
      "outputs": [
        {
          "output_type": "stream",
          "name": "stdout",
          "text": [
            "['1' '10' '11' '14' '15' '20' '21' '23' '24' '25' '26' '28' '31' '32' '34'\n",
            " '36' '37' '4' '7' '8']\n"
          ]
        }
      ],
      "source": [
        "df['Shipping Location'] = df['Shipping Location'].apply(lambda x: x.split()[-1])\n",
        "print(df['Shipping Location'].unique())"
      ]
    },
    {
      "cell_type": "code",
      "execution_count": 15,
      "metadata": {
        "id": "ZVW6wbDs-5oB"
      },
      "outputs": [],
      "source": [
        "df['Time'] = df['Time'].astype(str)\n",
        "\n",
        "from datetime import datetime\n",
        "\n",
        "df['Hora'] = df['Time'].apply(lambda x: datetime.strptime(x, '%H:%M:%S').hour)\n",
        "df['Minutos'] = df['Time'].apply(lambda x: datetime.strptime(x, '%H:%M:%S').minute)\n"
      ]
    },
    {
      "cell_type": "code",
      "execution_count": 16,
      "metadata": {
        "colab": {
          "base_uri": "https://localhost:8080/"
        },
        "id": "_Vxt0FC8_Jbw",
        "outputId": "c6d30e20-78eb-4c34-9a18-2c9f386689ce"
      },
      "outputs": [
        {
          "output_type": "stream",
          "name": "stdout",
          "text": [
            "<class 'pandas.core.frame.DataFrame'>\n",
            "RangeIndex: 537979 entries, 0 to 537978\n",
            "Data columns (total 12 columns):\n",
            " #   Column             Non-Null Count   Dtype         \n",
            "---  ------             --------------   -----         \n",
            " 0   CustomerID         404189 non-null  float64       \n",
            " 1   Item Code          537979 non-null  object        \n",
            " 2   InvoieNo           537979 non-null  int64         \n",
            " 3   Date of purchase   537979 non-null  datetime64[ns]\n",
            " 4   Quantity           537979 non-null  int64         \n",
            " 5   Time               537979 non-null  object        \n",
            " 6   price per Unit     537979 non-null  float64       \n",
            " 7   Price              537979 non-null  float64       \n",
            " 8   Shipping Location  537979 non-null  object        \n",
            " 9   Cancelled_status   537979 non-null  float64       \n",
            " 10  Hora               537979 non-null  int64         \n",
            " 11  Minutos            537979 non-null  int64         \n",
            "dtypes: datetime64[ns](1), float64(4), int64(4), object(3)\n",
            "memory usage: 49.3+ MB\n"
          ]
        }
      ],
      "source": [
        "df.info()"
      ]
    },
    {
      "cell_type": "code",
      "execution_count": 17,
      "metadata": {
        "colab": {
          "base_uri": "https://localhost:8080/"
        },
        "id": "hTDwritkAvCF",
        "outputId": "dcb2a76e-4a87-465c-9083-18175bc0c037"
      },
      "outputs": [
        {
          "output_type": "stream",
          "name": "stdout",
          "text": [
            "['1' '10' '11' '14' '15' '20' '21' '23' '24' '25' '26' '28' '31' '32' '34'\n",
            " '36' '37' '4' '7' '8']\n",
            "0\n"
          ]
        }
      ],
      "source": [
        "print(df['Shipping Location'].unique())\n",
        "print(df['Shipping Location'].isnull().sum())\n",
        "df['Shipping Location'] = pd.to_numeric(df['Shipping Location'], errors='coerce')"
      ]
    },
    {
      "cell_type": "code",
      "execution_count": 18,
      "metadata": {
        "colab": {
          "base_uri": "https://localhost:8080/"
        },
        "id": "rH5BhqCpBNBA",
        "outputId": "488b8ba3-188e-443a-f802-e998eb346fa6"
      },
      "outputs": [
        {
          "output_type": "stream",
          "name": "stdout",
          "text": [
            "<class 'pandas.core.frame.DataFrame'>\n",
            "RangeIndex: 537979 entries, 0 to 537978\n",
            "Data columns (total 12 columns):\n",
            " #   Column             Non-Null Count   Dtype         \n",
            "---  ------             --------------   -----         \n",
            " 0   CustomerID         404189 non-null  float64       \n",
            " 1   Item Code          537979 non-null  object        \n",
            " 2   InvoieNo           537979 non-null  int64         \n",
            " 3   Date of purchase   537979 non-null  datetime64[ns]\n",
            " 4   Quantity           537979 non-null  int64         \n",
            " 5   Time               537979 non-null  object        \n",
            " 6   price per Unit     537979 non-null  float64       \n",
            " 7   Price              537979 non-null  float64       \n",
            " 8   Shipping Location  537979 non-null  int64         \n",
            " 9   Cancelled_status   537979 non-null  float64       \n",
            " 10  Hora               537979 non-null  int64         \n",
            " 11  Minutos            537979 non-null  int64         \n",
            "dtypes: datetime64[ns](1), float64(4), int64(5), object(2)\n",
            "memory usage: 49.3+ MB\n"
          ]
        }
      ],
      "source": [
        "df.info()"
      ]
    },
    {
      "cell_type": "code",
      "execution_count": 19,
      "metadata": {
        "id": "wg5hLAfHBoGr"
      },
      "outputs": [],
      "source": [
        "df['Date of purchase'] = pd.to_datetime(df['Date of purchase'])\n",
        "df['month'] = df['Date of purchase'].apply(lambda date:date.month)\n",
        "df['year'] = df['Date of purchase'].apply(lambda date:date.year)\n",
        "df['day'] = df['Date of purchase'].apply(lambda date:date.day)\n",
        "df = df.drop(['Date of purchase'], axis =1)"
      ]
    },
    {
      "cell_type": "code",
      "execution_count": 20,
      "metadata": {
        "id": "aEoxewBPCYXT"
      },
      "outputs": [],
      "source": [
        "df = df.drop(['Time'], axis =1)"
      ]
    },
    {
      "cell_type": "code",
      "execution_count": 21,
      "metadata": {
        "colab": {
          "base_uri": "https://localhost:8080/"
        },
        "id": "5pZ_rK9RCRIs",
        "outputId": "a33091a0-e060-4522-f401-e59cf1171dd6"
      },
      "outputs": [
        {
          "output_type": "stream",
          "name": "stdout",
          "text": [
            "<class 'pandas.core.frame.DataFrame'>\n",
            "RangeIndex: 537979 entries, 0 to 537978\n",
            "Data columns (total 13 columns):\n",
            " #   Column             Non-Null Count   Dtype  \n",
            "---  ------             --------------   -----  \n",
            " 0   CustomerID         404189 non-null  float64\n",
            " 1   Item Code          537979 non-null  object \n",
            " 2   InvoieNo           537979 non-null  int64  \n",
            " 3   Quantity           537979 non-null  int64  \n",
            " 4   price per Unit     537979 non-null  float64\n",
            " 5   Price              537979 non-null  float64\n",
            " 6   Shipping Location  537979 non-null  int64  \n",
            " 7   Cancelled_status   537979 non-null  float64\n",
            " 8   Hora               537979 non-null  int64  \n",
            " 9   Minutos            537979 non-null  int64  \n",
            " 10  month              537979 non-null  int64  \n",
            " 11  year               537979 non-null  int64  \n",
            " 12  day                537979 non-null  int64  \n",
            "dtypes: float64(4), int64(8), object(1)\n",
            "memory usage: 53.4+ MB\n"
          ]
        }
      ],
      "source": [
        "df.info()"
      ]
    },
    {
      "cell_type": "code",
      "execution_count": 22,
      "metadata": {
        "colab": {
          "base_uri": "https://localhost:8080/"
        },
        "id": "x6i9kK0ACiqY",
        "outputId": "8f6822c4-e800-4ee6-e011-dc71b8b58882"
      },
      "outputs": [
        {
          "output_type": "stream",
          "name": "stdout",
          "text": [
            "[15734 14616 14614 ... '85194L' 14693 77618]\n",
            "36    501963\n",
            "14     10843\n",
            "26      9316\n",
            "15      5626\n",
            "1       3642\n",
            "11      2931\n",
            "37       808\n",
            "25       709\n",
            "21       644\n",
            "20       517\n",
            "4        202\n",
            "23       193\n",
            "32       145\n",
            "8        140\n",
            "10       112\n",
            "28       108\n",
            "31        40\n",
            "7         35\n",
            "24         3\n",
            "34         2\n",
            "Name: Shipping Location, dtype: int64\n"
          ]
        }
      ],
      "source": [
        "print(df['Item Code'].unique())\n",
        "print(df['Shipping Location'].value_counts())"
      ]
    },
    {
      "cell_type": "code",
      "execution_count": 23,
      "metadata": {
        "id": "89ZhA-cAD3Tv"
      },
      "outputs": [],
      "source": [
        "df['Item Code'] = df['Item Code'].astype(str)"
      ]
    },
    {
      "cell_type": "code",
      "execution_count": 24,
      "metadata": {
        "colab": {
          "base_uri": "https://localhost:8080/"
        },
        "id": "t7lEdPWOJ1Fa",
        "outputId": "bafbcc3d-f787-4a2f-f4c9-eddfeec72a61"
      },
      "outputs": [
        {
          "output_type": "stream",
          "name": "stdout",
          "text": [
            "CustomerID           133790\n",
            "Item Code                 0\n",
            "InvoieNo                  0\n",
            "Quantity                  0\n",
            "price per Unit            0\n",
            "Price                     0\n",
            "Shipping Location         0\n",
            "Cancelled_status          0\n",
            "Hora                      0\n",
            "Minutos                   0\n",
            "month                     0\n",
            "year                      0\n",
            "day                       0\n",
            "dtype: int64\n"
          ]
        }
      ],
      "source": [
        "print(df.isnull().sum())"
      ]
    },
    {
      "cell_type": "code",
      "execution_count": 25,
      "metadata": {
        "id": "ls8QWeCDLtUN"
      },
      "outputs": [],
      "source": [
        "mean_Customer = df['CustomerID'].mean()\n",
        "df['CustomerID'].fillna(mean_Customer, inplace=True)"
      ]
    },
    {
      "cell_type": "code",
      "execution_count": 26,
      "metadata": {
        "colab": {
          "base_uri": "https://localhost:8080/"
        },
        "id": "m79SlE7oMJDW",
        "outputId": "0fd086e0-b5fd-4b5f-af1a-8159c26cb592"
      },
      "outputs": [
        {
          "output_type": "stream",
          "name": "stdout",
          "text": [
            "CustomerID           0\n",
            "Item Code            0\n",
            "InvoieNo             0\n",
            "Quantity             0\n",
            "price per Unit       0\n",
            "Price                0\n",
            "Shipping Location    0\n",
            "Cancelled_status     0\n",
            "Hora                 0\n",
            "Minutos              0\n",
            "month                0\n",
            "year                 0\n",
            "day                  0\n",
            "dtype: int64\n"
          ]
        }
      ],
      "source": [
        "print(df.isnull().sum())"
      ]
    },
    {
      "cell_type": "code",
      "execution_count": 27,
      "metadata": {
        "id": "hj4f6vMqWaKD",
        "colab": {
          "base_uri": "https://localhost:8080/",
          "height": 70
        },
        "outputId": "3e88824f-e5e6-40fe-bccb-c49d1671dbc0"
      },
      "outputs": [
        {
          "output_type": "execute_result",
          "data": {
            "text/plain": [
              "\"df = df.drop(['CustomerID'], axis =1)\\ndf = df.drop(['InvoieNo'], axis =1)\\ndf = df.drop(['price per Unit'], axis =1)\\ndf = df.drop(['Cancelled_status'], axis =1)\\ndf = df.drop(['month'], axis =1)\\ndf = df.drop(['year'], axis =1)\\ndf = df.drop(['day'], axis =1)\""
            ],
            "application/vnd.google.colaboratory.intrinsic+json": {
              "type": "string"
            }
          },
          "metadata": {},
          "execution_count": 27
        }
      ],
      "source": [
        "#Por eficiencia nos quedamos solo con estas columnas\n",
        "#Item Code\n",
        "#Quantity\n",
        "#Time (convertido a formato numérico)\n",
        "#Price\n",
        "#Shipping Location (convertido a formato numérico)\n",
        "'''df = df.drop(['CustomerID'], axis =1)\n",
        "df = df.drop(['InvoieNo'], axis =1)\n",
        "df = df.drop(['price per Unit'], axis =1)\n",
        "df = df.drop(['Cancelled_status'], axis =1)\n",
        "df = df.drop(['month'], axis =1)\n",
        "df = df.drop(['year'], axis =1)\n",
        "df = df.drop(['day'], axis =1)'''"
      ]
    },
    {
      "cell_type": "code",
      "source": [
        "df = df.sample(n=10000)"
      ],
      "metadata": {
        "id": "Chy2nUxPB_AI"
      },
      "execution_count": 28,
      "outputs": []
    },
    {
      "cell_type": "code",
      "execution_count": 29,
      "metadata": {
        "colab": {
          "base_uri": "https://localhost:8080/"
        },
        "id": "lDfdkmNFYXsg",
        "outputId": "a865683b-8bb6-47ef-f099-eb1e4f971c7e"
      },
      "outputs": [
        {
          "output_type": "stream",
          "name": "stdout",
          "text": [
            "CustomerID           0\n",
            "Item Code            0\n",
            "InvoieNo             0\n",
            "Quantity             0\n",
            "price per Unit       0\n",
            "Price                0\n",
            "Shipping Location    0\n",
            "Cancelled_status     0\n",
            "Hora                 0\n",
            "Minutos              0\n",
            "month                0\n",
            "year                 0\n",
            "day                  0\n",
            "dtype: int64\n"
          ]
        }
      ],
      "source": [
        "print(df.isnull().sum())"
      ]
    },
    {
      "cell_type": "code",
      "execution_count": 30,
      "metadata": {
        "id": "zrD6AVDBDUEF"
      },
      "outputs": [],
      "source": [
        "from sklearn.preprocessing import LabelEncoder\n",
        "labelEncoder = LabelEncoder()\n",
        "df['Item Code'] = labelEncoder.fit_transform(df['Item Code'])"
      ]
    },
    {
      "cell_type": "code",
      "execution_count": 31,
      "metadata": {
        "colab": {
          "base_uri": "https://localhost:8080/"
        },
        "id": "9DgsQnKFD8Fm",
        "outputId": "09d52f9c-094c-4a9d-dc56-658992a2ccd3"
      },
      "outputs": [
        {
          "output_type": "stream",
          "name": "stdout",
          "text": [
            "<class 'pandas.core.frame.DataFrame'>\n",
            "Int64Index: 10000 entries, 93004 to 493859\n",
            "Data columns (total 13 columns):\n",
            " #   Column             Non-Null Count  Dtype  \n",
            "---  ------             --------------  -----  \n",
            " 0   CustomerID         10000 non-null  float64\n",
            " 1   Item Code          10000 non-null  int64  \n",
            " 2   InvoieNo           10000 non-null  int64  \n",
            " 3   Quantity           10000 non-null  int64  \n",
            " 4   price per Unit     10000 non-null  float64\n",
            " 5   Price              10000 non-null  float64\n",
            " 6   Shipping Location  10000 non-null  int64  \n",
            " 7   Cancelled_status   10000 non-null  float64\n",
            " 8   Hora               10000 non-null  int64  \n",
            " 9   Minutos            10000 non-null  int64  \n",
            " 10  month              10000 non-null  int64  \n",
            " 11  year               10000 non-null  int64  \n",
            " 12  day                10000 non-null  int64  \n",
            "dtypes: float64(4), int64(9)\n",
            "memory usage: 1.1 MB\n"
          ]
        }
      ],
      "source": [
        "df.info()"
      ]
    },
    {
      "cell_type": "code",
      "execution_count": 32,
      "metadata": {
        "id": "bWRHtqfSyOhR"
      },
      "outputs": [],
      "source": [
        "import numpy as np\n",
        "import seaborn as sns\n",
        "import seaborn as sns\n",
        "import matplotlib.pyplot as plt"
      ]
    },
    {
      "cell_type": "code",
      "execution_count": 33,
      "metadata": {
        "colab": {
          "base_uri": "https://localhost:8080/",
          "height": 890
        },
        "id": "a0YUq9TPECIZ",
        "outputId": "6e40c95c-8fb5-4fad-d818-4b84ad6d3167"
      },
      "outputs": [
        {
          "output_type": "execute_result",
          "data": {
            "text/plain": [
              "<Axes: title={'center': 'Seaborn'}>"
            ]
          },
          "metadata": {},
          "execution_count": 33
        },
        {
          "output_type": "display_data",
          "data": {
            "text/plain": [
              "<Figure size 1440x1440 with 2 Axes>"
            ],
            "image/png": "[encoded data removed]"
          },
          "metadata": {}
        }
      ],
      "source": [
        "sns.set(style=\"whitegrid\", font_scale=1)\n",
        "plt.figure(figsize=(20,20))\n",
        "plt.title(\"Seaborn\")\n",
        "sns.heatmap(df.corr(),vmax=0.7,annot=True,cmap=\"GnBu\")"
      ]
    },
    {
      "cell_type": "code",
      "execution_count": 34,
      "metadata": {
        "colab": {
          "base_uri": "https://localhost:8080/",
          "height": 538
        },
        "id": "HaDNq74uE4zg",
        "outputId": "4b27c37c-163d-4f4e-8efd-7763e7323650"
      },
      "outputs": [
        {
          "output_type": "execute_result",
          "data": {
            "text/plain": [
              "                     count           mean           std       min        25%  \\\n",
              "CustomerID         10000.0    2189.990568   1083.888315       2.0    1513.00   \n",
              "Item Code          10000.0    1142.741200    654.787964       0.0     616.75   \n",
              "InvoieNo           10000.0  385070.778000  13411.105507  361431.0  373032.50   \n",
              "Quantity           10000.0       9.100600     27.570276    -235.0       1.00   \n",
              "price per Unit     10000.0     374.632800    391.232531       1.0     168.00   \n",
              "Price              10000.0    2122.251400   4473.221964   -8900.0     457.75   \n",
              "Shipping Location  10000.0      34.674000      5.337094       1.0      36.00   \n",
              "Cancelled_status   10000.0       0.014300      0.118730       0.0       0.00   \n",
              "Hora               10000.0      13.104200      2.437978       7.0      11.00   \n",
              "Minutos            10000.0      29.919800     17.016161       0.0      16.00   \n",
              "month              10000.0       7.720900      3.501375       1.0       5.00   \n",
              "year               10000.0    2016.922600      0.267238    2016.0    2017.00   \n",
              "day                10000.0      15.567100      8.430884       1.0       9.00   \n",
              "\n",
              "                             50%        75%       max  \n",
              "CustomerID           2181.909035    2942.25    4372.0  \n",
              "Item Code            1112.500000    1625.25    2428.0  \n",
              "InvoieNo           385661.000000  396780.25  406651.0  \n",
              "Quantity                3.000000      10.00    1440.0  \n",
              "price per Unit        258.000000     450.25    8574.0  \n",
              "Price                1200.000000    2217.75   86832.0  \n",
              "Shipping Location      36.000000      36.00      37.0  \n",
              "Cancelled_status        0.000000       0.00       1.0  \n",
              "Hora                   13.000000      15.00      20.0  \n",
              "Minutos                30.000000      44.00      59.0  \n",
              "month                   8.000000      11.00      12.0  \n",
              "year                 2017.000000    2017.00    2017.0  \n",
              "day                    15.000000      23.00      31.0  "
            ],
            "text/html": [
              "\n",
              "  <div id=\"df-418e1fe3-14cc-4598-9d24-45450f8bf04f\">\n",
              "    <div class=\"colab-df-container\">\n",
              "      <div>\n",
              "<style scoped>\n",
              "    .dataframe tbody tr th:only-of-type {\n",
              "        vertical-align: middle;\n",
              "    }\n",
              "\n",
              "    .dataframe tbody tr th {\n",
              "        vertical-align: top;\n",
              "    }\n",
              "\n",
              "    .dataframe thead th {\n",
              "        text-align: right;\n",
              "    }\n",
              "</style>\n",
              "<table border=\"1\" class=\"dataframe\">\n",
              "  <thead>\n",
              "    <tr style=\"text-align: right;\">\n",
              "      <th></th>\n",
              "      <th>count</th>\n",
              "      <th>mean</th>\n",
              "      <th>std</th>\n",
              "      <th>min</th>\n",
              "      <th>25%</th>\n",
              "      <th>50%</th>\n",
              "      <th>75%</th>\n",
              "      <th>max</th>\n",
              "    </tr>\n",
              "  </thead>\n",
              "  <tbody>\n",
              "    <tr>\n",
              "      <th>CustomerID</th>\n",
              "      <td>10000.0</td>\n",
              "      <td>2189.990568</td>\n",
              "      <td>1083.888315</td>\n",
              "      <td>2.0</td>\n",
              "      <td>1513.00</td>\n",
              "      <td>2181.909035</td>\n",
              "      <td>2942.25</td>\n",
              "      <td>4372.0</td>\n",
              "    </tr>\n",
              "    <tr>\n",
              "      <th>Item Code</th>\n",
              "      <td>10000.0</td>\n",
              "      <td>1142.741200</td>\n",
              "      <td>654.787964</td>\n",
              "      <td>0.0</td>\n",
              "      <td>616.75</td>\n",
              "      <td>1112.500000</td>\n",
              "      <td>1625.25</td>\n",
              "      <td>2428.0</td>\n",
              "    </tr>\n",
              "    <tr>\n",
              "      <th>InvoieNo</th>\n",
              "      <td>10000.0</td>\n",
              "      <td>385070.778000</td>\n",
              "      <td>13411.105507</td>\n",
              "      <td>361431.0</td>\n",
              "      <td>373032.50</td>\n",
              "      <td>385661.000000</td>\n",
              "      <td>396780.25</td>\n",
              "      <td>406651.0</td>\n",
              "    </tr>\n",
              "    <tr>\n",
              "      <th>Quantity</th>\n",
              "      <td>10000.0</td>\n",
              "      <td>9.100600</td>\n",
              "      <td>27.570276</td>\n",
              "      <td>-235.0</td>\n",
              "      <td>1.00</td>\n",
              "      <td>3.000000</td>\n",
              "      <td>10.00</td>\n",
              "      <td>1440.0</td>\n",
              "    </tr>\n",
              "    <tr>\n",
              "      <th>price per Unit</th>\n",
              "      <td>10000.0</td>\n",
              "      <td>374.632800</td>\n",
              "      <td>391.232531</td>\n",
              "      <td>1.0</td>\n",
              "      <td>168.00</td>\n",
              "      <td>258.000000</td>\n",
              "      <td>450.25</td>\n",
              "      <td>8574.0</td>\n",
              "    </tr>\n",
              "    <tr>\n",
              "      <th>Price</th>\n",
              "      <td>10000.0</td>\n",
              "      <td>2122.251400</td>\n",
              "      <td>4473.221964</td>\n",
              "      <td>-8900.0</td>\n",
              "      <td>457.75</td>\n",
              "      <td>1200.000000</td>\n",
              "      <td>2217.75</td>\n",
              "      <td>86832.0</td>\n",
              "    </tr>\n",
              "    <tr>\n",
              "      <th>Shipping Location</th>\n",
              "      <td>10000.0</td>\n",
              "      <td>34.674000</td>\n",
              "      <td>5.337094</td>\n",
              "      <td>1.0</td>\n",
              "      <td>36.00</td>\n",
              "      <td>36.000000</td>\n",
              "      <td>36.00</td>\n",
              "      <td>37.0</td>\n",
              "    </tr>\n",
              "    <tr>\n",
              "      <th>Cancelled_status</th>\n",
              "      <td>10000.0</td>\n",
              "      <td>0.014300</td>\n",
              "      <td>0.118730</td>\n",
              "      <td>0.0</td>\n",
              "      <td>0.00</td>\n",
              "      <td>0.000000</td>\n",
              "      <td>0.00</td>\n",
              "      <td>1.0</td>\n",
              "    </tr>\n",
              "    <tr>\n",
              "      <th>Hora</th>\n",
              "      <td>10000.0</td>\n",
              "      <td>13.104200</td>\n",
              "      <td>2.437978</td>\n",
              "      <td>7.0</td>\n",
              "      <td>11.00</td>\n",
              "      <td>13.000000</td>\n",
              "      <td>15.00</td>\n",
              "      <td>20.0</td>\n",
              "    </tr>\n",
              "    <tr>\n",
              "      <th>Minutos</th>\n",
              "      <td>10000.0</td>\n",
              "      <td>29.919800</td>\n",
              "      <td>17.016161</td>\n",
              "      <td>0.0</td>\n",
              "      <td>16.00</td>\n",
              "      <td>30.000000</td>\n",
              "      <td>44.00</td>\n",
              "      <td>59.0</td>\n",
              "    </tr>\n",
              "    <tr>\n",
              "      <th>month</th>\n",
              "      <td>10000.0</td>\n",
              "      <td>7.720900</td>\n",
              "      <td>3.501375</td>\n",
              "      <td>1.0</td>\n",
              "      <td>5.00</td>\n",
              "      <td>8.000000</td>\n",
              "      <td>11.00</td>\n",
              "      <td>12.0</td>\n",
              "    </tr>\n",
              "    <tr>\n",
              "      <th>year</th>\n",
              "      <td>10000.0</td>\n",
              "      <td>2016.922600</td>\n",
              "      <td>0.267238</td>\n",
              "      <td>2016.0</td>\n",
              "      <td>2017.00</td>\n",
              "      <td>2017.000000</td>\n",
              "      <td>2017.00</td>\n",
              "      <td>2017.0</td>\n",
              "    </tr>\n",
              "    <tr>\n",
              "      <th>day</th>\n",
              "      <td>10000.0</td>\n",
              "      <td>15.567100</td>\n",
              "      <td>8.430884</td>\n",
              "      <td>1.0</td>\n",
              "      <td>9.00</td>\n",
              "      <td>15.000000</td>\n",
              "      <td>23.00</td>\n",
              "      <td>31.0</td>\n",
              "    </tr>\n",
              "  </tbody>\n",
              "</table>\n",
              "</div>\n",
              "      <button class=\"colab-df-convert\" onclick=\"convertToInteractive('df-418e1fe3-14cc-4598-9d24-45450f8bf04f')\"\n",
              "              title=\"Convert this dataframe to an interactive table.\"\n",
              "              style=\"display:none;\">\n",
              "        \n",
              "  <svg xmlns=\"http://www.w3.org/2000/svg\" height=\"24px\"viewBox=\"0 0 24 24\"\n",
              "       width=\"24px\">\n",
              "    <path d=\"M0 0h24v24H0V0z\" fill=\"none\"/>\n",
              "    <path d=\"M18.56 5.44l.94 2.06.94-2.06 2.06-.94-2.06-.94-.94-2.06-.94 2.06-2.06.94zm-11 1L8.5 8.5l.94-2.06 2.06-.94-2.06-.94L8.5 2.5l-.94 2.06-2.06.94zm10 10l.94 2.06.94-2.06 2.06-.94-2.06-.94-.94-2.06-.94 2.06-2.06.94z\"/><path d=\"M17.41 7.96l-1.37-1.37c-.4-.4-.92-.59-1.43-.59-.52 0-1.04.2-1.43.59L10.3 9.45l-7.72 7.72c-.78.78-.78 2.05 0 2.83L4 21.41c.39.39.9.59 1.41.59.51 0 1.02-.2 1.41-.59l7.78-7.78 2.81-2.81c.8-.78.8-2.07 0-2.86zM5.41 20L4 18.59l7.72-7.72 1.47 1.35L5.41 20z\"/>\n",
              "  </svg>\n",
              "      </button>\n",
              "      \n",
              "  <style>\n",
              "    .colab-df-container {\n",
              "      display:flex;\n",
              "      flex-wrap:wrap;\n",
              "      gap: 12px;\n",
              "    }\n",
              "\n",
              "    .colab-df-convert {\n",
              "      background-color: #E8F0FE;\n",
              "      border: none;\n",
              "      border-radius: 50%;\n",
              "      cursor: pointer;\n",
              "      display: none;\n",
              "      fill: #1967D2;\n",
              "      height: 32px;\n",
              "      padding: 0 0 0 0;\n",
              "      width: 32px;\n",
              "    }\n",
              "\n",
              "    .colab-df-convert:hover {\n",
              "      background-color: #E2EBFA;\n",
              "      box-shadow: 0px 1px 2px rgba(60, 64, 67, 0.3), 0px 1px 3px 1px rgba(60, 64, 67, 0.15);\n",
              "      fill: #174EA6;\n",
              "    }\n",
              "\n",
              "    [theme=dark] .colab-df-convert {\n",
              "      background-color: #3B4455;\n",
              "      fill: #D2E3FC;\n",
              "    }\n",
              "\n",
              "    [theme=dark] .colab-df-convert:hover {\n",
              "      background-color: #434B5C;\n",
              "      box-shadow: 0px 1px 3px 1px rgba(0, 0, 0, 0.15);\n",
              "      filter: drop-shadow(0px 1px 2px rgba(0, 0, 0, 0.3));\n",
              "      fill: #FFFFFF;\n",
              "    }\n",
              "  </style>\n",
              "\n",
              "      <script>\n",
              "        const buttonEl =\n",
              "          document.querySelector('#df-418e1fe3-14cc-4598-9d24-45450f8bf04f button.colab-df-convert');\n",
              "        buttonEl.style.display =\n",
              "          google.colab.kernel.accessAllowed ? 'block' : 'none';\n",
              "\n",
              "        async function convertToInteractive(key) {\n",
              "          const element = document.querySelector('#df-418e1fe3-14cc-4598-9d24-45450f8bf04f');\n",
              "          const dataTable =\n",
              "            await google.colab.kernel.invokeFunction('convertToInteractive',\n",
              "                                                     [key], {});\n",
              "          if (!dataTable) return;\n",
              "\n",
              "          const docLinkHtml = 'Like what you see? Visit the ' +\n",
              "            '<a target=\"_blank\" href=https://colab.research.google.com/notebooks/data_table.ipynb>data table notebook</a>'\n",
              "            + ' to learn more about interactive tables.';\n",
              "          element.innerHTML = '';\n",
              "          dataTable['output_type'] = 'display_data';\n",
              "          await google.colab.output.renderOutput(dataTable, element);\n",
              "          const docLink = document.createElement('div');\n",
              "          docLink.innerHTML = docLinkHtml;\n",
              "          element.appendChild(docLink);\n",
              "        }\n",
              "      </script>\n",
              "    </div>\n",
              "  </div>\n",
              "  "
            ]
          },
          "metadata": {},
          "execution_count": 34
        }
      ],
      "source": [
        "df.describe().transpose()"
      ]
    },
    {
      "cell_type": "code",
      "execution_count": 35,
      "metadata": {
        "id": "NS_DI_J6FL2Y"
      },
      "outputs": [],
      "source": [
        "from imblearn.over_sampling import RandomOverSampler , SMOTE\n",
        "from imblearn.under_sampling import RandomUnderSampler"
      ]
    },
    {
      "cell_type": "code",
      "execution_count": 36,
      "metadata": {
        "colab": {
          "base_uri": "https://localhost:8080/",
          "height": 835
        },
        "id": "rBWJrSY6FO5b",
        "outputId": "db88fd9a-9838-48d4-b088-6af805df375f"
      },
      "outputs": [
        {
          "output_type": "display_data",
          "data": {
            "text/plain": [
              "<Figure size 1080x1080 with 12 Axes>"
            ],
            "image/png": "[encoded data removed]"
          },
          "metadata": {}
        }
      ],
      "source": [
        "plt.figure(figsize=(15,15))\n",
        "c = df.columns[:-1]\n",
        "\n",
        "for i in enumerate(c):\n",
        "  plt.subplot(4,3,i[0]+1)\n",
        "  sns.boxplot(x=i[1],data=df)"
      ]
    },
    {
      "cell_type": "code",
      "execution_count": 37,
      "metadata": {
        "colab": {
          "base_uri": "https://localhost:8080/"
        },
        "id": "XcHQA5HLGKW_",
        "outputId": "adf4d026-0f39-4f24-8789-f49cd1e327f7"
      },
      "outputs": [
        {
          "output_type": "stream",
          "name": "stderr",
          "text": [
            "<ipython-input-37-8eb6eaf5293c>:4: SettingWithCopyWarning: \n",
            "A value is trying to be set on a copy of a slice from a DataFrame\n",
            "\n",
            "See the caveats in the documentation: https://pandas.pydata.org/pandas-docs/stable/user_guide/indexing.html#returning-a-view-versus-a-copy\n",
            "  df[i][df[i]<=q1] = q1\n",
            "<ipython-input-37-8eb6eaf5293c>:5: SettingWithCopyWarning: \n",
            "A value is trying to be set on a copy of a slice from a DataFrame\n",
            "\n",
            "See the caveats in the documentation: https://pandas.pydata.org/pandas-docs/stable/user_guide/indexing.html#returning-a-view-versus-a-copy\n",
            "  df[i][df[i]>=q4] = q4\n",
            "<ipython-input-37-8eb6eaf5293c>:4: SettingWithCopyWarning: \n",
            "A value is trying to be set on a copy of a slice from a DataFrame\n",
            "\n",
            "See the caveats in the documentation: https://pandas.pydata.org/pandas-docs/stable/user_guide/indexing.html#returning-a-view-versus-a-copy\n",
            "  df[i][df[i]<=q1] = q1\n",
            "<ipython-input-37-8eb6eaf5293c>:5: SettingWithCopyWarning: \n",
            "A value is trying to be set on a copy of a slice from a DataFrame\n",
            "\n",
            "See the caveats in the documentation: https://pandas.pydata.org/pandas-docs/stable/user_guide/indexing.html#returning-a-view-versus-a-copy\n",
            "  df[i][df[i]>=q4] = q4\n"
          ]
        }
      ],
      "source": [
        "for i in c:\n",
        "  q1 = df[i].quantile(0.04) # Valor\n",
        "  q4 = df[i].quantile(0.96)\n",
        "  df[i][df[i]<=q1] = q1\n",
        "  df[i][df[i]>=q4] = q4"
      ]
    },
    {
      "cell_type": "code",
      "execution_count": 38,
      "metadata": {
        "colab": {
          "base_uri": "https://localhost:8080/",
          "height": 835
        },
        "id": "69v31gITGn2s",
        "outputId": "7fe91193-acf4-4010-9e81-17779c63ad8e"
      },
      "outputs": [
        {
          "output_type": "display_data",
          "data": {
            "text/plain": [
              "<Figure size 1080x1080 with 12 Axes>"
            ],
            "image/png": "[encoded data removed]"
          },
          "metadata": {}
        }
      ],
      "source": [
        "plt.figure(figsize=(15,15))\n",
        "c = df.columns[:-1]\n",
        "\n",
        "for i in enumerate(c):\n",
        "  plt.subplot(4,3,i[0]+1)\n",
        "  sns.boxplot(x=i[1],data=df)"
      ]
    },
    {
      "cell_type": "code",
      "execution_count": 39,
      "metadata": {
        "id": "c4NsAirIHC05"
      },
      "outputs": [],
      "source": [
        "from sklearn.preprocessing import MinMaxScaler"
      ]
    },
    {
      "cell_type": "code",
      "execution_count": 40,
      "metadata": {
        "id": "0LZAJbZ2HFlI"
      },
      "outputs": [],
      "source": [
        "scaler = MinMaxScaler()"
      ]
    },
    {
      "cell_type": "code",
      "execution_count": 41,
      "metadata": {
        "id": "V6FJOJbwHIWH"
      },
      "outputs": [],
      "source": [
        "df_scaler = scaler.fit_transform(df)\n",
        "df_scaler = pd.DataFrame(df_scaler)\n",
        "df_scaler.columns = df.columns"
      ]
    },
    {
      "cell_type": "code",
      "execution_count": 42,
      "metadata": {
        "colab": {
          "base_uri": "https://localhost:8080/"
        },
        "id": "5eTkNzM1HKUT",
        "outputId": "daac5d44-e9cf-48a4-bc46-98e1684b0d20"
      },
      "outputs": [
        {
          "output_type": "stream",
          "name": "stdout",
          "text": [
            "Looking in indexes: https://pypi.org/simple, https://us-python.pkg.dev/colab-wheels/public/simple/\n",
            "Requirement already satisfied: pyclustertend in /usr/local/lib/python3.8/dist-packages (1.8.2)\n",
            "Requirement already satisfied: scikit-learn<2.0.0,>=1.1.2 in /usr/local/lib/python3.8/dist-packages (from pyclustertend) (1.2.1)\n",
            "Requirement already satisfied: pandas<2.0.0,>=1.2.0 in /usr/local/lib/python3.8/dist-packages (from pyclustertend) (1.3.5)\n",
            "Requirement already satisfied: numpy==1.20.3 in /usr/local/lib/python3.8/dist-packages (from pyclustertend) (1.20.3)\n",
            "Requirement already satisfied: matplotlib<4.0.0,>=3.3.3 in /usr/local/lib/python3.8/dist-packages (from pyclustertend) (3.7.0)\n",
            "Requirement already satisfied: numba<0.55.0,>=0.54.1 in /usr/local/lib/python3.8/dist-packages (from pyclustertend) (0.54.1)\n",
            "Requirement already satisfied: kiwisolver>=1.0.1 in /usr/local/lib/python3.8/dist-packages (from matplotlib<4.0.0,>=3.3.3->pyclustertend) (1.4.4)\n",
            "Requirement already satisfied: pillow>=6.2.0 in /usr/local/lib/python3.8/dist-packages (from matplotlib<4.0.0,>=3.3.3->pyclustertend) (7.1.2)\n",
            "Requirement already satisfied: python-dateutil>=2.7 in /usr/local/lib/python3.8/dist-packages (from matplotlib<4.0.0,>=3.3.3->pyclustertend) (2.8.2)\n",
            "Requirement already satisfied: fonttools>=4.22.0 in /usr/local/lib/python3.8/dist-packages (from matplotlib<4.0.0,>=3.3.3->pyclustertend) (4.38.0)\n",
            "Requirement already satisfied: pyparsing>=2.3.1 in /usr/local/lib/python3.8/dist-packages (from matplotlib<4.0.0,>=3.3.3->pyclustertend) (3.0.9)\n",
            "Requirement already satisfied: cycler>=0.10 in /usr/local/lib/python3.8/dist-packages (from matplotlib<4.0.0,>=3.3.3->pyclustertend) (0.11.0)\n",
            "Requirement already satisfied: packaging>=20.0 in /usr/local/lib/python3.8/dist-packages (from matplotlib<4.0.0,>=3.3.3->pyclustertend) (23.0)\n",
            "Requirement already satisfied: contourpy>=1.0.1 in /usr/local/lib/python3.8/dist-packages (from matplotlib<4.0.0,>=3.3.3->pyclustertend) (1.0.7)\n",
            "Requirement already satisfied: importlib-resources>=3.2.0 in /usr/local/lib/python3.8/dist-packages (from matplotlib<4.0.0,>=3.3.3->pyclustertend) (5.10.2)\n",
            "Requirement already satisfied: setuptools in /usr/local/lib/python3.8/dist-packages (from numba<0.55.0,>=0.54.1->pyclustertend) (57.4.0)\n",
            "Requirement already satisfied: llvmlite<0.38,>=0.37.0rc1 in /usr/local/lib/python3.8/dist-packages (from numba<0.55.0,>=0.54.1->pyclustertend) (0.37.0)\n",
            "Requirement already satisfied: pytz>=2017.3 in /usr/local/lib/python3.8/dist-packages (from pandas<2.0.0,>=1.2.0->pyclustertend) (2022.7.1)\n",
            "Requirement already satisfied: scipy>=1.3.2 in /usr/local/lib/python3.8/dist-packages (from scikit-learn<2.0.0,>=1.1.2->pyclustertend) (1.7.3)\n",
            "Requirement already satisfied: joblib>=1.1.1 in /usr/local/lib/python3.8/dist-packages (from scikit-learn<2.0.0,>=1.1.2->pyclustertend) (1.2.0)\n",
            "Requirement already satisfied: threadpoolctl>=2.0.0 in /usr/local/lib/python3.8/dist-packages (from scikit-learn<2.0.0,>=1.1.2->pyclustertend) (3.1.0)\n",
            "Requirement already satisfied: zipp>=3.1.0 in /usr/local/lib/python3.8/dist-packages (from importlib-resources>=3.2.0->matplotlib<4.0.0,>=3.3.3->pyclustertend) (3.12.1)\n",
            "Requirement already satisfied: six>=1.5 in /usr/local/lib/python3.8/dist-packages (from python-dateutil>=2.7->matplotlib<4.0.0,>=3.3.3->pyclustertend) (1.15.0)\n"
          ]
        }
      ],
      "source": [
        "!pip install pyclustertend"
      ]
    },
    {
      "cell_type": "code",
      "execution_count": 43,
      "metadata": {
        "id": "-8jYwRX6HNKP"
      },
      "outputs": [],
      "source": [
        "from pyclustertend import hopkins "
      ]
    },
    {
      "cell_type": "code",
      "execution_count": 44,
      "metadata": {
        "colab": {
          "base_uri": "https://localhost:8080/"
        },
        "id": "E_4Xyc6dJSBr",
        "outputId": "9673627b-bd35-4c37-ddfb-a6e5e84df16c"
      },
      "outputs": [
        {
          "output_type": "stream",
          "name": "stdout",
          "text": [
            "<class 'pandas.core.frame.DataFrame'>\n",
            "Int64Index: 10000 entries, 93004 to 493859\n",
            "Data columns (total 13 columns):\n",
            " #   Column             Non-Null Count  Dtype  \n",
            "---  ------             --------------  -----  \n",
            " 0   CustomerID         10000 non-null  float64\n",
            " 1   Item Code          10000 non-null  int64  \n",
            " 2   InvoieNo           10000 non-null  float64\n",
            " 3   Quantity           10000 non-null  int64  \n",
            " 4   price per Unit     10000 non-null  float64\n",
            " 5   Price              10000 non-null  float64\n",
            " 6   Shipping Location  10000 non-null  int64  \n",
            " 7   Cancelled_status   10000 non-null  float64\n",
            " 8   Hora               10000 non-null  int64  \n",
            " 9   Minutos            10000 non-null  int64  \n",
            " 10  month              10000 non-null  int64  \n",
            " 11  year               10000 non-null  int64  \n",
            " 12  day                10000 non-null  int64  \n",
            "dtypes: float64(5), int64(8)\n",
            "memory usage: 1.1 MB\n"
          ]
        }
      ],
      "source": [
        "df.info()"
      ]
    },
    {
      "cell_type": "code",
      "execution_count": 45,
      "metadata": {
        "colab": {
          "base_uri": "https://localhost:8080/"
        },
        "id": "3-MsLCq9HP6_",
        "outputId": "ac5a5f99-b9ed-4746-a0ec-3028b698b55c"
      },
      "outputs": [
        {
          "output_type": "execute_result",
          "data": {
            "text/plain": [
              "0.25060984027210087"
            ]
          },
          "metadata": {},
          "execution_count": 45
        }
      ],
      "source": [
        "hopkins(df_scaler,df_scaler.shape[0])\n",
        "#El valor debe ser lo mas proximo a 0"
      ]
    },
    {
      "cell_type": "code",
      "execution_count": 46,
      "metadata": {
        "id": "OZiIUEfcNkQt"
      },
      "outputs": [],
      "source": [
        "from yellowbrick.cluster import KElbowVisualizer"
      ]
    },
    {
      "cell_type": "code",
      "execution_count": 47,
      "metadata": {
        "id": "7jKW6g1POKu3"
      },
      "outputs": [],
      "source": [
        "from sklearn.cluster import KMeans"
      ]
    },
    {
      "cell_type": "code",
      "execution_count": 48,
      "metadata": {
        "colab": {
          "base_uri": "https://localhost:8080/",
          "height": 919
        },
        "id": "LuehLFP9OQqV",
        "outputId": "f414c5d4-eeb1-487b-9d18-174f4f954f56"
      },
      "outputs": [
        {
          "output_type": "stream",
          "name": "stderr",
          "text": [
            "/usr/local/lib/python3.8/dist-packages/sklearn/cluster/_kmeans.py:870: FutureWarning: The default value of `n_init` will change from 10 to 'auto' in 1.4. Set the value of `n_init` explicitly to suppress the warning\n",
            "  warnings.warn(\n",
            "/usr/local/lib/python3.8/dist-packages/sklearn/cluster/_kmeans.py:870: FutureWarning: The default value of `n_init` will change from 10 to 'auto' in 1.4. Set the value of `n_init` explicitly to suppress the warning\n",
            "  warnings.warn(\n",
            "/usr/local/lib/python3.8/dist-packages/sklearn/cluster/_kmeans.py:870: FutureWarning: The default value of `n_init` will change from 10 to 'auto' in 1.4. Set the value of `n_init` explicitly to suppress the warning\n",
            "  warnings.warn(\n",
            "/usr/local/lib/python3.8/dist-packages/sklearn/cluster/_kmeans.py:870: FutureWarning: The default value of `n_init` will change from 10 to 'auto' in 1.4. Set the value of `n_init` explicitly to suppress the warning\n",
            "  warnings.warn(\n",
            "/usr/local/lib/python3.8/dist-packages/sklearn/cluster/_kmeans.py:870: FutureWarning: The default value of `n_init` will change from 10 to 'auto' in 1.4. Set the value of `n_init` explicitly to suppress the warning\n",
            "  warnings.warn(\n",
            "/usr/local/lib/python3.8/dist-packages/sklearn/cluster/_kmeans.py:870: FutureWarning: The default value of `n_init` will change from 10 to 'auto' in 1.4. Set the value of `n_init` explicitly to suppress the warning\n",
            "  warnings.warn(\n",
            "/usr/local/lib/python3.8/dist-packages/sklearn/cluster/_kmeans.py:870: FutureWarning: The default value of `n_init` will change from 10 to 'auto' in 1.4. Set the value of `n_init` explicitly to suppress the warning\n",
            "  warnings.warn(\n",
            "/usr/local/lib/python3.8/dist-packages/sklearn/cluster/_kmeans.py:870: FutureWarning: The default value of `n_init` will change from 10 to 'auto' in 1.4. Set the value of `n_init` explicitly to suppress the warning\n",
            "  warnings.warn(\n",
            "/usr/local/lib/python3.8/dist-packages/sklearn/cluster/_kmeans.py:870: FutureWarning: The default value of `n_init` will change from 10 to 'auto' in 1.4. Set the value of `n_init` explicitly to suppress the warning\n",
            "  warnings.warn(\n",
            "/usr/local/lib/python3.8/dist-packages/sklearn/cluster/_kmeans.py:870: FutureWarning: The default value of `n_init` will change from 10 to 'auto' in 1.4. Set the value of `n_init` explicitly to suppress the warning\n",
            "  warnings.warn(\n",
            "/usr/local/lib/python3.8/dist-packages/sklearn/cluster/_kmeans.py:870: FutureWarning: The default value of `n_init` will change from 10 to 'auto' in 1.4. Set the value of `n_init` explicitly to suppress the warning\n",
            "  warnings.warn(\n",
            "/usr/local/lib/python3.8/dist-packages/sklearn/cluster/_kmeans.py:870: FutureWarning: The default value of `n_init` will change from 10 to 'auto' in 1.4. Set the value of `n_init` explicitly to suppress the warning\n",
            "  warnings.warn(\n",
            "/usr/local/lib/python3.8/dist-packages/sklearn/cluster/_kmeans.py:870: FutureWarning: The default value of `n_init` will change from 10 to 'auto' in 1.4. Set the value of `n_init` explicitly to suppress the warning\n",
            "  warnings.warn(\n",
            "/usr/local/lib/python3.8/dist-packages/sklearn/cluster/_kmeans.py:870: FutureWarning: The default value of `n_init` will change from 10 to 'auto' in 1.4. Set the value of `n_init` explicitly to suppress the warning\n",
            "  warnings.warn(\n"
          ]
        },
        {
          "output_type": "display_data",
          "data": {
            "text/plain": [
              "<Figure size 576x396 with 2 Axes>"
            ],
            "image/png": "[encoded data removed]"
          },
          "metadata": {}
        },
        {
          "output_type": "execute_result",
          "data": {
            "text/plain": [
              "<Axes: title={'center': 'Distortion Score Elbow for KMeans Clustering'}, xlabel='k', ylabel='distortion score'>"
            ]
          },
          "metadata": {},
          "execution_count": 48
        }
      ],
      "source": [
        "feature = df_scaler.iloc[:,:]\n",
        "kmeans = KMeans()\n",
        "visualizador = KElbowVisualizer(kmeans, k=(1,15))\n",
        "visualizador.fit(feature)\n",
        "visualizador.poof()\n",
        "#El naranja es el tiempo de ejecucion, la linea azul debe formar un codo significativo \n",
        "#EL tiempo de ejecucion se debe considerar segun la cantidad de datos "
      ]
    },
    {
      "cell_type": "code",
      "execution_count": 49,
      "metadata": {
        "id": "dQpPrwGTb4Dh"
      },
      "outputs": [],
      "source": [
        "from sklearn.metrics import silhouette_score"
      ]
    },
    {
      "cell_type": "code",
      "execution_count": 50,
      "metadata": {
        "colab": {
          "base_uri": "https://localhost:8080/",
          "height": 836
        },
        "id": "zqVJvfKlb7_m",
        "outputId": "0733b46e-c106-422d-fe0e-120e7b8bae25"
      },
      "outputs": [
        {
          "output_type": "stream",
          "name": "stderr",
          "text": [
            "/usr/local/lib/python3.8/dist-packages/sklearn/cluster/_kmeans.py:870: FutureWarning: The default value of `n_init` will change from 10 to 'auto' in 1.4. Set the value of `n_init` explicitly to suppress the warning\n",
            "  warnings.warn(\n",
            "/usr/local/lib/python3.8/dist-packages/sklearn/cluster/_kmeans.py:870: FutureWarning: The default value of `n_init` will change from 10 to 'auto' in 1.4. Set the value of `n_init` explicitly to suppress the warning\n",
            "  warnings.warn(\n",
            "/usr/local/lib/python3.8/dist-packages/sklearn/cluster/_kmeans.py:870: FutureWarning: The default value of `n_init` will change from 10 to 'auto' in 1.4. Set the value of `n_init` explicitly to suppress the warning\n",
            "  warnings.warn(\n",
            "/usr/local/lib/python3.8/dist-packages/sklearn/cluster/_kmeans.py:870: FutureWarning: The default value of `n_init` will change from 10 to 'auto' in 1.4. Set the value of `n_init` explicitly to suppress the warning\n",
            "  warnings.warn(\n",
            "/usr/local/lib/python3.8/dist-packages/sklearn/cluster/_kmeans.py:870: FutureWarning: The default value of `n_init` will change from 10 to 'auto' in 1.4. Set the value of `n_init` explicitly to suppress the warning\n",
            "  warnings.warn(\n",
            "/usr/local/lib/python3.8/dist-packages/sklearn/cluster/_kmeans.py:870: FutureWarning: The default value of `n_init` will change from 10 to 'auto' in 1.4. Set the value of `n_init` explicitly to suppress the warning\n",
            "  warnings.warn(\n",
            "/usr/local/lib/python3.8/dist-packages/sklearn/cluster/_kmeans.py:870: FutureWarning: The default value of `n_init` will change from 10 to 'auto' in 1.4. Set the value of `n_init` explicitly to suppress the warning\n",
            "  warnings.warn(\n",
            "/usr/local/lib/python3.8/dist-packages/sklearn/cluster/_kmeans.py:870: FutureWarning: The default value of `n_init` will change from 10 to 'auto' in 1.4. Set the value of `n_init` explicitly to suppress the warning\n",
            "  warnings.warn(\n",
            "/usr/local/lib/python3.8/dist-packages/sklearn/cluster/_kmeans.py:870: FutureWarning: The default value of `n_init` will change from 10 to 'auto' in 1.4. Set the value of `n_init` explicitly to suppress the warning\n",
            "  warnings.warn(\n",
            "/usr/local/lib/python3.8/dist-packages/sklearn/cluster/_kmeans.py:870: FutureWarning: The default value of `n_init` will change from 10 to 'auto' in 1.4. Set the value of `n_init` explicitly to suppress the warning\n",
            "  warnings.warn(\n",
            "/usr/local/lib/python3.8/dist-packages/sklearn/cluster/_kmeans.py:870: FutureWarning: The default value of `n_init` will change from 10 to 'auto' in 1.4. Set the value of `n_init` explicitly to suppress the warning\n",
            "  warnings.warn(\n",
            "/usr/local/lib/python3.8/dist-packages/sklearn/cluster/_kmeans.py:870: FutureWarning: The default value of `n_init` will change from 10 to 'auto' in 1.4. Set the value of `n_init` explicitly to suppress the warning\n",
            "  warnings.warn(\n",
            "/usr/local/lib/python3.8/dist-packages/sklearn/cluster/_kmeans.py:870: FutureWarning: The default value of `n_init` will change from 10 to 'auto' in 1.4. Set the value of `n_init` explicitly to suppress the warning\n",
            "  warnings.warn(\n"
          ]
        },
        {
          "output_type": "execute_result",
          "data": {
            "text/plain": [
              "[<matplotlib.lines.Line2D at 0x7f879be319d0>]"
            ]
          },
          "metadata": {},
          "execution_count": 50
        },
        {
          "output_type": "display_data",
          "data": {
            "text/plain": [
              "<Figure size 576x396 with 1 Axes>"
            ],
            "image/png": "[encoded data removed]"
          },
          "metadata": {}
        }
      ],
      "source": [
        "si = []\n",
        "for i in range(2,15):\n",
        "  kmeans = KMeans(n_clusters=i, random_state=0).fit(df_scaler)\n",
        "  si.append([i,silhouette_score(df_scaler,kmeans.labels_)])\n",
        "si = pd.DataFrame(si)\n",
        "plt.plot(si[0],si[1])\n",
        "\n",
        "#EN la silueta se toma el valor mas alto"
      ]
    },
    {
      "cell_type": "code",
      "execution_count": 51,
      "metadata": {
        "id": "Oh8LXC_RcFSz"
      },
      "outputs": [],
      "source": [
        "import scipy.cluster.hierarchy as sch"
      ]
    },
    {
      "cell_type": "code",
      "execution_count": 52,
      "metadata": {
        "id": "Mrew7RgTcHWN",
        "colab": {
          "base_uri": "https://localhost:8080/",
          "height": 348
        },
        "outputId": "88ffb408-d3b5-4330-fd2d-bd256134fb02"
      },
      "outputs": [
        {
          "output_type": "display_data",
          "data": {
            "text/plain": [
              "<Figure size 576x396 with 1 Axes>"
            ],
            "image/png": "[encoded data removed]"
          },
          "metadata": {}
        }
      ],
      "source": [
        "dendogram = sch.dendrogram(sch.linkage(df_scaler,method='ward',metric='euclidean'))"
      ]
    },
    {
      "cell_type": "code",
      "execution_count": 59,
      "metadata": {
        "id": "sdjxDs_of4HM",
        "colab": {
          "base_uri": "https://localhost:8080/",
          "height": 129
        },
        "outputId": "0da97ea5-285a-4402-f4c2-e2e5b78447bf"
      },
      "outputs": [
        {
          "output_type": "stream",
          "name": "stderr",
          "text": [
            "/usr/local/lib/python3.8/dist-packages/sklearn/cluster/_kmeans.py:870: FutureWarning: The default value of `n_init` will change from 10 to 'auto' in 1.4. Set the value of `n_init` explicitly to suppress the warning\n",
            "  warnings.warn(\n"
          ]
        },
        {
          "output_type": "execute_result",
          "data": {
            "text/plain": [
              "KMeans(n_clusters=4, random_state=0)"
            ],
            "text/html": [
              "<style>#sk-container-id-2 {color: black;background-color: white;}#sk-container-id-2 pre{padding: 0;}#sk-container-id-2 div.sk-toggleable {background-color: white;}#sk-container-id-2 label.sk-toggleable__label {cursor: pointer;display: block;width: 100%;margin-bottom: 0;padding: 0.3em;box-sizing: border-box;text-align: center;}#sk-container-id-2 label.sk-toggleable__label-arrow:before {content: \"▸\";float: left;margin-right: 0.25em;color: #696969;}#sk-container-id-2 label.sk-toggleable__label-arrow:hover:before {color: black;}#sk-container-id-2 div.sk-estimator:hover label.sk-toggleable__label-arrow:before {color: black;}#sk-container-id-2 div.sk-toggleable__content {max-height: 0;max-width: 0;overflow: hidden;text-align: left;background-color: #f0f8ff;}#sk-container-id-2 div.sk-toggleable__content pre {margin: 0.2em;color: black;border-radius: 0.25em;background-color: #f0f8ff;}#sk-container-id-2 input.sk-toggleable__control:checked~div.sk-toggleable__content {max-height: 200px;max-width: 100%;overflow: auto;}#sk-container-id-2 input.sk-toggleable__control:checked~label.sk-toggleable__label-arrow:before {content: \"▾\";}#sk-container-id-2 div.sk-estimator input.sk-toggleable__control:checked~label.sk-toggleable__label {background-color: #d4ebff;}#sk-container-id-2 div.sk-label input.sk-toggleable__control:checked~label.sk-toggleable__label {background-color: #d4ebff;}#sk-container-id-2 input.sk-hidden--visually {border: 0;clip: rect(1px 1px 1px 1px);clip: rect(1px, 1px, 1px, 1px);height: 1px;margin: -1px;overflow: hidden;padding: 0;position: absolute;width: 1px;}#sk-container-id-2 div.sk-estimator {font-family: monospace;background-color: #f0f8ff;border: 1px dotted black;border-radius: 0.25em;box-sizing: border-box;margin-bottom: 0.5em;}#sk-container-id-2 div.sk-estimator:hover {background-color: #d4ebff;}#sk-container-id-2 div.sk-parallel-item::after {content: \"\";width: 100%;border-bottom: 1px solid gray;flex-grow: 1;}#sk-container-id-2 div.sk-label:hover label.sk-toggleable__label {background-color: #d4ebff;}#sk-container-id-2 div.sk-serial::before {content: \"\";position: absolute;border-left: 1px solid gray;box-sizing: border-box;top: 0;bottom: 0;left: 50%;z-index: 0;}#sk-container-id-2 div.sk-serial {display: flex;flex-direction: column;align-items: center;background-color: white;padding-right: 0.2em;padding-left: 0.2em;position: relative;}#sk-container-id-2 div.sk-item {position: relative;z-index: 1;}#sk-container-id-2 div.sk-parallel {display: flex;align-items: stretch;justify-content: center;background-color: white;position: relative;}#sk-container-id-2 div.sk-item::before, #sk-container-id-2 div.sk-parallel-item::before {content: \"\";position: absolute;border-left: 1px solid gray;box-sizing: border-box;top: 0;bottom: 0;left: 50%;z-index: -1;}#sk-container-id-2 div.sk-parallel-item {display: flex;flex-direction: column;z-index: 1;position: relative;background-color: white;}#sk-container-id-2 div.sk-parallel-item:first-child::after {align-self: flex-end;width: 50%;}#sk-container-id-2 div.sk-parallel-item:last-child::after {align-self: flex-start;width: 50%;}#sk-container-id-2 div.sk-parallel-item:only-child::after {width: 0;}#sk-container-id-2 div.sk-dashed-wrapped {border: 1px dashed gray;margin: 0 0.4em 0.5em 0.4em;box-sizing: border-box;padding-bottom: 0.4em;background-color: white;}#sk-container-id-2 div.sk-label label {font-family: monospace;font-weight: bold;display: inline-block;line-height: 1.2em;}#sk-container-id-2 div.sk-label-container {text-align: center;}#sk-container-id-2 div.sk-container {/* jupyter's `normalize.less` sets `[hidden] { display: none; }` but bootstrap.min.css set `[hidden] { display: none !important; }` so we also need the `!important` here to be able to override the default hidden behavior on the sphinx rendered scikit-learn.org. See: https://github.com/scikit-learn/scikit-learn/issues/21755 */display: inline-block !important;position: relative;}#sk-container-id-2 div.sk-text-repr-fallback {display: none;}</style><div id=\"sk-container-id-2\" class=\"sk-top-container\"><div class=\"sk-text-repr-fallback\"><pre>KMeans(n_clusters=4, random_state=0)</pre><b>In a Jupyter environment, please rerun this cell to show the HTML representation or trust the notebook. <br />On GitHub, the HTML representation is unable to render, please try loading this page with nbviewer.org.</b></div><div class=\"sk-container\" hidden><div class=\"sk-item\"><div class=\"sk-estimator sk-toggleable\"><input class=\"sk-toggleable__control sk-hidden--visually\" id=\"sk-estimator-id-2\" type=\"checkbox\" checked><label for=\"sk-estimator-id-2\" class=\"sk-toggleable__label sk-toggleable__label-arrow\">KMeans</label><div class=\"sk-toggleable__content\"><pre>KMeans(n_clusters=4, random_state=0)</pre></div></div></div></div></div>"
            ]
          },
          "metadata": {},
          "execution_count": 59
        }
      ],
      "source": [
        "kmeans = KMeans(n_clusters=4,random_state=0)\n",
        "kmeans.fit(df_scaler)"
      ]
    },
    {
      "cell_type": "code",
      "execution_count": 60,
      "metadata": {
        "id": "Lu9vwvuFf7yo",
        "colab": {
          "base_uri": "https://localhost:8080/"
        },
        "outputId": "48b1ea97-bca4-48d9-dd8d-6a83912a3359"
      },
      "outputs": [
        {
          "output_type": "execute_result",
          "data": {
            "text/plain": [
              "array([0, 1, 1, ..., 3, 3, 1], dtype=int32)"
            ]
          },
          "metadata": {},
          "execution_count": 60
        }
      ],
      "source": [
        "kmeans.labels_"
      ]
    },
    {
      "cell_type": "code",
      "execution_count": 61,
      "metadata": {
        "id": "B_SXZa4BgEtw"
      },
      "outputs": [],
      "source": [
        "df['label'] = kmeans.labels_"
      ]
    },
    {
      "cell_type": "code",
      "execution_count": 62,
      "metadata": {
        "id": "3OycmVmZgIkv",
        "colab": {
          "base_uri": "https://localhost:8080/"
        },
        "outputId": "d557c86e-ab8c-4515-b8dd-0d6c232d46a0"
      },
      "outputs": [
        {
          "output_type": "execute_result",
          "data": {
            "text/plain": [
              "3    4433\n",
              "1    3613\n",
              "2    1180\n",
              "0     774\n",
              "Name: label, dtype: int64"
            ]
          },
          "metadata": {},
          "execution_count": 62
        }
      ],
      "source": [
        "df['label'].value_counts()"
      ]
    },
    {
      "cell_type": "code",
      "execution_count": 63,
      "metadata": {
        "id": "TEW2yZFQgJAk",
        "colab": {
          "base_uri": "https://localhost:8080/",
          "height": 287
        },
        "outputId": "2943c26e-f14f-40d2-b561-573b51bb10a1"
      },
      "outputs": [
        {
          "output_type": "execute_result",
          "data": {
            "text/plain": [
              "        CustomerID    Item Code       InvoieNo   Quantity  price per Unit  \\\n",
              "label                                                                       \n",
              "0      2262.055141  1060.076227  363611.434109   6.343669      389.905013   \n",
              "1      2214.473422  1036.642402  374971.263493   4.471630      378.502995   \n",
              "2      1902.526225  1189.255085  386342.878508  24.442373      247.615288   \n",
              "3      2232.113373  1231.222648  396726.693066   4.479359      353.054627   \n",
              "\n",
              "             Price  Shipping Location  Cancelled_status       Hora    Minutos  \\\n",
              "label                                                                           \n",
              "0      1760.381499          34.904393               0.0  13.166667  31.736434   \n",
              "1      1296.978943          34.840022               0.0  13.166067  28.918627   \n",
              "2      5114.592000          34.711017               0.0  12.089831  30.112712   \n",
              "3      1221.799062          34.837807               0.0  13.279269  30.377622   \n",
              "\n",
              "           month    year        day  \n",
              "label                                \n",
              "0      12.000000  2016.0  15.652455  \n",
              "1       4.002491  2017.0  16.647938  \n",
              "2       7.277966  2017.0  15.930508  \n",
              "3      10.122265  2017.0  14.574554  "
            ],
            "text/html": [
              "\n",
              "  <div id=\"df-92f7e273-51ea-4f95-a48a-de2994b0a9ab\">\n",
              "    <div class=\"colab-df-container\">\n",
              "      <div>\n",
              "<style scoped>\n",
              "    .dataframe tbody tr th:only-of-type {\n",
              "        vertical-align: middle;\n",
              "    }\n",
              "\n",
              "    .dataframe tbody tr th {\n",
              "        vertical-align: top;\n",
              "    }\n",
              "\n",
              "    .dataframe thead th {\n",
              "        text-align: right;\n",
              "    }\n",
              "</style>\n",
              "<table border=\"1\" class=\"dataframe\">\n",
              "  <thead>\n",
              "    <tr style=\"text-align: right;\">\n",
              "      <th></th>\n",
              "      <th>CustomerID</th>\n",
              "      <th>Item Code</th>\n",
              "      <th>InvoieNo</th>\n",
              "      <th>Quantity</th>\n",
              "      <th>price per Unit</th>\n",
              "      <th>Price</th>\n",
              "      <th>Shipping Location</th>\n",
              "      <th>Cancelled_status</th>\n",
              "      <th>Hora</th>\n",
              "      <th>Minutos</th>\n",
              "      <th>month</th>\n",
              "      <th>year</th>\n",
              "      <th>day</th>\n",
              "    </tr>\n",
              "    <tr>\n",
              "      <th>label</th>\n",
              "      <th></th>\n",
              "      <th></th>\n",
              "      <th></th>\n",
              "      <th></th>\n",
              "      <th></th>\n",
              "      <th></th>\n",
              "      <th></th>\n",
              "      <th></th>\n",
              "      <th></th>\n",
              "      <th></th>\n",
              "      <th></th>\n",
              "      <th></th>\n",
              "      <th></th>\n",
              "    </tr>\n",
              "  </thead>\n",
              "  <tbody>\n",
              "    <tr>\n",
              "      <th>0</th>\n",
              "      <td>2262.055141</td>\n",
              "      <td>1060.076227</td>\n",
              "      <td>363611.434109</td>\n",
              "      <td>6.343669</td>\n",
              "      <td>389.905013</td>\n",
              "      <td>1760.381499</td>\n",
              "      <td>34.904393</td>\n",
              "      <td>0.0</td>\n",
              "      <td>13.166667</td>\n",
              "      <td>31.736434</td>\n",
              "      <td>12.000000</td>\n",
              "      <td>2016.0</td>\n",
              "      <td>15.652455</td>\n",
              "    </tr>\n",
              "    <tr>\n",
              "      <th>1</th>\n",
              "      <td>2214.473422</td>\n",
              "      <td>1036.642402</td>\n",
              "      <td>374971.263493</td>\n",
              "      <td>4.471630</td>\n",
              "      <td>378.502995</td>\n",
              "      <td>1296.978943</td>\n",
              "      <td>34.840022</td>\n",
              "      <td>0.0</td>\n",
              "      <td>13.166067</td>\n",
              "      <td>28.918627</td>\n",
              "      <td>4.002491</td>\n",
              "      <td>2017.0</td>\n",
              "      <td>16.647938</td>\n",
              "    </tr>\n",
              "    <tr>\n",
              "      <th>2</th>\n",
              "      <td>1902.526225</td>\n",
              "      <td>1189.255085</td>\n",
              "      <td>386342.878508</td>\n",
              "      <td>24.442373</td>\n",
              "      <td>247.615288</td>\n",
              "      <td>5114.592000</td>\n",
              "      <td>34.711017</td>\n",
              "      <td>0.0</td>\n",
              "      <td>12.089831</td>\n",
              "      <td>30.112712</td>\n",
              "      <td>7.277966</td>\n",
              "      <td>2017.0</td>\n",
              "      <td>15.930508</td>\n",
              "    </tr>\n",
              "    <tr>\n",
              "      <th>3</th>\n",
              "      <td>2232.113373</td>\n",
              "      <td>1231.222648</td>\n",
              "      <td>396726.693066</td>\n",
              "      <td>4.479359</td>\n",
              "      <td>353.054627</td>\n",
              "      <td>1221.799062</td>\n",
              "      <td>34.837807</td>\n",
              "      <td>0.0</td>\n",
              "      <td>13.279269</td>\n",
              "      <td>30.377622</td>\n",
              "      <td>10.122265</td>\n",
              "      <td>2017.0</td>\n",
              "      <td>14.574554</td>\n",
              "    </tr>\n",
              "  </tbody>\n",
              "</table>\n",
              "</div>\n",
              "      <button class=\"colab-df-convert\" onclick=\"convertToInteractive('df-92f7e273-51ea-4f95-a48a-de2994b0a9ab')\"\n",
              "              title=\"Convert this dataframe to an interactive table.\"\n",
              "              style=\"display:none;\">\n",
              "        \n",
              "  <svg xmlns=\"http://www.w3.org/2000/svg\" height=\"24px\"viewBox=\"0 0 24 24\"\n",
              "       width=\"24px\">\n",
              "    <path d=\"M0 0h24v24H0V0z\" fill=\"none\"/>\n",
              "    <path d=\"M18.56 5.44l.94 2.06.94-2.06 2.06-.94-2.06-.94-.94-2.06-.94 2.06-2.06.94zm-11 1L8.5 8.5l.94-2.06 2.06-.94-2.06-.94L8.5 2.5l-.94 2.06-2.06.94zm10 10l.94 2.06.94-2.06 2.06-.94-2.06-.94-.94-2.06-.94 2.06-2.06.94z\"/><path d=\"M17.41 7.96l-1.37-1.37c-.4-.4-.92-.59-1.43-.59-.52 0-1.04.2-1.43.59L10.3 9.45l-7.72 7.72c-.78.78-.78 2.05 0 2.83L4 21.41c.39.39.9.59 1.41.59.51 0 1.02-.2 1.41-.59l7.78-7.78 2.81-2.81c.8-.78.8-2.07 0-2.86zM5.41 20L4 18.59l7.72-7.72 1.47 1.35L5.41 20z\"/>\n",
              "  </svg>\n",
              "      </button>\n",
              "      \n",
              "  <style>\n",
              "    .colab-df-container {\n",
              "      display:flex;\n",
              "      flex-wrap:wrap;\n",
              "      gap: 12px;\n",
              "    }\n",
              "\n",
              "    .colab-df-convert {\n",
              "      background-color: #E8F0FE;\n",
              "      border: none;\n",
              "      border-radius: 50%;\n",
              "      cursor: pointer;\n",
              "      display: none;\n",
              "      fill: #1967D2;\n",
              "      height: 32px;\n",
              "      padding: 0 0 0 0;\n",
              "      width: 32px;\n",
              "    }\n",
              "\n",
              "    .colab-df-convert:hover {\n",
              "      background-color: #E2EBFA;\n",
              "      box-shadow: 0px 1px 2px rgba(60, 64, 67, 0.3), 0px 1px 3px 1px rgba(60, 64, 67, 0.15);\n",
              "      fill: #174EA6;\n",
              "    }\n",
              "\n",
              "    [theme=dark] .colab-df-convert {\n",
              "      background-color: #3B4455;\n",
              "      fill: #D2E3FC;\n",
              "    }\n",
              "\n",
              "    [theme=dark] .colab-df-convert:hover {\n",
              "      background-color: #434B5C;\n",
              "      box-shadow: 0px 1px 3px 1px rgba(0, 0, 0, 0.15);\n",
              "      filter: drop-shadow(0px 1px 2px rgba(0, 0, 0, 0.3));\n",
              "      fill: #FFFFFF;\n",
              "    }\n",
              "  </style>\n",
              "\n",
              "      <script>\n",
              "        const buttonEl =\n",
              "          document.querySelector('#df-92f7e273-51ea-4f95-a48a-de2994b0a9ab button.colab-df-convert');\n",
              "        buttonEl.style.display =\n",
              "          google.colab.kernel.accessAllowed ? 'block' : 'none';\n",
              "\n",
              "        async function convertToInteractive(key) {\n",
              "          const element = document.querySelector('#df-92f7e273-51ea-4f95-a48a-de2994b0a9ab');\n",
              "          const dataTable =\n",
              "            await google.colab.kernel.invokeFunction('convertToInteractive',\n",
              "                                                     [key], {});\n",
              "          if (!dataTable) return;\n",
              "\n",
              "          const docLinkHtml = 'Like what you see? Visit the ' +\n",
              "            '<a target=\"_blank\" href=https://colab.research.google.com/notebooks/data_table.ipynb>data table notebook</a>'\n",
              "            + ' to learn more about interactive tables.';\n",
              "          element.innerHTML = '';\n",
              "          dataTable['output_type'] = 'display_data';\n",
              "          await google.colab.output.renderOutput(dataTable, element);\n",
              "          const docLink = document.createElement('div');\n",
              "          docLink.innerHTML = docLinkHtml;\n",
              "          element.appendChild(docLink);\n",
              "        }\n",
              "      </script>\n",
              "    </div>\n",
              "  </div>\n",
              "  "
            ]
          },
          "metadata": {},
          "execution_count": 63
        }
      ],
      "source": [
        "df.groupby('label').mean()"
      ]
    },
    {
      "cell_type": "code",
      "execution_count": 64,
      "metadata": {
        "id": "TrXLxl0qgOT9"
      },
      "outputs": [],
      "source": [
        "df.to_excel('ANS.xlsx')"
      ]
    }
  ],
  "metadata": {
    "colab": {
      "provenance": []
    },
    "kernelspec": {
      "display_name": "Python 3",
      "name": "python3"
    },
    "language_info": {
      "name": "python"
    }
  },
  "nbformat": 4,
  "nbformat_minor": 0
}