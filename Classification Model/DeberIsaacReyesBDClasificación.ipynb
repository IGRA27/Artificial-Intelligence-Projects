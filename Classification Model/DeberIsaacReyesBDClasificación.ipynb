{
  "nbformat": 4,
  "nbformat_minor": 0,
  "metadata": {
    "colab": {
      "provenance": []
    },
    "kernelspec": {
      "name": "python3",
      "display_name": "Python 3"
    },
    "language_info": {
      "name": "python"
    }
  },
  "cells": [
    {
      "cell_type": "code",
      "source": [
        "!pip install fancyimpute"
      ],
      "metadata": {
        "colab": {
          "base_uri": "https://localhost:8080/"
        },
        "id": "fKSkczonn9LZ",
        "outputId": "4f490894-e3dc-4ef5-f5e2-b141018d9d50"
      },
      "execution_count": 1,
      "outputs": [
        {
          "output_type": "stream",
          "name": "stdout",
          "text": [
            "Looking in indexes: https://pypi.org/simple, https://us-python.pkg.dev/colab-wheels/public/simple/\n",
            "Requirement already satisfied: fancyimpute in /usr/local/lib/python3.8/dist-packages (0.7.0)\n",
            "Requirement already satisfied: knnimpute>=0.1.0 in /usr/local/lib/python3.8/dist-packages (from fancyimpute) (0.1.0)\n",
            "Requirement already satisfied: scikit-learn>=0.24.2 in /usr/local/lib/python3.8/dist-packages (from fancyimpute) (1.0.2)\n",
            "Requirement already satisfied: cvxpy in /usr/local/lib/python3.8/dist-packages (from fancyimpute) (1.2.3)\n",
            "Requirement already satisfied: pytest in /usr/local/lib/python3.8/dist-packages (from fancyimpute) (3.6.4)\n",
            "Requirement already satisfied: nose in /usr/local/lib/python3.8/dist-packages (from fancyimpute) (1.3.7)\n",
            "Requirement already satisfied: cvxopt in /usr/local/lib/python3.8/dist-packages (from fancyimpute) (1.3.0)\n",
            "Requirement already satisfied: six in /usr/local/lib/python3.8/dist-packages (from knnimpute>=0.1.0->fancyimpute) (1.15.0)\n",
            "Requirement already satisfied: numpy>=1.10 in /usr/local/lib/python3.8/dist-packages (from knnimpute>=0.1.0->fancyimpute) (1.21.6)\n",
            "Requirement already satisfied: joblib>=0.11 in /usr/local/lib/python3.8/dist-packages (from scikit-learn>=0.24.2->fancyimpute) (1.2.0)\n",
            "Requirement already satisfied: scipy>=1.1.0 in /usr/local/lib/python3.8/dist-packages (from scikit-learn>=0.24.2->fancyimpute) (1.7.3)\n",
            "Requirement already satisfied: threadpoolctl>=2.0.0 in /usr/local/lib/python3.8/dist-packages (from scikit-learn>=0.24.2->fancyimpute) (3.1.0)\n",
            "Requirement already satisfied: osqp>=0.4.1 in /usr/local/lib/python3.8/dist-packages (from cvxpy->fancyimpute) (0.6.2.post0)\n",
            "Requirement already satisfied: scs>=1.1.6 in /usr/local/lib/python3.8/dist-packages (from cvxpy->fancyimpute) (3.2.2)\n",
            "Requirement already satisfied: ecos>=2 in /usr/local/lib/python3.8/dist-packages (from cvxpy->fancyimpute) (2.0.12)\n",
            "Requirement already satisfied: setuptools<=64.0.2 in /usr/local/lib/python3.8/dist-packages (from cvxpy->fancyimpute) (57.4.0)\n",
            "Requirement already satisfied: atomicwrites>=1.0 in /usr/local/lib/python3.8/dist-packages (from pytest->fancyimpute) (1.4.1)\n",
            "Requirement already satisfied: more-itertools>=4.0.0 in /usr/local/lib/python3.8/dist-packages (from pytest->fancyimpute) (9.0.0)\n",
            "Requirement already satisfied: attrs>=17.4.0 in /usr/local/lib/python3.8/dist-packages (from pytest->fancyimpute) (22.2.0)\n",
            "Requirement already satisfied: pluggy<0.8,>=0.5 in /usr/local/lib/python3.8/dist-packages (from pytest->fancyimpute) (0.7.1)\n",
            "Requirement already satisfied: py>=1.5.0 in /usr/local/lib/python3.8/dist-packages (from pytest->fancyimpute) (1.11.0)\n",
            "Requirement already satisfied: qdldl in /usr/local/lib/python3.8/dist-packages (from osqp>=0.4.1->cvxpy->fancyimpute) (0.1.5.post2)\n"
          ]
        }
      ]
    },
    {
      "cell_type": "markdown",
      "source": [
        "***ISAAC REYES***"
      ],
      "metadata": {
        "id": "103U5zc-ZxA5"
      }
    },
    {
      "cell_type": "code",
      "execution_count": 2,
      "metadata": {
        "id": "oLZv7vURlWIb"
      },
      "outputs": [],
      "source": [
        "import pandas as pd\n",
        "import matplotlib.pyplot as plt\n",
        "import seaborn as sns\n",
        "from imblearn.over_sampling import RandomOverSampler, SMOTE\n",
        "from imblearn.under_sampling import RandomUnderSampler\n",
        "from keras.utils import to_categorical\n",
        "import missingno as msno\n",
        "from sklearn.preprocessing import LabelEncoder, MinMaxScaler\n",
        "from sklearn.impute import SimpleImputer\n",
        "from fancyimpute import IterativeImputer as MICE\n",
        "from tensorflow.keras.models import Sequential\n",
        "from tensorflow.keras.layers import Dense\n",
        "from tensorflow.keras.layers import Activation\n",
        "from enum import EnumMeta\n",
        "from sklearn.model_selection import train_test_split\n",
        "from sklearn.metrics import classification_report, confusion_matrix\n",
        "import seaborn as sns"
      ]
    },
    {
      "cell_type": "code",
      "source": [
        "df=pd.read_csv('Bengaluru_House_Data.csv',delimiter = \",\")\n",
        "df"
      ],
      "metadata": {
        "colab": {
          "base_uri": "https://localhost:8080/",
          "height": 641
        },
        "id": "kn0YrigXlb1q",
        "outputId": "4bd694d0-2f81-4e0f-8655-045d30062179"
      },
      "execution_count": 3,
      "outputs": [
        {
          "output_type": "execute_result",
          "data": {
            "text/plain": [
              "                  area_type   availability                  location  \\\n",
              "0      Super built-up  Area         19-Dec  Electronic City Phase II   \n",
              "1                Plot  Area  Ready To Move          Chikka Tirupathi   \n",
              "2            Built-up  Area  Ready To Move               Uttarahalli   \n",
              "3      Super built-up  Area  Ready To Move        Lingadheeranahalli   \n",
              "4      Super built-up  Area  Ready To Move                  Kothanur   \n",
              "...                     ...            ...                       ...   \n",
              "13315        Built-up  Area  Ready To Move                Whitefield   \n",
              "13316  Super built-up  Area  Ready To Move             Richards Town   \n",
              "13317        Built-up  Area  Ready To Move     Raja Rajeshwari Nagar   \n",
              "13318  Super built-up  Area         18-Jun           Padmanabhanagar   \n",
              "13319  Super built-up  Area  Ready To Move              Doddathoguru   \n",
              "\n",
              "            size  society total_sqft  bath  balcony   price  \n",
              "0          2 BHK  Coomee        1056   2.0      1.0   39.07  \n",
              "1      4 Bedroom  Theanmp       2600   5.0      3.0  120.00  \n",
              "2          3 BHK      NaN       1440   2.0      3.0   62.00  \n",
              "3          3 BHK  Soiewre       1521   3.0      1.0   95.00  \n",
              "4          2 BHK      NaN       1200   2.0      1.0   51.00  \n",
              "...          ...      ...        ...   ...      ...     ...  \n",
              "13315  5 Bedroom  ArsiaEx       3453   4.0      0.0  231.00  \n",
              "13316      4 BHK      NaN       3600   5.0      NaN  400.00  \n",
              "13317      2 BHK  Mahla T       1141   2.0      1.0   60.00  \n",
              "13318      4 BHK  SollyCl       4689   4.0      1.0  488.00  \n",
              "13319      1 BHK      NaN        550   1.0      1.0   17.00  \n",
              "\n",
              "[13320 rows x 9 columns]"
            ],
            "text/html": [
              "\n",
              "  <div id=\"df-341f3fe2-828a-48a4-8bac-29676b2b0e1a\">\n",
              "    <div class=\"colab-df-container\">\n",
              "      <div>\n",
              "<style scoped>\n",
              "    .dataframe tbody tr th:only-of-type {\n",
              "        vertical-align: middle;\n",
              "    }\n",
              "\n",
              "    .dataframe tbody tr th {\n",
              "        vertical-align: top;\n",
              "    }\n",
              "\n",
              "    .dataframe thead th {\n",
              "        text-align: right;\n",
              "    }\n",
              "</style>\n",
              "<table border=\"1\" class=\"dataframe\">\n",
              "  <thead>\n",
              "    <tr style=\"text-align: right;\">\n",
              "      <th></th>\n",
              "      <th>area_type</th>\n",
              "      <th>availability</th>\n",
              "      <th>location</th>\n",
              "      <th>size</th>\n",
              "      <th>society</th>\n",
              "      <th>total_sqft</th>\n",
              "      <th>bath</th>\n",
              "      <th>balcony</th>\n",
              "      <th>price</th>\n",
              "    </tr>\n",
              "  </thead>\n",
              "  <tbody>\n",
              "    <tr>\n",
              "      <th>0</th>\n",
              "      <td>Super built-up  Area</td>\n",
              "      <td>19-Dec</td>\n",
              "      <td>Electronic City Phase II</td>\n",
              "      <td>2 BHK</td>\n",
              "      <td>Coomee</td>\n",
              "      <td>1056</td>\n",
              "      <td>2.0</td>\n",
              "      <td>1.0</td>\n",
              "      <td>39.07</td>\n",
              "    </tr>\n",
              "    <tr>\n",
              "      <th>1</th>\n",
              "      <td>Plot  Area</td>\n",
              "      <td>Ready To Move</td>\n",
              "      <td>Chikka Tirupathi</td>\n",
              "      <td>4 Bedroom</td>\n",
              "      <td>Theanmp</td>\n",
              "      <td>2600</td>\n",
              "      <td>5.0</td>\n",
              "      <td>3.0</td>\n",
              "      <td>120.00</td>\n",
              "    </tr>\n",
              "    <tr>\n",
              "      <th>2</th>\n",
              "      <td>Built-up  Area</td>\n",
              "      <td>Ready To Move</td>\n",
              "      <td>Uttarahalli</td>\n",
              "      <td>3 BHK</td>\n",
              "      <td>NaN</td>\n",
              "      <td>1440</td>\n",
              "      <td>2.0</td>\n",
              "      <td>3.0</td>\n",
              "      <td>62.00</td>\n",
              "    </tr>\n",
              "    <tr>\n",
              "      <th>3</th>\n",
              "      <td>Super built-up  Area</td>\n",
              "      <td>Ready To Move</td>\n",
              "      <td>Lingadheeranahalli</td>\n",
              "      <td>3 BHK</td>\n",
              "      <td>Soiewre</td>\n",
              "      <td>1521</td>\n",
              "      <td>3.0</td>\n",
              "      <td>1.0</td>\n",
              "      <td>95.00</td>\n",
              "    </tr>\n",
              "    <tr>\n",
              "      <th>4</th>\n",
              "      <td>Super built-up  Area</td>\n",
              "      <td>Ready To Move</td>\n",
              "      <td>Kothanur</td>\n",
              "      <td>2 BHK</td>\n",
              "      <td>NaN</td>\n",
              "      <td>1200</td>\n",
              "      <td>2.0</td>\n",
              "      <td>1.0</td>\n",
              "      <td>51.00</td>\n",
              "    </tr>\n",
              "    <tr>\n",
              "      <th>...</th>\n",
              "      <td>...</td>\n",
              "      <td>...</td>\n",
              "      <td>...</td>\n",
              "      <td>...</td>\n",
              "      <td>...</td>\n",
              "      <td>...</td>\n",
              "      <td>...</td>\n",
              "      <td>...</td>\n",
              "      <td>...</td>\n",
              "    </tr>\n",
              "    <tr>\n",
              "      <th>13315</th>\n",
              "      <td>Built-up  Area</td>\n",
              "      <td>Ready To Move</td>\n",
              "      <td>Whitefield</td>\n",
              "      <td>5 Bedroom</td>\n",
              "      <td>ArsiaEx</td>\n",
              "      <td>3453</td>\n",
              "      <td>4.0</td>\n",
              "      <td>0.0</td>\n",
              "      <td>231.00</td>\n",
              "    </tr>\n",
              "    <tr>\n",
              "      <th>13316</th>\n",
              "      <td>Super built-up  Area</td>\n",
              "      <td>Ready To Move</td>\n",
              "      <td>Richards Town</td>\n",
              "      <td>4 BHK</td>\n",
              "      <td>NaN</td>\n",
              "      <td>3600</td>\n",
              "      <td>5.0</td>\n",
              "      <td>NaN</td>\n",
              "      <td>400.00</td>\n",
              "    </tr>\n",
              "    <tr>\n",
              "      <th>13317</th>\n",
              "      <td>Built-up  Area</td>\n",
              "      <td>Ready To Move</td>\n",
              "      <td>Raja Rajeshwari Nagar</td>\n",
              "      <td>2 BHK</td>\n",
              "      <td>Mahla T</td>\n",
              "      <td>1141</td>\n",
              "      <td>2.0</td>\n",
              "      <td>1.0</td>\n",
              "      <td>60.00</td>\n",
              "    </tr>\n",
              "    <tr>\n",
              "      <th>13318</th>\n",
              "      <td>Super built-up  Area</td>\n",
              "      <td>18-Jun</td>\n",
              "      <td>Padmanabhanagar</td>\n",
              "      <td>4 BHK</td>\n",
              "      <td>SollyCl</td>\n",
              "      <td>4689</td>\n",
              "      <td>4.0</td>\n",
              "      <td>1.0</td>\n",
              "      <td>488.00</td>\n",
              "    </tr>\n",
              "    <tr>\n",
              "      <th>13319</th>\n",
              "      <td>Super built-up  Area</td>\n",
              "      <td>Ready To Move</td>\n",
              "      <td>Doddathoguru</td>\n",
              "      <td>1 BHK</td>\n",
              "      <td>NaN</td>\n",
              "      <td>550</td>\n",
              "      <td>1.0</td>\n",
              "      <td>1.0</td>\n",
              "      <td>17.00</td>\n",
              "    </tr>\n",
              "  </tbody>\n",
              "</table>\n",
              "<p>13320 rows × 9 columns</p>\n",
              "</div>\n",
              "      <button class=\"colab-df-convert\" onclick=\"convertToInteractive('df-341f3fe2-828a-48a4-8bac-29676b2b0e1a')\"\n",
              "              title=\"Convert this dataframe to an interactive table.\"\n",
              "              style=\"display:none;\">\n",
              "        \n",
              "  <svg xmlns=\"http://www.w3.org/2000/svg\" height=\"24px\"viewBox=\"0 0 24 24\"\n",
              "       width=\"24px\">\n",
              "    <path d=\"M0 0h24v24H0V0z\" fill=\"none\"/>\n",
              "    <path d=\"M18.56 5.44l.94 2.06.94-2.06 2.06-.94-2.06-.94-.94-2.06-.94 2.06-2.06.94zm-11 1L8.5 8.5l.94-2.06 2.06-.94-2.06-.94L8.5 2.5l-.94 2.06-2.06.94zm10 10l.94 2.06.94-2.06 2.06-.94-2.06-.94-.94-2.06-.94 2.06-2.06.94z\"/><path d=\"M17.41 7.96l-1.37-1.37c-.4-.4-.92-.59-1.43-.59-.52 0-1.04.2-1.43.59L10.3 9.45l-7.72 7.72c-.78.78-.78 2.05 0 2.83L4 21.41c.39.39.9.59 1.41.59.51 0 1.02-.2 1.41-.59l7.78-7.78 2.81-2.81c.8-.78.8-2.07 0-2.86zM5.41 20L4 18.59l7.72-7.72 1.47 1.35L5.41 20z\"/>\n",
              "  </svg>\n",
              "      </button>\n",
              "      \n",
              "  <style>\n",
              "    .colab-df-container {\n",
              "      display:flex;\n",
              "      flex-wrap:wrap;\n",
              "      gap: 12px;\n",
              "    }\n",
              "\n",
              "    .colab-df-convert {\n",
              "      background-color: #E8F0FE;\n",
              "      border: none;\n",
              "      border-radius: 50%;\n",
              "      cursor: pointer;\n",
              "      display: none;\n",
              "      fill: #1967D2;\n",
              "      height: 32px;\n",
              "      padding: 0 0 0 0;\n",
              "      width: 32px;\n",
              "    }\n",
              "\n",
              "    .colab-df-convert:hover {\n",
              "      background-color: #E2EBFA;\n",
              "      box-shadow: 0px 1px 2px rgba(60, 64, 67, 0.3), 0px 1px 3px 1px rgba(60, 64, 67, 0.15);\n",
              "      fill: #174EA6;\n",
              "    }\n",
              "\n",
              "    [theme=dark] .colab-df-convert {\n",
              "      background-color: #3B4455;\n",
              "      fill: #D2E3FC;\n",
              "    }\n",
              "\n",
              "    [theme=dark] .colab-df-convert:hover {\n",
              "      background-color: #434B5C;\n",
              "      box-shadow: 0px 1px 3px 1px rgba(0, 0, 0, 0.15);\n",
              "      filter: drop-shadow(0px 1px 2px rgba(0, 0, 0, 0.3));\n",
              "      fill: #FFFFFF;\n",
              "    }\n",
              "  </style>\n",
              "\n",
              "      <script>\n",
              "        const buttonEl =\n",
              "          document.querySelector('#df-341f3fe2-828a-48a4-8bac-29676b2b0e1a button.colab-df-convert');\n",
              "        buttonEl.style.display =\n",
              "          google.colab.kernel.accessAllowed ? 'block' : 'none';\n",
              "\n",
              "        async function convertToInteractive(key) {\n",
              "          const element = document.querySelector('#df-341f3fe2-828a-48a4-8bac-29676b2b0e1a');\n",
              "          const dataTable =\n",
              "            await google.colab.kernel.invokeFunction('convertToInteractive',\n",
              "                                                     [key], {});\n",
              "          if (!dataTable) return;\n",
              "\n",
              "          const docLinkHtml = 'Like what you see? Visit the ' +\n",
              "            '<a target=\"_blank\" href=https://colab.research.google.com/notebooks/data_table.ipynb>data table notebook</a>'\n",
              "            + ' to learn more about interactive tables.';\n",
              "          element.innerHTML = '';\n",
              "          dataTable['output_type'] = 'display_data';\n",
              "          await google.colab.output.renderOutput(dataTable, element);\n",
              "          const docLink = document.createElement('div');\n",
              "          docLink.innerHTML = docLinkHtml;\n",
              "          element.appendChild(docLink);\n",
              "        }\n",
              "      </script>\n",
              "    </div>\n",
              "  </div>\n",
              "  "
            ]
          },
          "metadata": {},
          "execution_count": 3
        }
      ]
    },
    {
      "cell_type": "code",
      "source": [
        "df.info()"
      ],
      "metadata": {
        "colab": {
          "base_uri": "https://localhost:8080/"
        },
        "id": "FQd03aE_lbqm",
        "outputId": "bc37d1af-cff7-41a3-821a-ed2bf6f966a2"
      },
      "execution_count": 4,
      "outputs": [
        {
          "output_type": "stream",
          "name": "stdout",
          "text": [
            "<class 'pandas.core.frame.DataFrame'>\n",
            "RangeIndex: 13320 entries, 0 to 13319\n",
            "Data columns (total 9 columns):\n",
            " #   Column        Non-Null Count  Dtype  \n",
            "---  ------        --------------  -----  \n",
            " 0   area_type     13320 non-null  object \n",
            " 1   availability  13240 non-null  object \n",
            " 2   location      13239 non-null  object \n",
            " 3   size          13224 non-null  object \n",
            " 4   society       7818 non-null   object \n",
            " 5   total_sqft    13240 non-null  object \n",
            " 6   bath          13167 non-null  float64\n",
            " 7   balcony       12635 non-null  float64\n",
            " 8   price         13240 non-null  float64\n",
            "dtypes: float64(3), object(6)\n",
            "memory usage: 936.7+ KB\n"
          ]
        }
      ]
    },
    {
      "cell_type": "code",
      "source": [
        "df.describe().transpose()"
      ],
      "metadata": {
        "colab": {
          "base_uri": "https://localhost:8080/",
          "height": 143
        },
        "id": "R4z_5GsxluOA",
        "outputId": "3e9d0676-c888-4c35-e201-a33b122aa8b8"
      },
      "execution_count": 5,
      "outputs": [
        {
          "output_type": "execute_result",
          "data": {
            "text/plain": [
              "           count        mean         std  min   25%   50%    75%     max\n",
              "bath     13167.0    2.691501    1.343284  1.0   2.0   2.0    3.0    40.0\n",
              "balcony  12635.0    1.583854    0.817913  0.0   1.0   2.0    2.0     3.0\n",
              "price    13240.0  112.493455  149.206816  8.0  50.0  72.0  120.0  3600.0"
            ],
            "text/html": [
              "\n",
              "  <div id=\"df-5e7b6485-b942-4486-8bd2-48a42f7162c2\">\n",
              "    <div class=\"colab-df-container\">\n",
              "      <div>\n",
              "<style scoped>\n",
              "    .dataframe tbody tr th:only-of-type {\n",
              "        vertical-align: middle;\n",
              "    }\n",
              "\n",
              "    .dataframe tbody tr th {\n",
              "        vertical-align: top;\n",
              "    }\n",
              "\n",
              "    .dataframe thead th {\n",
              "        text-align: right;\n",
              "    }\n",
              "</style>\n",
              "<table border=\"1\" class=\"dataframe\">\n",
              "  <thead>\n",
              "    <tr style=\"text-align: right;\">\n",
              "      <th></th>\n",
              "      <th>count</th>\n",
              "      <th>mean</th>\n",
              "      <th>std</th>\n",
              "      <th>min</th>\n",
              "      <th>25%</th>\n",
              "      <th>50%</th>\n",
              "      <th>75%</th>\n",
              "      <th>max</th>\n",
              "    </tr>\n",
              "  </thead>\n",
              "  <tbody>\n",
              "    <tr>\n",
              "      <th>bath</th>\n",
              "      <td>13167.0</td>\n",
              "      <td>2.691501</td>\n",
              "      <td>1.343284</td>\n",
              "      <td>1.0</td>\n",
              "      <td>2.0</td>\n",
              "      <td>2.0</td>\n",
              "      <td>3.0</td>\n",
              "      <td>40.0</td>\n",
              "    </tr>\n",
              "    <tr>\n",
              "      <th>balcony</th>\n",
              "      <td>12635.0</td>\n",
              "      <td>1.583854</td>\n",
              "      <td>0.817913</td>\n",
              "      <td>0.0</td>\n",
              "      <td>1.0</td>\n",
              "      <td>2.0</td>\n",
              "      <td>2.0</td>\n",
              "      <td>3.0</td>\n",
              "    </tr>\n",
              "    <tr>\n",
              "      <th>price</th>\n",
              "      <td>13240.0</td>\n",
              "      <td>112.493455</td>\n",
              "      <td>149.206816</td>\n",
              "      <td>8.0</td>\n",
              "      <td>50.0</td>\n",
              "      <td>72.0</td>\n",
              "      <td>120.0</td>\n",
              "      <td>3600.0</td>\n",
              "    </tr>\n",
              "  </tbody>\n",
              "</table>\n",
              "</div>\n",
              "      <button class=\"colab-df-convert\" onclick=\"convertToInteractive('df-5e7b6485-b942-4486-8bd2-48a42f7162c2')\"\n",
              "              title=\"Convert this dataframe to an interactive table.\"\n",
              "              style=\"display:none;\">\n",
              "        \n",
              "  <svg xmlns=\"http://www.w3.org/2000/svg\" height=\"24px\"viewBox=\"0 0 24 24\"\n",
              "       width=\"24px\">\n",
              "    <path d=\"M0 0h24v24H0V0z\" fill=\"none\"/>\n",
              "    <path d=\"M18.56 5.44l.94 2.06.94-2.06 2.06-.94-2.06-.94-.94-2.06-.94 2.06-2.06.94zm-11 1L8.5 8.5l.94-2.06 2.06-.94-2.06-.94L8.5 2.5l-.94 2.06-2.06.94zm10 10l.94 2.06.94-2.06 2.06-.94-2.06-.94-.94-2.06-.94 2.06-2.06.94z\"/><path d=\"M17.41 7.96l-1.37-1.37c-.4-.4-.92-.59-1.43-.59-.52 0-1.04.2-1.43.59L10.3 9.45l-7.72 7.72c-.78.78-.78 2.05 0 2.83L4 21.41c.39.39.9.59 1.41.59.51 0 1.02-.2 1.41-.59l7.78-7.78 2.81-2.81c.8-.78.8-2.07 0-2.86zM5.41 20L4 18.59l7.72-7.72 1.47 1.35L5.41 20z\"/>\n",
              "  </svg>\n",
              "      </button>\n",
              "      \n",
              "  <style>\n",
              "    .colab-df-container {\n",
              "      display:flex;\n",
              "      flex-wrap:wrap;\n",
              "      gap: 12px;\n",
              "    }\n",
              "\n",
              "    .colab-df-convert {\n",
              "      background-color: #E8F0FE;\n",
              "      border: none;\n",
              "      border-radius: 50%;\n",
              "      cursor: pointer;\n",
              "      display: none;\n",
              "      fill: #1967D2;\n",
              "      height: 32px;\n",
              "      padding: 0 0 0 0;\n",
              "      width: 32px;\n",
              "    }\n",
              "\n",
              "    .colab-df-convert:hover {\n",
              "      background-color: #E2EBFA;\n",
              "      box-shadow: 0px 1px 2px rgba(60, 64, 67, 0.3), 0px 1px 3px 1px rgba(60, 64, 67, 0.15);\n",
              "      fill: #174EA6;\n",
              "    }\n",
              "\n",
              "    [theme=dark] .colab-df-convert {\n",
              "      background-color: #3B4455;\n",
              "      fill: #D2E3FC;\n",
              "    }\n",
              "\n",
              "    [theme=dark] .colab-df-convert:hover {\n",
              "      background-color: #434B5C;\n",
              "      box-shadow: 0px 1px 3px 1px rgba(0, 0, 0, 0.15);\n",
              "      filter: drop-shadow(0px 1px 2px rgba(0, 0, 0, 0.3));\n",
              "      fill: #FFFFFF;\n",
              "    }\n",
              "  </style>\n",
              "\n",
              "      <script>\n",
              "        const buttonEl =\n",
              "          document.querySelector('#df-5e7b6485-b942-4486-8bd2-48a42f7162c2 button.colab-df-convert');\n",
              "        buttonEl.style.display =\n",
              "          google.colab.kernel.accessAllowed ? 'block' : 'none';\n",
              "\n",
              "        async function convertToInteractive(key) {\n",
              "          const element = document.querySelector('#df-5e7b6485-b942-4486-8bd2-48a42f7162c2');\n",
              "          const dataTable =\n",
              "            await google.colab.kernel.invokeFunction('convertToInteractive',\n",
              "                                                     [key], {});\n",
              "          if (!dataTable) return;\n",
              "\n",
              "          const docLinkHtml = 'Like what you see? Visit the ' +\n",
              "            '<a target=\"_blank\" href=https://colab.research.google.com/notebooks/data_table.ipynb>data table notebook</a>'\n",
              "            + ' to learn more about interactive tables.';\n",
              "          element.innerHTML = '';\n",
              "          dataTable['output_type'] = 'display_data';\n",
              "          await google.colab.output.renderOutput(dataTable, element);\n",
              "          const docLink = document.createElement('div');\n",
              "          docLink.innerHTML = docLinkHtml;\n",
              "          element.appendChild(docLink);\n",
              "        }\n",
              "      </script>\n",
              "    </div>\n",
              "  </div>\n",
              "  "
            ]
          },
          "metadata": {},
          "execution_count": 5
        }
      ]
    },
    {
      "cell_type": "code",
      "source": [
        "df_copy=df.copy"
      ],
      "metadata": {
        "id": "hEYqM4AwluQ3"
      },
      "execution_count": 6,
      "outputs": []
    },
    {
      "cell_type": "markdown",
      "source": [
        "borro datos sin relevancia"
      ],
      "metadata": {
        "id": "IC2ijcJErANN"
      }
    },
    {
      "cell_type": "code",
      "source": [
        "df['total_sqft']= pd.to_numeric(df['total_sqft'],errors='coerce')"
      ],
      "metadata": {
        "id": "hzkgaePQttYv"
      },
      "execution_count": 7,
      "outputs": []
    },
    {
      "cell_type": "code",
      "source": [
        "df.info()"
      ],
      "metadata": {
        "colab": {
          "base_uri": "https://localhost:8080/"
        },
        "id": "4A8a9udWnkCd",
        "outputId": "33f99346-0f10-42a7-a946-fc70a30f3873"
      },
      "execution_count": 8,
      "outputs": [
        {
          "output_type": "stream",
          "name": "stdout",
          "text": [
            "<class 'pandas.core.frame.DataFrame'>\n",
            "RangeIndex: 13320 entries, 0 to 13319\n",
            "Data columns (total 9 columns):\n",
            " #   Column        Non-Null Count  Dtype  \n",
            "---  ------        --------------  -----  \n",
            " 0   area_type     13320 non-null  object \n",
            " 1   availability  13240 non-null  object \n",
            " 2   location      13239 non-null  object \n",
            " 3   size          13224 non-null  object \n",
            " 4   society       7818 non-null   object \n",
            " 5   total_sqft    12993 non-null  float64\n",
            " 6   bath          13167 non-null  float64\n",
            " 7   balcony       12635 non-null  float64\n",
            " 8   price         13240 non-null  float64\n",
            "dtypes: float64(4), object(5)\n",
            "memory usage: 936.7+ KB\n"
          ]
        }
      ]
    },
    {
      "cell_type": "markdown",
      "source": [
        "IMPUTACION"
      ],
      "metadata": {
        "id": "gUhs8bGjrBMC"
      }
    },
    {
      "cell_type": "code",
      "source": [
        "le=LabelEncoder()"
      ],
      "metadata": {
        "id": "iTUZv7Y_nkE2"
      },
      "execution_count": 9,
      "outputs": []
    },
    {
      "cell_type": "code",
      "source": [
        "size = df['size'].str.split(expand=True)\n",
        "size.columns = ['val_size','val_cat']\n",
        "df = pd.concat([df, size], axis=1)\n",
        "df['val_cat'] = le.fit_transform(df['val_cat'])\n",
        "df = df.drop('size',axis=1)"
      ],
      "metadata": {
        "id": "XoodRnYDq6UD"
      },
      "execution_count": 10,
      "outputs": []
    },
    {
      "cell_type": "code",
      "source": [
        "df.info()"
      ],
      "metadata": {
        "colab": {
          "base_uri": "https://localhost:8080/"
        },
        "id": "8l3KNT9ZpDtS",
        "outputId": "7e02db6a-14c5-4df6-bb78-ed3a51e169c0"
      },
      "execution_count": 11,
      "outputs": [
        {
          "output_type": "stream",
          "name": "stdout",
          "text": [
            "<class 'pandas.core.frame.DataFrame'>\n",
            "RangeIndex: 13320 entries, 0 to 13319\n",
            "Data columns (total 10 columns):\n",
            " #   Column        Non-Null Count  Dtype  \n",
            "---  ------        --------------  -----  \n",
            " 0   area_type     13320 non-null  object \n",
            " 1   availability  13240 non-null  object \n",
            " 2   location      13239 non-null  object \n",
            " 3   society       7818 non-null   object \n",
            " 4   total_sqft    12993 non-null  float64\n",
            " 5   bath          13167 non-null  float64\n",
            " 6   balcony       12635 non-null  float64\n",
            " 7   price         13240 non-null  float64\n",
            " 8   val_size      13224 non-null  object \n",
            " 9   val_cat       13320 non-null  int64  \n",
            "dtypes: float64(4), int64(1), object(5)\n",
            "memory usage: 1.0+ MB\n"
          ]
        }
      ]
    },
    {
      "cell_type": "code",
      "source": [
        "df"
      ],
      "metadata": {
        "id": "Ii3qpJ-1q6gB",
        "colab": {
          "base_uri": "https://localhost:8080/",
          "height": 641
        },
        "outputId": "24d2b78b-3585-45b1-cb1c-9cca7343b81f"
      },
      "execution_count": 12,
      "outputs": [
        {
          "output_type": "execute_result",
          "data": {
            "text/plain": [
              "                  area_type   availability                  location  society  \\\n",
              "0      Super built-up  Area         19-Dec  Electronic City Phase II  Coomee    \n",
              "1                Plot  Area  Ready To Move          Chikka Tirupathi  Theanmp   \n",
              "2            Built-up  Area  Ready To Move               Uttarahalli      NaN   \n",
              "3      Super built-up  Area  Ready To Move        Lingadheeranahalli  Soiewre   \n",
              "4      Super built-up  Area  Ready To Move                  Kothanur      NaN   \n",
              "...                     ...            ...                       ...      ...   \n",
              "13315        Built-up  Area  Ready To Move                Whitefield  ArsiaEx   \n",
              "13316  Super built-up  Area  Ready To Move             Richards Town      NaN   \n",
              "13317        Built-up  Area  Ready To Move     Raja Rajeshwari Nagar  Mahla T   \n",
              "13318  Super built-up  Area         18-Jun           Padmanabhanagar  SollyCl   \n",
              "13319  Super built-up  Area  Ready To Move              Doddathoguru      NaN   \n",
              "\n",
              "       total_sqft  bath  balcony   price val_size  val_cat  \n",
              "0          1056.0   2.0      1.0   39.07        2        0  \n",
              "1          2600.0   5.0      3.0  120.00        4        1  \n",
              "2          1440.0   2.0      3.0   62.00        3        0  \n",
              "3          1521.0   3.0      1.0   95.00        3        0  \n",
              "4          1200.0   2.0      1.0   51.00        2        0  \n",
              "...           ...   ...      ...     ...      ...      ...  \n",
              "13315      3453.0   4.0      0.0  231.00        5        1  \n",
              "13316      3600.0   5.0      NaN  400.00        4        0  \n",
              "13317      1141.0   2.0      1.0   60.00        2        0  \n",
              "13318      4689.0   4.0      1.0  488.00        4        0  \n",
              "13319       550.0   1.0      1.0   17.00        1        0  \n",
              "\n",
              "[13320 rows x 10 columns]"
            ],
            "text/html": [
              "\n",
              "  <div id=\"df-8f0426ec-bd99-4ff4-b644-27888e398942\">\n",
              "    <div class=\"colab-df-container\">\n",
              "      <div>\n",
              "<style scoped>\n",
              "    .dataframe tbody tr th:only-of-type {\n",
              "        vertical-align: middle;\n",
              "    }\n",
              "\n",
              "    .dataframe tbody tr th {\n",
              "        vertical-align: top;\n",
              "    }\n",
              "\n",
              "    .dataframe thead th {\n",
              "        text-align: right;\n",
              "    }\n",
              "</style>\n",
              "<table border=\"1\" class=\"dataframe\">\n",
              "  <thead>\n",
              "    <tr style=\"text-align: right;\">\n",
              "      <th></th>\n",
              "      <th>area_type</th>\n",
              "      <th>availability</th>\n",
              "      <th>location</th>\n",
              "      <th>society</th>\n",
              "      <th>total_sqft</th>\n",
              "      <th>bath</th>\n",
              "      <th>balcony</th>\n",
              "      <th>price</th>\n",
              "      <th>val_size</th>\n",
              "      <th>val_cat</th>\n",
              "    </tr>\n",
              "  </thead>\n",
              "  <tbody>\n",
              "    <tr>\n",
              "      <th>0</th>\n",
              "      <td>Super built-up  Area</td>\n",
              "      <td>19-Dec</td>\n",
              "      <td>Electronic City Phase II</td>\n",
              "      <td>Coomee</td>\n",
              "      <td>1056.0</td>\n",
              "      <td>2.0</td>\n",
              "      <td>1.0</td>\n",
              "      <td>39.07</td>\n",
              "      <td>2</td>\n",
              "      <td>0</td>\n",
              "    </tr>\n",
              "    <tr>\n",
              "      <th>1</th>\n",
              "      <td>Plot  Area</td>\n",
              "      <td>Ready To Move</td>\n",
              "      <td>Chikka Tirupathi</td>\n",
              "      <td>Theanmp</td>\n",
              "      <td>2600.0</td>\n",
              "      <td>5.0</td>\n",
              "      <td>3.0</td>\n",
              "      <td>120.00</td>\n",
              "      <td>4</td>\n",
              "      <td>1</td>\n",
              "    </tr>\n",
              "    <tr>\n",
              "      <th>2</th>\n",
              "      <td>Built-up  Area</td>\n",
              "      <td>Ready To Move</td>\n",
              "      <td>Uttarahalli</td>\n",
              "      <td>NaN</td>\n",
              "      <td>1440.0</td>\n",
              "      <td>2.0</td>\n",
              "      <td>3.0</td>\n",
              "      <td>62.00</td>\n",
              "      <td>3</td>\n",
              "      <td>0</td>\n",
              "    </tr>\n",
              "    <tr>\n",
              "      <th>3</th>\n",
              "      <td>Super built-up  Area</td>\n",
              "      <td>Ready To Move</td>\n",
              "      <td>Lingadheeranahalli</td>\n",
              "      <td>Soiewre</td>\n",
              "      <td>1521.0</td>\n",
              "      <td>3.0</td>\n",
              "      <td>1.0</td>\n",
              "      <td>95.00</td>\n",
              "      <td>3</td>\n",
              "      <td>0</td>\n",
              "    </tr>\n",
              "    <tr>\n",
              "      <th>4</th>\n",
              "      <td>Super built-up  Area</td>\n",
              "      <td>Ready To Move</td>\n",
              "      <td>Kothanur</td>\n",
              "      <td>NaN</td>\n",
              "      <td>1200.0</td>\n",
              "      <td>2.0</td>\n",
              "      <td>1.0</td>\n",
              "      <td>51.00</td>\n",
              "      <td>2</td>\n",
              "      <td>0</td>\n",
              "    </tr>\n",
              "    <tr>\n",
              "      <th>...</th>\n",
              "      <td>...</td>\n",
              "      <td>...</td>\n",
              "      <td>...</td>\n",
              "      <td>...</td>\n",
              "      <td>...</td>\n",
              "      <td>...</td>\n",
              "      <td>...</td>\n",
              "      <td>...</td>\n",
              "      <td>...</td>\n",
              "      <td>...</td>\n",
              "    </tr>\n",
              "    <tr>\n",
              "      <th>13315</th>\n",
              "      <td>Built-up  Area</td>\n",
              "      <td>Ready To Move</td>\n",
              "      <td>Whitefield</td>\n",
              "      <td>ArsiaEx</td>\n",
              "      <td>3453.0</td>\n",
              "      <td>4.0</td>\n",
              "      <td>0.0</td>\n",
              "      <td>231.00</td>\n",
              "      <td>5</td>\n",
              "      <td>1</td>\n",
              "    </tr>\n",
              "    <tr>\n",
              "      <th>13316</th>\n",
              "      <td>Super built-up  Area</td>\n",
              "      <td>Ready To Move</td>\n",
              "      <td>Richards Town</td>\n",
              "      <td>NaN</td>\n",
              "      <td>3600.0</td>\n",
              "      <td>5.0</td>\n",
              "      <td>NaN</td>\n",
              "      <td>400.00</td>\n",
              "      <td>4</td>\n",
              "      <td>0</td>\n",
              "    </tr>\n",
              "    <tr>\n",
              "      <th>13317</th>\n",
              "      <td>Built-up  Area</td>\n",
              "      <td>Ready To Move</td>\n",
              "      <td>Raja Rajeshwari Nagar</td>\n",
              "      <td>Mahla T</td>\n",
              "      <td>1141.0</td>\n",
              "      <td>2.0</td>\n",
              "      <td>1.0</td>\n",
              "      <td>60.00</td>\n",
              "      <td>2</td>\n",
              "      <td>0</td>\n",
              "    </tr>\n",
              "    <tr>\n",
              "      <th>13318</th>\n",
              "      <td>Super built-up  Area</td>\n",
              "      <td>18-Jun</td>\n",
              "      <td>Padmanabhanagar</td>\n",
              "      <td>SollyCl</td>\n",
              "      <td>4689.0</td>\n",
              "      <td>4.0</td>\n",
              "      <td>1.0</td>\n",
              "      <td>488.00</td>\n",
              "      <td>4</td>\n",
              "      <td>0</td>\n",
              "    </tr>\n",
              "    <tr>\n",
              "      <th>13319</th>\n",
              "      <td>Super built-up  Area</td>\n",
              "      <td>Ready To Move</td>\n",
              "      <td>Doddathoguru</td>\n",
              "      <td>NaN</td>\n",
              "      <td>550.0</td>\n",
              "      <td>1.0</td>\n",
              "      <td>1.0</td>\n",
              "      <td>17.00</td>\n",
              "      <td>1</td>\n",
              "      <td>0</td>\n",
              "    </tr>\n",
              "  </tbody>\n",
              "</table>\n",
              "<p>13320 rows × 10 columns</p>\n",
              "</div>\n",
              "      <button class=\"colab-df-convert\" onclick=\"convertToInteractive('df-8f0426ec-bd99-4ff4-b644-27888e398942')\"\n",
              "              title=\"Convert this dataframe to an interactive table.\"\n",
              "              style=\"display:none;\">\n",
              "        \n",
              "  <svg xmlns=\"http://www.w3.org/2000/svg\" height=\"24px\"viewBox=\"0 0 24 24\"\n",
              "       width=\"24px\">\n",
              "    <path d=\"M0 0h24v24H0V0z\" fill=\"none\"/>\n",
              "    <path d=\"M18.56 5.44l.94 2.06.94-2.06 2.06-.94-2.06-.94-.94-2.06-.94 2.06-2.06.94zm-11 1L8.5 8.5l.94-2.06 2.06-.94-2.06-.94L8.5 2.5l-.94 2.06-2.06.94zm10 10l.94 2.06.94-2.06 2.06-.94-2.06-.94-.94-2.06-.94 2.06-2.06.94z\"/><path d=\"M17.41 7.96l-1.37-1.37c-.4-.4-.92-.59-1.43-.59-.52 0-1.04.2-1.43.59L10.3 9.45l-7.72 7.72c-.78.78-.78 2.05 0 2.83L4 21.41c.39.39.9.59 1.41.59.51 0 1.02-.2 1.41-.59l7.78-7.78 2.81-2.81c.8-.78.8-2.07 0-2.86zM5.41 20L4 18.59l7.72-7.72 1.47 1.35L5.41 20z\"/>\n",
              "  </svg>\n",
              "      </button>\n",
              "      \n",
              "  <style>\n",
              "    .colab-df-container {\n",
              "      display:flex;\n",
              "      flex-wrap:wrap;\n",
              "      gap: 12px;\n",
              "    }\n",
              "\n",
              "    .colab-df-convert {\n",
              "      background-color: #E8F0FE;\n",
              "      border: none;\n",
              "      border-radius: 50%;\n",
              "      cursor: pointer;\n",
              "      display: none;\n",
              "      fill: #1967D2;\n",
              "      height: 32px;\n",
              "      padding: 0 0 0 0;\n",
              "      width: 32px;\n",
              "    }\n",
              "\n",
              "    .colab-df-convert:hover {\n",
              "      background-color: #E2EBFA;\n",
              "      box-shadow: 0px 1px 2px rgba(60, 64, 67, 0.3), 0px 1px 3px 1px rgba(60, 64, 67, 0.15);\n",
              "      fill: #174EA6;\n",
              "    }\n",
              "\n",
              "    [theme=dark] .colab-df-convert {\n",
              "      background-color: #3B4455;\n",
              "      fill: #D2E3FC;\n",
              "    }\n",
              "\n",
              "    [theme=dark] .colab-df-convert:hover {\n",
              "      background-color: #434B5C;\n",
              "      box-shadow: 0px 1px 3px 1px rgba(0, 0, 0, 0.15);\n",
              "      filter: drop-shadow(0px 1px 2px rgba(0, 0, 0, 0.3));\n",
              "      fill: #FFFFFF;\n",
              "    }\n",
              "  </style>\n",
              "\n",
              "      <script>\n",
              "        const buttonEl =\n",
              "          document.querySelector('#df-8f0426ec-bd99-4ff4-b644-27888e398942 button.colab-df-convert');\n",
              "        buttonEl.style.display =\n",
              "          google.colab.kernel.accessAllowed ? 'block' : 'none';\n",
              "\n",
              "        async function convertToInteractive(key) {\n",
              "          const element = document.querySelector('#df-8f0426ec-bd99-4ff4-b644-27888e398942');\n",
              "          const dataTable =\n",
              "            await google.colab.kernel.invokeFunction('convertToInteractive',\n",
              "                                                     [key], {});\n",
              "          if (!dataTable) return;\n",
              "\n",
              "          const docLinkHtml = 'Like what you see? Visit the ' +\n",
              "            '<a target=\"_blank\" href=https://colab.research.google.com/notebooks/data_table.ipynb>data table notebook</a>'\n",
              "            + ' to learn more about interactive tables.';\n",
              "          element.innerHTML = '';\n",
              "          dataTable['output_type'] = 'display_data';\n",
              "          await google.colab.output.renderOutput(dataTable, element);\n",
              "          const docLink = document.createElement('div');\n",
              "          docLink.innerHTML = docLinkHtml;\n",
              "          element.appendChild(docLink);\n",
              "        }\n",
              "      </script>\n",
              "    </div>\n",
              "  </div>\n",
              "  "
            ]
          },
          "metadata": {},
          "execution_count": 12
        }
      ]
    },
    {
      "cell_type": "markdown",
      "source": [
        "IMPUTACIÓN"
      ],
      "metadata": {
        "id": "cD2yqY_frPhj"
      }
    },
    {
      "cell_type": "code",
      "source": [
        "df.loc[df.price<=50, 'Price']='bajo'\n",
        "df.loc[df.price>=120, 'Price']='alto'\n",
        "df['Price']=le.fit_transform(df['Price'])\n",
        "df=df.drop(['society', 'price'],axis=1)"
      ],
      "metadata": {
        "id": "ixHVE8uzrPwE"
      },
      "execution_count": 13,
      "outputs": []
    },
    {
      "cell_type": "code",
      "source": [
        "df.info()"
      ],
      "metadata": {
        "id": "uMjKRl9zsXFC",
        "colab": {
          "base_uri": "https://localhost:8080/"
        },
        "outputId": "1ea45d08-4d33-4952-9ce9-b79841eddee3"
      },
      "execution_count": 14,
      "outputs": [
        {
          "output_type": "stream",
          "name": "stdout",
          "text": [
            "<class 'pandas.core.frame.DataFrame'>\n",
            "RangeIndex: 13320 entries, 0 to 13319\n",
            "Data columns (total 9 columns):\n",
            " #   Column        Non-Null Count  Dtype  \n",
            "---  ------        --------------  -----  \n",
            " 0   area_type     13320 non-null  object \n",
            " 1   availability  13240 non-null  object \n",
            " 2   location      13239 non-null  object \n",
            " 3   total_sqft    12993 non-null  float64\n",
            " 4   bath          13167 non-null  float64\n",
            " 5   balcony       12635 non-null  float64\n",
            " 6   val_size      13224 non-null  object \n",
            " 7   val_cat       13320 non-null  int64  \n",
            " 8   Price         13320 non-null  int64  \n",
            "dtypes: float64(3), int64(2), object(4)\n",
            "memory usage: 936.7+ KB\n"
          ]
        }
      ]
    },
    {
      "cell_type": "code",
      "source": [
        "msno.bar(df)"
      ],
      "metadata": {
        "colab": {
          "base_uri": "https://localhost:8080/",
          "height": 430
        },
        "id": "LCoX64kKucV9",
        "outputId": "00a22717-3f89-457c-bc68-09d2198d6130"
      },
      "execution_count": 15,
      "outputs": [
        {
          "output_type": "execute_result",
          "data": {
            "text/plain": [
              "<matplotlib.axes._subplots.AxesSubplot at 0x7fb49442aa90>"
            ]
          },
          "metadata": {},
          "execution_count": 15
        },
        {
          "output_type": "display_data",
          "data": {
            "text/plain": [
              "<Figure size 1800x720 with 3 Axes>"
            ],
            "image/png": "[encoded data removed]"
          },
          "metadata": {
            "needs_background": "light"
          }
        }
      ]
    },
    {
      "cell_type": "code",
      "source": [
        "msno.matrix(df)"
      ],
      "metadata": {
        "colab": {
          "base_uri": "https://localhost:8080/",
          "height": 408
        },
        "id": "nxrYgUUuueNj",
        "outputId": "0ed65f00-dd95-49f9-f69d-12f6e2c59d24"
      },
      "execution_count": 16,
      "outputs": [
        {
          "output_type": "execute_result",
          "data": {
            "text/plain": [
              "<matplotlib.axes._subplots.AxesSubplot at 0x7fb4914c2640>"
            ]
          },
          "metadata": {},
          "execution_count": 16
        },
        {
          "output_type": "display_data",
          "data": {
            "text/plain": [
              "<Figure size 1800x720 with 2 Axes>"
            ],
            "image/png": "[encoded data removed]"
          },
          "metadata": {
            "needs_background": "light"
          }
        }
      ]
    },
    {
      "cell_type": "code",
      "source": [
        "sns.boxplot(x=df['total_sqft'])"
      ],
      "metadata": {
        "colab": {
          "base_uri": "https://localhost:8080/",
          "height": 297
        },
        "id": "mjy2PuR41dT_",
        "outputId": "5d23e355-9d1e-4bf9-856d-57e0d52e13cc"
      },
      "execution_count": 17,
      "outputs": [
        {
          "output_type": "execute_result",
          "data": {
            "text/plain": [
              "<matplotlib.axes._subplots.AxesSubplot at 0x7fb491497580>"
            ]
          },
          "metadata": {},
          "execution_count": 17
        },
        {
          "output_type": "display_data",
          "data": {
            "text/plain": [
              "<Figure size 432x288 with 1 Axes>"
            ],
            "image/png": "[encoded data removed]"
          },
          "metadata": {
            "needs_background": "light"
          }
        }
      ]
    },
    {
      "cell_type": "code",
      "source": [
        "df['area_type']= le.fit_transform(df['area_type'])\n",
        "\n",
        "df = df.drop('location', axis=1)"
      ],
      "metadata": {
        "id": "qpJxkkWtumYR"
      },
      "execution_count": 18,
      "outputs": []
    },
    {
      "cell_type": "code",
      "source": [
        "df=df.fillna(df.mean())"
      ],
      "metadata": {
        "colab": {
          "base_uri": "https://localhost:8080/"
        },
        "id": "IsHFYum829H0",
        "outputId": "1be1eb2b-be2c-4b3a-8997-f2d8dba28cf3"
      },
      "execution_count": 19,
      "outputs": [
        {
          "output_type": "stream",
          "name": "stderr",
          "text": [
            "<ipython-input-19-6f8c6f28e805>:1: FutureWarning: Dropping of nuisance columns in DataFrame reductions (with 'numeric_only=None') is deprecated; in a future version this will raise TypeError.  Select only valid columns before calling the reduction.\n",
            "  df=df.fillna(df.mean())\n"
          ]
        }
      ]
    },
    {
      "cell_type": "code",
      "source": [
        "df['val_size'] = pd.to_numeric(df['val_size'], errors = 'coerce')\n",
        "df['val_size'].unique()"
      ],
      "metadata": {
        "colab": {
          "base_uri": "https://localhost:8080/"
        },
        "id": "Au2DwSQluuOV",
        "outputId": "1f26da56-e98a-4ba1-dd4f-b21097d09b06"
      },
      "execution_count": 20,
      "outputs": [
        {
          "output_type": "execute_result",
          "data": {
            "text/plain": [
              "array([ 2.,  4.,  3.,  6.,  1.,  8.,  7.,  5., nan, 11.,  9., 27., 10.,\n",
              "       19., 16., 43., 14., 12., 13., 18.])"
            ]
          },
          "metadata": {},
          "execution_count": 20
        }
      ]
    },
    {
      "cell_type": "code",
      "source": [
        "df.isnull().sum()"
      ],
      "metadata": {
        "colab": {
          "base_uri": "https://localhost:8080/"
        },
        "id": "AW5AHDj02_u8",
        "outputId": "105a9e13-8cf1-4c36-af2d-ec72d214a0df"
      },
      "execution_count": 21,
      "outputs": [
        {
          "output_type": "execute_result",
          "data": {
            "text/plain": [
              "area_type        0\n",
              "availability    80\n",
              "total_sqft       0\n",
              "bath             0\n",
              "balcony          0\n",
              "val_size        96\n",
              "val_cat          0\n",
              "Price            0\n",
              "dtype: int64"
            ]
          },
          "metadata": {},
          "execution_count": 21
        }
      ]
    },
    {
      "cell_type": "code",
      "source": [
        "df['val_size'].unique()\n",
        "mode = df['val_cat'].mode()[0]\n",
        "df['val_cat'] = df['val_cat'].fillna(mode)"
      ],
      "metadata": {
        "id": "chQuAabUuw4U"
      },
      "execution_count": 22,
      "outputs": []
    },
    {
      "cell_type": "code",
      "source": [
        "df=df.fillna(df.mean())\n",
        "df.isnull().sum()"
      ],
      "metadata": {
        "colab": {
          "base_uri": "https://localhost:8080/"
        },
        "id": "AZpuftdp0fR2",
        "outputId": "541c3982-c2e9-4561-c3a9-b155ab3831c8"
      },
      "execution_count": 23,
      "outputs": [
        {
          "output_type": "stream",
          "name": "stderr",
          "text": [
            "<ipython-input-23-e9ad13d354b0>:1: FutureWarning: Dropping of nuisance columns in DataFrame reductions (with 'numeric_only=None') is deprecated; in a future version this will raise TypeError.  Select only valid columns before calling the reduction.\n",
            "  df=df.fillna(df.mean())\n"
          ]
        },
        {
          "output_type": "execute_result",
          "data": {
            "text/plain": [
              "area_type        0\n",
              "availability    80\n",
              "total_sqft       0\n",
              "bath             0\n",
              "balcony          0\n",
              "val_size         0\n",
              "val_cat          0\n",
              "Price            0\n",
              "dtype: int64"
            ]
          },
          "metadata": {},
          "execution_count": 23
        }
      ]
    },
    {
      "cell_type": "code",
      "source": [
        "X = df.drop(['Price'],axis=1)\n",
        "y = df['Price']"
      ],
      "metadata": {
        "id": "xIk5DJJhvAtu"
      },
      "execution_count": 24,
      "outputs": []
    },
    {
      "cell_type": "markdown",
      "source": [
        "DUMMIES"
      ],
      "metadata": {
        "id": "J-RgW8mwvNbB"
      }
    },
    {
      "cell_type": "code",
      "source": [
        "X = pd.get_dummies(X) \n",
        "simpleImputer = SimpleImputer()\n",
        "X_imputed = pd.DataFrame(simpleImputer.fit_transform(X))\n",
        "X_imputed.columns = X.columns\n",
        "X_imputed"
      ],
      "metadata": {
        "colab": {
          "base_uri": "https://localhost:8080/",
          "height": 505
        },
        "id": "9A4Wy498vORh",
        "outputId": "a39aa784-7bd1-4034-a23a-32ef83fad344"
      },
      "execution_count": 25,
      "outputs": [
        {
          "output_type": "execute_result",
          "data": {
            "text/plain": [
              "       area_type  total_sqft  bath   balcony  val_size  val_cat  \\\n",
              "0           73.0      1056.0   2.0  1.000000       2.0      0.0   \n",
              "1           57.0      2600.0   5.0  3.000000       4.0      1.0   \n",
              "2            0.0      1440.0   2.0  3.000000       3.0      0.0   \n",
              "3           73.0      1521.0   3.0  1.000000       3.0      0.0   \n",
              "4           73.0      1200.0   2.0  1.000000       2.0      0.0   \n",
              "...          ...         ...   ...       ...       ...      ...   \n",
              "13315        0.0      3453.0   4.0  0.000000       5.0      1.0   \n",
              "13316       73.0      3600.0   5.0  1.583854       4.0      0.0   \n",
              "13317        0.0      1141.0   2.0  1.000000       2.0      0.0   \n",
              "13318       73.0      4689.0   4.0  1.000000       4.0      0.0   \n",
              "13319       73.0       550.0   1.0  1.000000       1.0      0.0   \n",
              "\n",
              "       availability_14-Jul  availability_14-Nov  availability_15-Aug  \\\n",
              "0                      0.0                  0.0                  0.0   \n",
              "1                      0.0                  0.0                  0.0   \n",
              "2                      0.0                  0.0                  0.0   \n",
              "3                      0.0                  0.0                  0.0   \n",
              "4                      0.0                  0.0                  0.0   \n",
              "...                    ...                  ...                  ...   \n",
              "13315                  0.0                  0.0                  0.0   \n",
              "13316                  0.0                  0.0                  0.0   \n",
              "13317                  0.0                  0.0                  0.0   \n",
              "13318                  0.0                  0.0                  0.0   \n",
              "13319                  0.0                  0.0                  0.0   \n",
              "\n",
              "       availability_15-Dec  ...  availability_21-Oct  availability_21-Sep  \\\n",
              "0                      0.0  ...                  0.0                  0.0   \n",
              "1                      0.0  ...                  0.0                  0.0   \n",
              "2                      0.0  ...                  0.0                  0.0   \n",
              "3                      0.0  ...                  0.0                  0.0   \n",
              "4                      0.0  ...                  0.0                  0.0   \n",
              "...                    ...  ...                  ...                  ...   \n",
              "13315                  0.0  ...                  0.0                  0.0   \n",
              "13316                  0.0  ...                  0.0                  0.0   \n",
              "13317                  0.0  ...                  0.0                  0.0   \n",
              "13318                  0.0  ...                  0.0                  0.0   \n",
              "13319                  0.0  ...                  0.0                  0.0   \n",
              "\n",
              "       availability_22-Dec  availability_22-Jan  availability_22-Jun  \\\n",
              "0                      0.0                  0.0                  0.0   \n",
              "1                      0.0                  0.0                  0.0   \n",
              "2                      0.0                  0.0                  0.0   \n",
              "3                      0.0                  0.0                  0.0   \n",
              "4                      0.0                  0.0                  0.0   \n",
              "...                    ...                  ...                  ...   \n",
              "13315                  0.0                  0.0                  0.0   \n",
              "13316                  0.0                  0.0                  0.0   \n",
              "13317                  0.0                  0.0                  0.0   \n",
              "13318                  0.0                  0.0                  0.0   \n",
              "13319                  0.0                  0.0                  0.0   \n",
              "\n",
              "       availability_22-Mar  availability_22-May  availability_22-Nov  \\\n",
              "0                      0.0                  0.0                  0.0   \n",
              "1                      0.0                  0.0                  0.0   \n",
              "2                      0.0                  0.0                  0.0   \n",
              "3                      0.0                  0.0                  0.0   \n",
              "4                      0.0                  0.0                  0.0   \n",
              "...                    ...                  ...                  ...   \n",
              "13315                  0.0                  0.0                  0.0   \n",
              "13316                  0.0                  0.0                  0.0   \n",
              "13317                  0.0                  0.0                  0.0   \n",
              "13318                  0.0                  0.0                  0.0   \n",
              "13319                  0.0                  0.0                  0.0   \n",
              "\n",
              "       availability_Immediate Possession  availability_Ready To Move  \n",
              "0                                    0.0                         0.0  \n",
              "1                                    0.0                         1.0  \n",
              "2                                    0.0                         1.0  \n",
              "3                                    0.0                         1.0  \n",
              "4                                    0.0                         1.0  \n",
              "...                                  ...                         ...  \n",
              "13315                                0.0                         1.0  \n",
              "13316                                0.0                         1.0  \n",
              "13317                                0.0                         1.0  \n",
              "13318                                0.0                         0.0  \n",
              "13319                                0.0                         1.0  \n",
              "\n",
              "[13320 rows x 87 columns]"
            ],
            "text/html": [
              "\n",
              "  <div id=\"df-1f83c0d9-6533-41e7-bdba-7aa1c5294361\">\n",
              "    <div class=\"colab-df-container\">\n",
              "      <div>\n",
              "<style scoped>\n",
              "    .dataframe tbody tr th:only-of-type {\n",
              "        vertical-align: middle;\n",
              "    }\n",
              "\n",
              "    .dataframe tbody tr th {\n",
              "        vertical-align: top;\n",
              "    }\n",
              "\n",
              "    .dataframe thead th {\n",
              "        text-align: right;\n",
              "    }\n",
              "</style>\n",
              "<table border=\"1\" class=\"dataframe\">\n",
              "  <thead>\n",
              "    <tr style=\"text-align: right;\">\n",
              "      <th></th>\n",
              "      <th>area_type</th>\n",
              "      <th>total_sqft</th>\n",
              "      <th>bath</th>\n",
              "      <th>balcony</th>\n",
              "      <th>val_size</th>\n",
              "      <th>val_cat</th>\n",
              "      <th>availability_14-Jul</th>\n",
              "      <th>availability_14-Nov</th>\n",
              "      <th>availability_15-Aug</th>\n",
              "      <th>availability_15-Dec</th>\n",
              "      <th>...</th>\n",
              "      <th>availability_21-Oct</th>\n",
              "      <th>availability_21-Sep</th>\n",
              "      <th>availability_22-Dec</th>\n",
              "      <th>availability_22-Jan</th>\n",
              "      <th>availability_22-Jun</th>\n",
              "      <th>availability_22-Mar</th>\n",
              "      <th>availability_22-May</th>\n",
              "      <th>availability_22-Nov</th>\n",
              "      <th>availability_Immediate Possession</th>\n",
              "      <th>availability_Ready To Move</th>\n",
              "    </tr>\n",
              "  </thead>\n",
              "  <tbody>\n",
              "    <tr>\n",
              "      <th>0</th>\n",
              "      <td>73.0</td>\n",
              "      <td>1056.0</td>\n",
              "      <td>2.0</td>\n",
              "      <td>1.000000</td>\n",
              "      <td>2.0</td>\n",
              "      <td>0.0</td>\n",
              "      <td>0.0</td>\n",
              "      <td>0.0</td>\n",
              "      <td>0.0</td>\n",
              "      <td>0.0</td>\n",
              "      <td>...</td>\n",
              "      <td>0.0</td>\n",
              "      <td>0.0</td>\n",
              "      <td>0.0</td>\n",
              "      <td>0.0</td>\n",
              "      <td>0.0</td>\n",
              "      <td>0.0</td>\n",
              "      <td>0.0</td>\n",
              "      <td>0.0</td>\n",
              "      <td>0.0</td>\n",
              "      <td>0.0</td>\n",
              "    </tr>\n",
              "    <tr>\n",
              "      <th>1</th>\n",
              "      <td>57.0</td>\n",
              "      <td>2600.0</td>\n",
              "      <td>5.0</td>\n",
              "      <td>3.000000</td>\n",
              "      <td>4.0</td>\n",
              "      <td>1.0</td>\n",
              "      <td>0.0</td>\n",
              "      <td>0.0</td>\n",
              "      <td>0.0</td>\n",
              "      <td>0.0</td>\n",
              "      <td>...</td>\n",
              "      <td>0.0</td>\n",
              "      <td>0.0</td>\n",
              "      <td>0.0</td>\n",
              "      <td>0.0</td>\n",
              "      <td>0.0</td>\n",
              "      <td>0.0</td>\n",
              "      <td>0.0</td>\n",
              "      <td>0.0</td>\n",
              "      <td>0.0</td>\n",
              "      <td>1.0</td>\n",
              "    </tr>\n",
              "    <tr>\n",
              "      <th>2</th>\n",
              "      <td>0.0</td>\n",
              "      <td>1440.0</td>\n",
              "      <td>2.0</td>\n",
              "      <td>3.000000</td>\n",
              "      <td>3.0</td>\n",
              "      <td>0.0</td>\n",
              "      <td>0.0</td>\n",
              "      <td>0.0</td>\n",
              "      <td>0.0</td>\n",
              "      <td>0.0</td>\n",
              "      <td>...</td>\n",
              "      <td>0.0</td>\n",
              "      <td>0.0</td>\n",
              "      <td>0.0</td>\n",
              "      <td>0.0</td>\n",
              "      <td>0.0</td>\n",
              "      <td>0.0</td>\n",
              "      <td>0.0</td>\n",
              "      <td>0.0</td>\n",
              "      <td>0.0</td>\n",
              "      <td>1.0</td>\n",
              "    </tr>\n",
              "    <tr>\n",
              "      <th>3</th>\n",
              "      <td>73.0</td>\n",
              "      <td>1521.0</td>\n",
              "      <td>3.0</td>\n",
              "      <td>1.000000</td>\n",
              "      <td>3.0</td>\n",
              "      <td>0.0</td>\n",
              "      <td>0.0</td>\n",
              "      <td>0.0</td>\n",
              "      <td>0.0</td>\n",
              "      <td>0.0</td>\n",
              "      <td>...</td>\n",
              "      <td>0.0</td>\n",
              "      <td>0.0</td>\n",
              "      <td>0.0</td>\n",
              "      <td>0.0</td>\n",
              "      <td>0.0</td>\n",
              "      <td>0.0</td>\n",
              "      <td>0.0</td>\n",
              "      <td>0.0</td>\n",
              "      <td>0.0</td>\n",
              "      <td>1.0</td>\n",
              "    </tr>\n",
              "    <tr>\n",
              "      <th>4</th>\n",
              "      <td>73.0</td>\n",
              "      <td>1200.0</td>\n",
              "      <td>2.0</td>\n",
              "      <td>1.000000</td>\n",
              "      <td>2.0</td>\n",
              "      <td>0.0</td>\n",
              "      <td>0.0</td>\n",
              "      <td>0.0</td>\n",
              "      <td>0.0</td>\n",
              "      <td>0.0</td>\n",
              "      <td>...</td>\n",
              "      <td>0.0</td>\n",
              "      <td>0.0</td>\n",
              "      <td>0.0</td>\n",
              "      <td>0.0</td>\n",
              "      <td>0.0</td>\n",
              "      <td>0.0</td>\n",
              "      <td>0.0</td>\n",
              "      <td>0.0</td>\n",
              "      <td>0.0</td>\n",
              "      <td>1.0</td>\n",
              "    </tr>\n",
              "    <tr>\n",
              "      <th>...</th>\n",
              "      <td>...</td>\n",
              "      <td>...</td>\n",
              "      <td>...</td>\n",
              "      <td>...</td>\n",
              "      <td>...</td>\n",
              "      <td>...</td>\n",
              "      <td>...</td>\n",
              "      <td>...</td>\n",
              "      <td>...</td>\n",
              "      <td>...</td>\n",
              "      <td>...</td>\n",
              "      <td>...</td>\n",
              "      <td>...</td>\n",
              "      <td>...</td>\n",
              "      <td>...</td>\n",
              "      <td>...</td>\n",
              "      <td>...</td>\n",
              "      <td>...</td>\n",
              "      <td>...</td>\n",
              "      <td>...</td>\n",
              "      <td>...</td>\n",
              "    </tr>\n",
              "    <tr>\n",
              "      <th>13315</th>\n",
              "      <td>0.0</td>\n",
              "      <td>3453.0</td>\n",
              "      <td>4.0</td>\n",
              "      <td>0.000000</td>\n",
              "      <td>5.0</td>\n",
              "      <td>1.0</td>\n",
              "      <td>0.0</td>\n",
              "      <td>0.0</td>\n",
              "      <td>0.0</td>\n",
              "      <td>0.0</td>\n",
              "      <td>...</td>\n",
              "      <td>0.0</td>\n",
              "      <td>0.0</td>\n",
              "      <td>0.0</td>\n",
              "      <td>0.0</td>\n",
              "      <td>0.0</td>\n",
              "      <td>0.0</td>\n",
              "      <td>0.0</td>\n",
              "      <td>0.0</td>\n",
              "      <td>0.0</td>\n",
              "      <td>1.0</td>\n",
              "    </tr>\n",
              "    <tr>\n",
              "      <th>13316</th>\n",
              "      <td>73.0</td>\n",
              "      <td>3600.0</td>\n",
              "      <td>5.0</td>\n",
              "      <td>1.583854</td>\n",
              "      <td>4.0</td>\n",
              "      <td>0.0</td>\n",
              "      <td>0.0</td>\n",
              "      <td>0.0</td>\n",
              "      <td>0.0</td>\n",
              "      <td>0.0</td>\n",
              "      <td>...</td>\n",
              "      <td>0.0</td>\n",
              "      <td>0.0</td>\n",
              "      <td>0.0</td>\n",
              "      <td>0.0</td>\n",
              "      <td>0.0</td>\n",
              "      <td>0.0</td>\n",
              "      <td>0.0</td>\n",
              "      <td>0.0</td>\n",
              "      <td>0.0</td>\n",
              "      <td>1.0</td>\n",
              "    </tr>\n",
              "    <tr>\n",
              "      <th>13317</th>\n",
              "      <td>0.0</td>\n",
              "      <td>1141.0</td>\n",
              "      <td>2.0</td>\n",
              "      <td>1.000000</td>\n",
              "      <td>2.0</td>\n",
              "      <td>0.0</td>\n",
              "      <td>0.0</td>\n",
              "      <td>0.0</td>\n",
              "      <td>0.0</td>\n",
              "      <td>0.0</td>\n",
              "      <td>...</td>\n",
              "      <td>0.0</td>\n",
              "      <td>0.0</td>\n",
              "      <td>0.0</td>\n",
              "      <td>0.0</td>\n",
              "      <td>0.0</td>\n",
              "      <td>0.0</td>\n",
              "      <td>0.0</td>\n",
              "      <td>0.0</td>\n",
              "      <td>0.0</td>\n",
              "      <td>1.0</td>\n",
              "    </tr>\n",
              "    <tr>\n",
              "      <th>13318</th>\n",
              "      <td>73.0</td>\n",
              "      <td>4689.0</td>\n",
              "      <td>4.0</td>\n",
              "      <td>1.000000</td>\n",
              "      <td>4.0</td>\n",
              "      <td>0.0</td>\n",
              "      <td>0.0</td>\n",
              "      <td>0.0</td>\n",
              "      <td>0.0</td>\n",
              "      <td>0.0</td>\n",
              "      <td>...</td>\n",
              "      <td>0.0</td>\n",
              "      <td>0.0</td>\n",
              "      <td>0.0</td>\n",
              "      <td>0.0</td>\n",
              "      <td>0.0</td>\n",
              "      <td>0.0</td>\n",
              "      <td>0.0</td>\n",
              "      <td>0.0</td>\n",
              "      <td>0.0</td>\n",
              "      <td>0.0</td>\n",
              "    </tr>\n",
              "    <tr>\n",
              "      <th>13319</th>\n",
              "      <td>73.0</td>\n",
              "      <td>550.0</td>\n",
              "      <td>1.0</td>\n",
              "      <td>1.000000</td>\n",
              "      <td>1.0</td>\n",
              "      <td>0.0</td>\n",
              "      <td>0.0</td>\n",
              "      <td>0.0</td>\n",
              "      <td>0.0</td>\n",
              "      <td>0.0</td>\n",
              "      <td>...</td>\n",
              "      <td>0.0</td>\n",
              "      <td>0.0</td>\n",
              "      <td>0.0</td>\n",
              "      <td>0.0</td>\n",
              "      <td>0.0</td>\n",
              "      <td>0.0</td>\n",
              "      <td>0.0</td>\n",
              "      <td>0.0</td>\n",
              "      <td>0.0</td>\n",
              "      <td>1.0</td>\n",
              "    </tr>\n",
              "  </tbody>\n",
              "</table>\n",
              "<p>13320 rows × 87 columns</p>\n",
              "</div>\n",
              "      <button class=\"colab-df-convert\" onclick=\"convertToInteractive('df-1f83c0d9-6533-41e7-bdba-7aa1c5294361')\"\n",
              "              title=\"Convert this dataframe to an interactive table.\"\n",
              "              style=\"display:none;\">\n",
              "        \n",
              "  <svg xmlns=\"http://www.w3.org/2000/svg\" height=\"24px\"viewBox=\"0 0 24 24\"\n",
              "       width=\"24px\">\n",
              "    <path d=\"M0 0h24v24H0V0z\" fill=\"none\"/>\n",
              "    <path d=\"M18.56 5.44l.94 2.06.94-2.06 2.06-.94-2.06-.94-.94-2.06-.94 2.06-2.06.94zm-11 1L8.5 8.5l.94-2.06 2.06-.94-2.06-.94L8.5 2.5l-.94 2.06-2.06.94zm10 10l.94 2.06.94-2.06 2.06-.94-2.06-.94-.94-2.06-.94 2.06-2.06.94z\"/><path d=\"M17.41 7.96l-1.37-1.37c-.4-.4-.92-.59-1.43-.59-.52 0-1.04.2-1.43.59L10.3 9.45l-7.72 7.72c-.78.78-.78 2.05 0 2.83L4 21.41c.39.39.9.59 1.41.59.51 0 1.02-.2 1.41-.59l7.78-7.78 2.81-2.81c.8-.78.8-2.07 0-2.86zM5.41 20L4 18.59l7.72-7.72 1.47 1.35L5.41 20z\"/>\n",
              "  </svg>\n",
              "      </button>\n",
              "      \n",
              "  <style>\n",
              "    .colab-df-container {\n",
              "      display:flex;\n",
              "      flex-wrap:wrap;\n",
              "      gap: 12px;\n",
              "    }\n",
              "\n",
              "    .colab-df-convert {\n",
              "      background-color: #E8F0FE;\n",
              "      border: none;\n",
              "      border-radius: 50%;\n",
              "      cursor: pointer;\n",
              "      display: none;\n",
              "      fill: #1967D2;\n",
              "      height: 32px;\n",
              "      padding: 0 0 0 0;\n",
              "      width: 32px;\n",
              "    }\n",
              "\n",
              "    .colab-df-convert:hover {\n",
              "      background-color: #E2EBFA;\n",
              "      box-shadow: 0px 1px 2px rgba(60, 64, 67, 0.3), 0px 1px 3px 1px rgba(60, 64, 67, 0.15);\n",
              "      fill: #174EA6;\n",
              "    }\n",
              "\n",
              "    [theme=dark] .colab-df-convert {\n",
              "      background-color: #3B4455;\n",
              "      fill: #D2E3FC;\n",
              "    }\n",
              "\n",
              "    [theme=dark] .colab-df-convert:hover {\n",
              "      background-color: #434B5C;\n",
              "      box-shadow: 0px 1px 3px 1px rgba(0, 0, 0, 0.15);\n",
              "      filter: drop-shadow(0px 1px 2px rgba(0, 0, 0, 0.3));\n",
              "      fill: #FFFFFF;\n",
              "    }\n",
              "  </style>\n",
              "\n",
              "      <script>\n",
              "        const buttonEl =\n",
              "          document.querySelector('#df-1f83c0d9-6533-41e7-bdba-7aa1c5294361 button.colab-df-convert');\n",
              "        buttonEl.style.display =\n",
              "          google.colab.kernel.accessAllowed ? 'block' : 'none';\n",
              "\n",
              "        async function convertToInteractive(key) {\n",
              "          const element = document.querySelector('#df-1f83c0d9-6533-41e7-bdba-7aa1c5294361');\n",
              "          const dataTable =\n",
              "            await google.colab.kernel.invokeFunction('convertToInteractive',\n",
              "                                                     [key], {});\n",
              "          if (!dataTable) return;\n",
              "\n",
              "          const docLinkHtml = 'Like what you see? Visit the ' +\n",
              "            '<a target=\"_blank\" href=https://colab.research.google.com/notebooks/data_table.ipynb>data table notebook</a>'\n",
              "            + ' to learn more about interactive tables.';\n",
              "          element.innerHTML = '';\n",
              "          dataTable['output_type'] = 'display_data';\n",
              "          await google.colab.output.renderOutput(dataTable, element);\n",
              "          const docLink = document.createElement('div');\n",
              "          docLink.innerHTML = docLinkHtml;\n",
              "          element.appendChild(docLink);\n",
              "        }\n",
              "      </script>\n",
              "    </div>\n",
              "  </div>\n",
              "  "
            ]
          },
          "metadata": {},
          "execution_count": 25
        }
      ]
    },
    {
      "cell_type": "code",
      "source": [
        "X_imputed.isnull().sum()"
      ],
      "metadata": {
        "colab": {
          "base_uri": "https://localhost:8080/"
        },
        "id": "Q5U7_pO2vSDi",
        "outputId": "2ae801d8-990b-4f57-ec99-ab3ff6cf0fdc"
      },
      "execution_count": 26,
      "outputs": [
        {
          "output_type": "execute_result",
          "data": {
            "text/plain": [
              "area_type                            0\n",
              "total_sqft                           0\n",
              "bath                                 0\n",
              "balcony                              0\n",
              "val_size                             0\n",
              "                                    ..\n",
              "availability_22-Mar                  0\n",
              "availability_22-May                  0\n",
              "availability_22-Nov                  0\n",
              "availability_Immediate Possession    0\n",
              "availability_Ready To Move           0\n",
              "Length: 87, dtype: int64"
            ]
          },
          "metadata": {},
          "execution_count": 26
        }
      ]
    },
    {
      "cell_type": "markdown",
      "source": [
        "BALANCEO\n"
      ],
      "metadata": {
        "id": "-OQd_oBXvVCi"
      }
    },
    {
      "cell_type": "code",
      "source": [
        "df.Price.value_counts()\n",
        "r = RandomUnderSampler()\n",
        "X_r, y_r = r.fit_resample(X_imputed,y)\n",
        "y_r.value_counts()"
      ],
      "metadata": {
        "colab": {
          "base_uri": "https://localhost:8080/"
        },
        "id": "UssQ0rLBvWYm",
        "outputId": "02fd8652-b9ef-4747-d9e0-c0db56f39da5"
      },
      "execution_count": 27,
      "outputs": [
        {
          "output_type": "execute_result",
          "data": {
            "text/plain": [
              "0    3403\n",
              "1    3403\n",
              "2    3403\n",
              "Name: Price, dtype: int64"
            ]
          },
          "metadata": {},
          "execution_count": 27
        }
      ]
    },
    {
      "cell_type": "code",
      "source": [
        "X_imputed.info()"
      ],
      "metadata": {
        "colab": {
          "base_uri": "https://localhost:8080/"
        },
        "id": "u3361K-nvlSu",
        "outputId": "4a00788e-3e68-4ca9-b3e3-3c9144e1dc51"
      },
      "execution_count": 28,
      "outputs": [
        {
          "output_type": "stream",
          "name": "stdout",
          "text": [
            "<class 'pandas.core.frame.DataFrame'>\n",
            "RangeIndex: 13320 entries, 0 to 13319\n",
            "Data columns (total 87 columns):\n",
            " #   Column                             Non-Null Count  Dtype  \n",
            "---  ------                             --------------  -----  \n",
            " 0   area_type                          13320 non-null  float64\n",
            " 1   total_sqft                         13320 non-null  float64\n",
            " 2   bath                               13320 non-null  float64\n",
            " 3   balcony                            13320 non-null  float64\n",
            " 4   val_size                           13320 non-null  float64\n",
            " 5   val_cat                            13320 non-null  float64\n",
            " 6   availability_14-Jul                13320 non-null  float64\n",
            " 7   availability_14-Nov                13320 non-null  float64\n",
            " 8   availability_15-Aug                13320 non-null  float64\n",
            " 9   availability_15-Dec                13320 non-null  float64\n",
            " 10  availability_15-Jun                13320 non-null  float64\n",
            " 11  availability_15-Nov                13320 non-null  float64\n",
            " 12  availability_15-Oct                13320 non-null  float64\n",
            " 13  availability_16-Dec                13320 non-null  float64\n",
            " 14  availability_16-Jan                13320 non-null  float64\n",
            " 15  availability_16-Jul                13320 non-null  float64\n",
            " 16  availability_16-Mar                13320 non-null  float64\n",
            " 17  availability_16-Nov                13320 non-null  float64\n",
            " 18  availability_16-Oct                13320 non-null  float64\n",
            " 19  availability_16-Sep                13320 non-null  float64\n",
            " 20  availability_17-Apr                13320 non-null  float64\n",
            " 21  availability_17-Aug                13320 non-null  float64\n",
            " 22  availability_17-Dec                13320 non-null  float64\n",
            " 23  availability_17-Feb                13320 non-null  float64\n",
            " 24  availability_17-Jan                13320 non-null  float64\n",
            " 25  availability_17-Jul                13320 non-null  float64\n",
            " 26  availability_17-Jun                13320 non-null  float64\n",
            " 27  availability_17-Mar                13320 non-null  float64\n",
            " 28  availability_17-May                13320 non-null  float64\n",
            " 29  availability_17-Nov                13320 non-null  float64\n",
            " 30  availability_17-Oct                13320 non-null  float64\n",
            " 31  availability_17-Sep                13320 non-null  float64\n",
            " 32  availability_18-Apr                13320 non-null  float64\n",
            " 33  availability_18-Aug                13320 non-null  float64\n",
            " 34  availability_18-Dec                13320 non-null  float64\n",
            " 35  availability_18-Feb                13320 non-null  float64\n",
            " 36  availability_18-Jan                13320 non-null  float64\n",
            " 37  availability_18-Jul                13320 non-null  float64\n",
            " 38  availability_18-Jun                13320 non-null  float64\n",
            " 39  availability_18-Mar                13320 non-null  float64\n",
            " 40  availability_18-May                13320 non-null  float64\n",
            " 41  availability_18-Nov                13320 non-null  float64\n",
            " 42  availability_18-Oct                13320 non-null  float64\n",
            " 43  availability_18-Sep                13320 non-null  float64\n",
            " 44  availability_19-Apr                13320 non-null  float64\n",
            " 45  availability_19-Aug                13320 non-null  float64\n",
            " 46  availability_19-Dec                13320 non-null  float64\n",
            " 47  availability_19-Feb                13320 non-null  float64\n",
            " 48  availability_19-Jan                13320 non-null  float64\n",
            " 49  availability_19-Jul                13320 non-null  float64\n",
            " 50  availability_19-Jun                13320 non-null  float64\n",
            " 51  availability_19-Mar                13320 non-null  float64\n",
            " 52  availability_19-May                13320 non-null  float64\n",
            " 53  availability_19-Nov                13320 non-null  float64\n",
            " 54  availability_19-Oct                13320 non-null  float64\n",
            " 55  availability_19-Sep                13320 non-null  float64\n",
            " 56  availability_20-Apr                13320 non-null  float64\n",
            " 57  availability_20-Aug                13320 non-null  float64\n",
            " 58  availability_20-Dec                13320 non-null  float64\n",
            " 59  availability_20-Feb                13320 non-null  float64\n",
            " 60  availability_20-Jan                13320 non-null  float64\n",
            " 61  availability_20-Jul                13320 non-null  float64\n",
            " 62  availability_20-Jun                13320 non-null  float64\n",
            " 63  availability_20-Mar                13320 non-null  float64\n",
            " 64  availability_20-May                13320 non-null  float64\n",
            " 65  availability_20-Nov                13320 non-null  float64\n",
            " 66  availability_20-Oct                13320 non-null  float64\n",
            " 67  availability_20-Sep                13320 non-null  float64\n",
            " 68  availability_21-Aug                13320 non-null  float64\n",
            " 69  availability_21-Dec                13320 non-null  float64\n",
            " 70  availability_21-Feb                13320 non-null  float64\n",
            " 71  availability_21-Jan                13320 non-null  float64\n",
            " 72  availability_21-Jul                13320 non-null  float64\n",
            " 73  availability_21-Jun                13320 non-null  float64\n",
            " 74  availability_21-Mar                13320 non-null  float64\n",
            " 75  availability_21-May                13320 non-null  float64\n",
            " 76  availability_21-Nov                13320 non-null  float64\n",
            " 77  availability_21-Oct                13320 non-null  float64\n",
            " 78  availability_21-Sep                13320 non-null  float64\n",
            " 79  availability_22-Dec                13320 non-null  float64\n",
            " 80  availability_22-Jan                13320 non-null  float64\n",
            " 81  availability_22-Jun                13320 non-null  float64\n",
            " 82  availability_22-Mar                13320 non-null  float64\n",
            " 83  availability_22-May                13320 non-null  float64\n",
            " 84  availability_22-Nov                13320 non-null  float64\n",
            " 85  availability_Immediate Possession  13320 non-null  float64\n",
            " 86  availability_Ready To Move         13320 non-null  float64\n",
            "dtypes: float64(87)\n",
            "memory usage: 8.8 MB\n"
          ]
        }
      ]
    },
    {
      "cell_type": "code",
      "source": [
        "df"
      ],
      "metadata": {
        "colab": {
          "base_uri": "https://localhost:8080/",
          "height": 423
        },
        "id": "4_zoXKbUqKoW",
        "outputId": "15106dd6-dd2a-4aef-fa8e-6a8d49bbe02a"
      },
      "execution_count": 29,
      "outputs": [
        {
          "output_type": "execute_result",
          "data": {
            "text/plain": [
              "       area_type   availability  total_sqft  bath   balcony  val_size  \\\n",
              "0             73         19-Dec      1056.0   2.0  1.000000       2.0   \n",
              "1             57  Ready To Move      2600.0   5.0  3.000000       4.0   \n",
              "2              0  Ready To Move      1440.0   2.0  3.000000       3.0   \n",
              "3             73  Ready To Move      1521.0   3.0  1.000000       3.0   \n",
              "4             73  Ready To Move      1200.0   2.0  1.000000       2.0   \n",
              "...          ...            ...         ...   ...       ...       ...   \n",
              "13315          0  Ready To Move      3453.0   4.0  0.000000       5.0   \n",
              "13316         73  Ready To Move      3600.0   5.0  1.583854       4.0   \n",
              "13317          0  Ready To Move      1141.0   2.0  1.000000       2.0   \n",
              "13318         73         18-Jun      4689.0   4.0  1.000000       4.0   \n",
              "13319         73  Ready To Move       550.0   1.0  1.000000       1.0   \n",
              "\n",
              "       val_cat  Price  \n",
              "0            0      1  \n",
              "1            1      0  \n",
              "2            0      2  \n",
              "3            0      2  \n",
              "4            0      2  \n",
              "...        ...    ...  \n",
              "13315        1      0  \n",
              "13316        0      0  \n",
              "13317        0      2  \n",
              "13318        0      0  \n",
              "13319        0      1  \n",
              "\n",
              "[13320 rows x 8 columns]"
            ],
            "text/html": [
              "\n",
              "  <div id=\"df-74caf26f-db51-4044-9422-47553bb8928f\">\n",
              "    <div class=\"colab-df-container\">\n",
              "      <div>\n",
              "<style scoped>\n",
              "    .dataframe tbody tr th:only-of-type {\n",
              "        vertical-align: middle;\n",
              "    }\n",
              "\n",
              "    .dataframe tbody tr th {\n",
              "        vertical-align: top;\n",
              "    }\n",
              "\n",
              "    .dataframe thead th {\n",
              "        text-align: right;\n",
              "    }\n",
              "</style>\n",
              "<table border=\"1\" class=\"dataframe\">\n",
              "  <thead>\n",
              "    <tr style=\"text-align: right;\">\n",
              "      <th></th>\n",
              "      <th>area_type</th>\n",
              "      <th>availability</th>\n",
              "      <th>total_sqft</th>\n",
              "      <th>bath</th>\n",
              "      <th>balcony</th>\n",
              "      <th>val_size</th>\n",
              "      <th>val_cat</th>\n",
              "      <th>Price</th>\n",
              "    </tr>\n",
              "  </thead>\n",
              "  <tbody>\n",
              "    <tr>\n",
              "      <th>0</th>\n",
              "      <td>73</td>\n",
              "      <td>19-Dec</td>\n",
              "      <td>1056.0</td>\n",
              "      <td>2.0</td>\n",
              "      <td>1.000000</td>\n",
              "      <td>2.0</td>\n",
              "      <td>0</td>\n",
              "      <td>1</td>\n",
              "    </tr>\n",
              "    <tr>\n",
              "      <th>1</th>\n",
              "      <td>57</td>\n",
              "      <td>Ready To Move</td>\n",
              "      <td>2600.0</td>\n",
              "      <td>5.0</td>\n",
              "      <td>3.000000</td>\n",
              "      <td>4.0</td>\n",
              "      <td>1</td>\n",
              "      <td>0</td>\n",
              "    </tr>\n",
              "    <tr>\n",
              "      <th>2</th>\n",
              "      <td>0</td>\n",
              "      <td>Ready To Move</td>\n",
              "      <td>1440.0</td>\n",
              "      <td>2.0</td>\n",
              "      <td>3.000000</td>\n",
              "      <td>3.0</td>\n",
              "      <td>0</td>\n",
              "      <td>2</td>\n",
              "    </tr>\n",
              "    <tr>\n",
              "      <th>3</th>\n",
              "      <td>73</td>\n",
              "      <td>Ready To Move</td>\n",
              "      <td>1521.0</td>\n",
              "      <td>3.0</td>\n",
              "      <td>1.000000</td>\n",
              "      <td>3.0</td>\n",
              "      <td>0</td>\n",
              "      <td>2</td>\n",
              "    </tr>\n",
              "    <tr>\n",
              "      <th>4</th>\n",
              "      <td>73</td>\n",
              "      <td>Ready To Move</td>\n",
              "      <td>1200.0</td>\n",
              "      <td>2.0</td>\n",
              "      <td>1.000000</td>\n",
              "      <td>2.0</td>\n",
              "      <td>0</td>\n",
              "      <td>2</td>\n",
              "    </tr>\n",
              "    <tr>\n",
              "      <th>...</th>\n",
              "      <td>...</td>\n",
              "      <td>...</td>\n",
              "      <td>...</td>\n",
              "      <td>...</td>\n",
              "      <td>...</td>\n",
              "      <td>...</td>\n",
              "      <td>...</td>\n",
              "      <td>...</td>\n",
              "    </tr>\n",
              "    <tr>\n",
              "      <th>13315</th>\n",
              "      <td>0</td>\n",
              "      <td>Ready To Move</td>\n",
              "      <td>3453.0</td>\n",
              "      <td>4.0</td>\n",
              "      <td>0.000000</td>\n",
              "      <td>5.0</td>\n",
              "      <td>1</td>\n",
              "      <td>0</td>\n",
              "    </tr>\n",
              "    <tr>\n",
              "      <th>13316</th>\n",
              "      <td>73</td>\n",
              "      <td>Ready To Move</td>\n",
              "      <td>3600.0</td>\n",
              "      <td>5.0</td>\n",
              "      <td>1.583854</td>\n",
              "      <td>4.0</td>\n",
              "      <td>0</td>\n",
              "      <td>0</td>\n",
              "    </tr>\n",
              "    <tr>\n",
              "      <th>13317</th>\n",
              "      <td>0</td>\n",
              "      <td>Ready To Move</td>\n",
              "      <td>1141.0</td>\n",
              "      <td>2.0</td>\n",
              "      <td>1.000000</td>\n",
              "      <td>2.0</td>\n",
              "      <td>0</td>\n",
              "      <td>2</td>\n",
              "    </tr>\n",
              "    <tr>\n",
              "      <th>13318</th>\n",
              "      <td>73</td>\n",
              "      <td>18-Jun</td>\n",
              "      <td>4689.0</td>\n",
              "      <td>4.0</td>\n",
              "      <td>1.000000</td>\n",
              "      <td>4.0</td>\n",
              "      <td>0</td>\n",
              "      <td>0</td>\n",
              "    </tr>\n",
              "    <tr>\n",
              "      <th>13319</th>\n",
              "      <td>73</td>\n",
              "      <td>Ready To Move</td>\n",
              "      <td>550.0</td>\n",
              "      <td>1.0</td>\n",
              "      <td>1.000000</td>\n",
              "      <td>1.0</td>\n",
              "      <td>0</td>\n",
              "      <td>1</td>\n",
              "    </tr>\n",
              "  </tbody>\n",
              "</table>\n",
              "<p>13320 rows × 8 columns</p>\n",
              "</div>\n",
              "      <button class=\"colab-df-convert\" onclick=\"convertToInteractive('df-74caf26f-db51-4044-9422-47553bb8928f')\"\n",
              "              title=\"Convert this dataframe to an interactive table.\"\n",
              "              style=\"display:none;\">\n",
              "        \n",
              "  <svg xmlns=\"http://www.w3.org/2000/svg\" height=\"24px\"viewBox=\"0 0 24 24\"\n",
              "       width=\"24px\">\n",
              "    <path d=\"M0 0h24v24H0V0z\" fill=\"none\"/>\n",
              "    <path d=\"M18.56 5.44l.94 2.06.94-2.06 2.06-.94-2.06-.94-.94-2.06-.94 2.06-2.06.94zm-11 1L8.5 8.5l.94-2.06 2.06-.94-2.06-.94L8.5 2.5l-.94 2.06-2.06.94zm10 10l.94 2.06.94-2.06 2.06-.94-2.06-.94-.94-2.06-.94 2.06-2.06.94z\"/><path d=\"M17.41 7.96l-1.37-1.37c-.4-.4-.92-.59-1.43-.59-.52 0-1.04.2-1.43.59L10.3 9.45l-7.72 7.72c-.78.78-.78 2.05 0 2.83L4 21.41c.39.39.9.59 1.41.59.51 0 1.02-.2 1.41-.59l7.78-7.78 2.81-2.81c.8-.78.8-2.07 0-2.86zM5.41 20L4 18.59l7.72-7.72 1.47 1.35L5.41 20z\"/>\n",
              "  </svg>\n",
              "      </button>\n",
              "      \n",
              "  <style>\n",
              "    .colab-df-container {\n",
              "      display:flex;\n",
              "      flex-wrap:wrap;\n",
              "      gap: 12px;\n",
              "    }\n",
              "\n",
              "    .colab-df-convert {\n",
              "      background-color: #E8F0FE;\n",
              "      border: none;\n",
              "      border-radius: 50%;\n",
              "      cursor: pointer;\n",
              "      display: none;\n",
              "      fill: #1967D2;\n",
              "      height: 32px;\n",
              "      padding: 0 0 0 0;\n",
              "      width: 32px;\n",
              "    }\n",
              "\n",
              "    .colab-df-convert:hover {\n",
              "      background-color: #E2EBFA;\n",
              "      box-shadow: 0px 1px 2px rgba(60, 64, 67, 0.3), 0px 1px 3px 1px rgba(60, 64, 67, 0.15);\n",
              "      fill: #174EA6;\n",
              "    }\n",
              "\n",
              "    [theme=dark] .colab-df-convert {\n",
              "      background-color: #3B4455;\n",
              "      fill: #D2E3FC;\n",
              "    }\n",
              "\n",
              "    [theme=dark] .colab-df-convert:hover {\n",
              "      background-color: #434B5C;\n",
              "      box-shadow: 0px 1px 3px 1px rgba(0, 0, 0, 0.15);\n",
              "      filter: drop-shadow(0px 1px 2px rgba(0, 0, 0, 0.3));\n",
              "      fill: #FFFFFF;\n",
              "    }\n",
              "  </style>\n",
              "\n",
              "      <script>\n",
              "        const buttonEl =\n",
              "          document.querySelector('#df-74caf26f-db51-4044-9422-47553bb8928f button.colab-df-convert');\n",
              "        buttonEl.style.display =\n",
              "          google.colab.kernel.accessAllowed ? 'block' : 'none';\n",
              "\n",
              "        async function convertToInteractive(key) {\n",
              "          const element = document.querySelector('#df-74caf26f-db51-4044-9422-47553bb8928f');\n",
              "          const dataTable =\n",
              "            await google.colab.kernel.invokeFunction('convertToInteractive',\n",
              "                                                     [key], {});\n",
              "          if (!dataTable) return;\n",
              "\n",
              "          const docLinkHtml = 'Like what you see? Visit the ' +\n",
              "            '<a target=\"_blank\" href=https://colab.research.google.com/notebooks/data_table.ipynb>data table notebook</a>'\n",
              "            + ' to learn more about interactive tables.';\n",
              "          element.innerHTML = '';\n",
              "          dataTable['output_type'] = 'display_data';\n",
              "          await google.colab.output.renderOutput(dataTable, element);\n",
              "          const docLink = document.createElement('div');\n",
              "          docLink.innerHTML = docLinkHtml;\n",
              "          element.appendChild(docLink);\n",
              "        }\n",
              "      </script>\n",
              "    </div>\n",
              "  </div>\n",
              "  "
            ]
          },
          "metadata": {},
          "execution_count": 29
        }
      ]
    },
    {
      "cell_type": "code",
      "source": [
        "df['availability']=df['availability'].str.split(\"-\").str[-1]"
      ],
      "metadata": {
        "id": "o5AHMZUXsN-g"
      },
      "execution_count": 30,
      "outputs": []
    },
    {
      "cell_type": "code",
      "source": [
        "df['availability'].value_counts()"
      ],
      "metadata": {
        "colab": {
          "base_uri": "https://localhost:8080/"
        },
        "id": "fsFzEXNysaeK",
        "outputId": "d7dc6b5b-10fe-4769-a698-98392e8bd15b"
      },
      "execution_count": 31,
      "outputs": [
        {
          "output_type": "execute_result",
          "data": {
            "text/plain": [
              "Ready To Move           10535\n",
              "Dec                       705\n",
              "May                       334\n",
              "Apr                       298\n",
              "Aug                       249\n",
              "Mar                       245\n",
              "Jul                       203\n",
              "Jun                       198\n",
              "Jan                       125\n",
              "Oct                        91\n",
              "Sep                        87\n",
              "Nov                        79\n",
              "Feb                        75\n",
              "Immediate Possession       16\n",
              "Name: availability, dtype: int64"
            ]
          },
          "metadata": {},
          "execution_count": 31
        }
      ]
    },
    {
      "cell_type": "code",
      "source": [
        "df['availability']=le.fit_transform(df['availability'])"
      ],
      "metadata": {
        "id": "UjvoSHbUsgNz"
      },
      "execution_count": 32,
      "outputs": []
    },
    {
      "cell_type": "code",
      "source": [
        "y = to_categorical(y,3)"
      ],
      "metadata": {
        "id": "umJd2n0BvriC"
      },
      "execution_count": 33,
      "outputs": []
    },
    {
      "cell_type": "markdown",
      "source": [
        "Eliminacion atipicos\n"
      ],
      "metadata": {
        "id": "GEnLSnQ1v6nm"
      }
    },
    {
      "cell_type": "code",
      "source": [
        "plt.figure(figsize=(15,5))\n",
        "c = ['total_sqft', 'bath', 'val_size']\n",
        "for i in enumerate(c):\n",
        "  plt.subplot(3,3,i[0]+1)\n",
        "  sns.boxplot(x=i[1], data=X_imputed)\n",
        "\n",
        "for i in c:\n",
        "  q1 = X_imputed[i].quantile(0.1) \n",
        "  q4 = X_imputed[i].quantile(0.9) \n",
        "  X_imputed[i][X_imputed[i]<= q1] = q1\n",
        "  X_imputed[i][X_imputed[i]>= q4] = q4\n"
      ],
      "metadata": {
        "colab": {
          "base_uri": "https://localhost:8080/",
          "height": 143
        },
        "id": "q-1jwRWHv2MD",
        "outputId": "218c23fc-ceac-4d26-a8bf-10e2a83f7cff"
      },
      "execution_count": 34,
      "outputs": [
        {
          "output_type": "display_data",
          "data": {
            "text/plain": [
              "<Figure size 1080x360 with 3 Axes>"
            ],
            "image/png": "[encoded data removed]"
          },
          "metadata": {
            "needs_background": "light"
          }
        }
      ]
    },
    {
      "cell_type": "code",
      "source": [
        "plt.figure(figsize=(15,15))\n",
        "c = ['total_sqft',  'bath', 'val_size']\n",
        "for i in enumerate(c):\n",
        "  plt.subplot(3,3,i[0]+1)\n",
        "  sns.boxplot(x=i[1], data=X_imputed)"
      ],
      "metadata": {
        "colab": {
          "base_uri": "https://localhost:8080/",
          "height": 303
        },
        "id": "b0U_dppNv83d",
        "outputId": "a68fb567-cf71-4ed8-dc1a-a3503c8ae1e8"
      },
      "execution_count": 35,
      "outputs": [
        {
          "output_type": "display_data",
          "data": {
            "text/plain": [
              "<Figure size 1080x1080 with 3 Axes>"
            ],
            "image/png": "[encoded data removed]"
          },
          "metadata": {
            "needs_background": "light"
          }
        }
      ]
    },
    {
      "cell_type": "code",
      "source": [
        "scaler = MinMaxScaler() \n",
        "c = [\"total_sqft\",\"bath\", \"balcony\",\"val_size\"]\n",
        "X_imputed[c] = scaler.fit_transform(X_imputed[c])"
      ],
      "metadata": {
        "id": "VRiOHc8lv-5S"
      },
      "execution_count": 36,
      "outputs": []
    },
    {
      "cell_type": "markdown",
      "source": [
        "**ENTRENAMIENTO**"
      ],
      "metadata": {
        "id": "xCyu6LenwHcq"
      }
    },
    {
      "cell_type": "code",
      "source": [
        "X_train, X_test, y_train, y_test = train_test_split(X_imputed, y, random_state = 63, test_size=0.3)"
      ],
      "metadata": {
        "id": "3oC2YQXl5Lcu"
      },
      "execution_count": 37,
      "outputs": []
    },
    {
      "cell_type": "code",
      "source": [
        "ann = Sequential()\n",
        "ann.add(Dense(12,activation='relu'))\n",
        "ann.add(Dense(6,activation='relu'))\n",
        "ann.add(Dense(3,activation='softmax'))\n",
        "ann.compile(optimizer=\"adam\",loss='categorical_crossentropy', metrics=[\"accuracy\"])"
      ],
      "metadata": {
        "id": "VwWz9hbPwkN7"
      },
      "execution_count": 38,
      "outputs": []
    },
    {
      "cell_type": "markdown",
      "source": [],
      "metadata": {
        "id": "I7W1cGN7v-6v"
      }
    },
    {
      "cell_type": "code",
      "source": [
        "ann.fit(x=X_train,y=y_train,validation_data=(X_test,y_test),batch_size=150, epochs= 75,verbose=1) "
      ],
      "metadata": {
        "colab": {
          "base_uri": "https://localhost:8080/"
        },
        "id": "dPFkwlQfwF41",
        "outputId": "3351e95b-7ac3-4477-aa45-83e937d1be0c"
      },
      "execution_count": 39,
      "outputs": [
        {
          "output_type": "stream",
          "name": "stdout",
          "text": [
            "Epoch 1/75\n",
            "63/63 [==============================] - 1s 7ms/step - loss: 1.0305 - accuracy: 0.4596 - val_loss: 1.0039 - val_accuracy: 0.5063\n",
            "Epoch 2/75\n",
            "63/63 [==============================] - 0s 3ms/step - loss: 0.9868 - accuracy: 0.5279 - val_loss: 0.9604 - val_accuracy: 0.5448\n",
            "Epoch 3/75\n",
            "63/63 [==============================] - 0s 3ms/step - loss: 0.9393 - accuracy: 0.5639 - val_loss: 0.9076 - val_accuracy: 0.5673\n",
            "Epoch 4/75\n",
            "63/63 [==============================] - 0s 3ms/step - loss: 0.8880 - accuracy: 0.5793 - val_loss: 0.8541 - val_accuracy: 0.5906\n",
            "Epoch 5/75\n",
            "63/63 [==============================] - 0s 3ms/step - loss: 0.8371 - accuracy: 0.6023 - val_loss: 0.8093 - val_accuracy: 0.6171\n",
            "Epoch 6/75\n",
            "63/63 [==============================] - 0s 3ms/step - loss: 0.7953 - accuracy: 0.6159 - val_loss: 0.7759 - val_accuracy: 0.6371\n",
            "Epoch 7/75\n",
            "63/63 [==============================] - 0s 3ms/step - loss: 0.7620 - accuracy: 0.6219 - val_loss: 0.7409 - val_accuracy: 0.6349\n",
            "Epoch 8/75\n",
            "63/63 [==============================] - 0s 3ms/step - loss: 0.7300 - accuracy: 0.6371 - val_loss: 0.7054 - val_accuracy: 0.6592\n",
            "Epoch 9/75\n",
            "63/63 [==============================] - 0s 3ms/step - loss: 0.7015 - accuracy: 0.6549 - val_loss: 0.6820 - val_accuracy: 0.6907\n",
            "Epoch 10/75\n",
            "63/63 [==============================] - 0s 3ms/step - loss: 0.6883 - accuracy: 0.6701 - val_loss: 0.6640 - val_accuracy: 0.6972\n",
            "Epoch 11/75\n",
            "63/63 [==============================] - 0s 3ms/step - loss: 0.6774 - accuracy: 0.6849 - val_loss: 0.6542 - val_accuracy: 0.7022\n",
            "Epoch 12/75\n",
            "63/63 [==============================] - 0s 3ms/step - loss: 0.6711 - accuracy: 0.6903 - val_loss: 0.6491 - val_accuracy: 0.7052\n",
            "Epoch 13/75\n",
            "63/63 [==============================] - 0s 3ms/step - loss: 0.6634 - accuracy: 0.6998 - val_loss: 0.6398 - val_accuracy: 0.7062\n",
            "Epoch 14/75\n",
            "63/63 [==============================] - 0s 3ms/step - loss: 0.6563 - accuracy: 0.7007 - val_loss: 0.6380 - val_accuracy: 0.7037\n",
            "Epoch 15/75\n",
            "63/63 [==============================] - 0s 3ms/step - loss: 0.6522 - accuracy: 0.7013 - val_loss: 0.6313 - val_accuracy: 0.7045\n",
            "Epoch 16/75\n",
            "63/63 [==============================] - 0s 3ms/step - loss: 0.6525 - accuracy: 0.7035 - val_loss: 0.6303 - val_accuracy: 0.7087\n",
            "Epoch 17/75\n",
            "63/63 [==============================] - 0s 3ms/step - loss: 0.6440 - accuracy: 0.7111 - val_loss: 0.6267 - val_accuracy: 0.7067\n",
            "Epoch 18/75\n",
            "63/63 [==============================] - 0s 3ms/step - loss: 0.6415 - accuracy: 0.7135 - val_loss: 0.6209 - val_accuracy: 0.7142\n",
            "Epoch 19/75\n",
            "63/63 [==============================] - 0s 3ms/step - loss: 0.6400 - accuracy: 0.7097 - val_loss: 0.6170 - val_accuracy: 0.7162\n",
            "Epoch 20/75\n",
            "63/63 [==============================] - 0s 3ms/step - loss: 0.6384 - accuracy: 0.7142 - val_loss: 0.6262 - val_accuracy: 0.7067\n",
            "Epoch 21/75\n",
            "63/63 [==============================] - 0s 3ms/step - loss: 0.6349 - accuracy: 0.7168 - val_loss: 0.6322 - val_accuracy: 0.6997\n",
            "Epoch 22/75\n",
            "63/63 [==============================] - 0s 3ms/step - loss: 0.6333 - accuracy: 0.7126 - val_loss: 0.6122 - val_accuracy: 0.7197\n",
            "Epoch 23/75\n",
            "63/63 [==============================] - 0s 3ms/step - loss: 0.6281 - accuracy: 0.7164 - val_loss: 0.6076 - val_accuracy: 0.7247\n",
            "Epoch 24/75\n",
            "63/63 [==============================] - 0s 4ms/step - loss: 0.6275 - accuracy: 0.7184 - val_loss: 0.6059 - val_accuracy: 0.7240\n",
            "Epoch 25/75\n",
            "63/63 [==============================] - 0s 3ms/step - loss: 0.6245 - accuracy: 0.7236 - val_loss: 0.6084 - val_accuracy: 0.7237\n",
            "Epoch 26/75\n",
            "63/63 [==============================] - 0s 4ms/step - loss: 0.6232 - accuracy: 0.7217 - val_loss: 0.6035 - val_accuracy: 0.7215\n",
            "Epoch 27/75\n",
            "63/63 [==============================] - 0s 3ms/step - loss: 0.6208 - accuracy: 0.7260 - val_loss: 0.6051 - val_accuracy: 0.7220\n",
            "Epoch 28/75\n",
            "63/63 [==============================] - 0s 3ms/step - loss: 0.6191 - accuracy: 0.7230 - val_loss: 0.6061 - val_accuracy: 0.7185\n",
            "Epoch 29/75\n",
            "63/63 [==============================] - 0s 3ms/step - loss: 0.6214 - accuracy: 0.7183 - val_loss: 0.6105 - val_accuracy: 0.7167\n",
            "Epoch 30/75\n",
            "63/63 [==============================] - 0s 3ms/step - loss: 0.6215 - accuracy: 0.7195 - val_loss: 0.6113 - val_accuracy: 0.7210\n",
            "Epoch 31/75\n",
            "63/63 [==============================] - 0s 3ms/step - loss: 0.6147 - accuracy: 0.7276 - val_loss: 0.5997 - val_accuracy: 0.7235\n",
            "Epoch 32/75\n",
            "63/63 [==============================] - 0s 3ms/step - loss: 0.6132 - accuracy: 0.7314 - val_loss: 0.6017 - val_accuracy: 0.7210\n",
            "Epoch 33/75\n",
            "63/63 [==============================] - 0s 3ms/step - loss: 0.6137 - accuracy: 0.7302 - val_loss: 0.5969 - val_accuracy: 0.7285\n",
            "Epoch 34/75\n",
            "63/63 [==============================] - 0s 3ms/step - loss: 0.6119 - accuracy: 0.7293 - val_loss: 0.6101 - val_accuracy: 0.7177\n",
            "Epoch 35/75\n",
            "63/63 [==============================] - 0s 3ms/step - loss: 0.6130 - accuracy: 0.7276 - val_loss: 0.5995 - val_accuracy: 0.7217\n",
            "Epoch 36/75\n",
            "63/63 [==============================] - 0s 3ms/step - loss: 0.6107 - accuracy: 0.7277 - val_loss: 0.5964 - val_accuracy: 0.7282\n",
            "Epoch 37/75\n",
            "63/63 [==============================] - 0s 3ms/step - loss: 0.6105 - accuracy: 0.7295 - val_loss: 0.6028 - val_accuracy: 0.7210\n",
            "Epoch 38/75\n",
            "63/63 [==============================] - 0s 3ms/step - loss: 0.6104 - accuracy: 0.7279 - val_loss: 0.5995 - val_accuracy: 0.7262\n",
            "Epoch 39/75\n",
            "63/63 [==============================] - 0s 4ms/step - loss: 0.6102 - accuracy: 0.7264 - val_loss: 0.6009 - val_accuracy: 0.7220\n",
            "Epoch 40/75\n",
            "63/63 [==============================] - 0s 3ms/step - loss: 0.6078 - accuracy: 0.7291 - val_loss: 0.5978 - val_accuracy: 0.7242\n",
            "Epoch 41/75\n",
            "63/63 [==============================] - 0s 4ms/step - loss: 0.6113 - accuracy: 0.7269 - val_loss: 0.6110 - val_accuracy: 0.7162\n",
            "Epoch 42/75\n",
            "63/63 [==============================] - 0s 3ms/step - loss: 0.6119 - accuracy: 0.7276 - val_loss: 0.5945 - val_accuracy: 0.7292\n",
            "Epoch 43/75\n",
            "63/63 [==============================] - 0s 4ms/step - loss: 0.6118 - accuracy: 0.7251 - val_loss: 0.5953 - val_accuracy: 0.7292\n",
            "Epoch 44/75\n",
            "63/63 [==============================] - 0s 4ms/step - loss: 0.6075 - accuracy: 0.7310 - val_loss: 0.5945 - val_accuracy: 0.7290\n",
            "Epoch 45/75\n",
            "63/63 [==============================] - 0s 4ms/step - loss: 0.6081 - accuracy: 0.7311 - val_loss: 0.5939 - val_accuracy: 0.7307\n",
            "Epoch 46/75\n",
            "63/63 [==============================] - 0s 4ms/step - loss: 0.6046 - accuracy: 0.7312 - val_loss: 0.5966 - val_accuracy: 0.7267\n",
            "Epoch 47/75\n",
            "63/63 [==============================] - 0s 3ms/step - loss: 0.6042 - accuracy: 0.7311 - val_loss: 0.6020 - val_accuracy: 0.7217\n",
            "Epoch 48/75\n",
            "63/63 [==============================] - 0s 3ms/step - loss: 0.6035 - accuracy: 0.7332 - val_loss: 0.5945 - val_accuracy: 0.7300\n",
            "Epoch 49/75\n",
            "63/63 [==============================] - 0s 3ms/step - loss: 0.6025 - accuracy: 0.7317 - val_loss: 0.5938 - val_accuracy: 0.7285\n",
            "Epoch 50/75\n",
            "63/63 [==============================] - 0s 3ms/step - loss: 0.6025 - accuracy: 0.7308 - val_loss: 0.6012 - val_accuracy: 0.7310\n",
            "Epoch 51/75\n",
            "63/63 [==============================] - 0s 3ms/step - loss: 0.6082 - accuracy: 0.7275 - val_loss: 0.5939 - val_accuracy: 0.7317\n",
            "Epoch 52/75\n",
            "63/63 [==============================] - 0s 5ms/step - loss: 0.6040 - accuracy: 0.7270 - val_loss: 0.5965 - val_accuracy: 0.7277\n",
            "Epoch 53/75\n",
            "63/63 [==============================] - 0s 4ms/step - loss: 0.6027 - accuracy: 0.7316 - val_loss: 0.5946 - val_accuracy: 0.7292\n",
            "Epoch 54/75\n",
            "63/63 [==============================] - 0s 3ms/step - loss: 0.5993 - accuracy: 0.7327 - val_loss: 0.5915 - val_accuracy: 0.7337\n",
            "Epoch 55/75\n",
            "63/63 [==============================] - 0s 4ms/step - loss: 0.5991 - accuracy: 0.7323 - val_loss: 0.5979 - val_accuracy: 0.7285\n",
            "Epoch 56/75\n",
            "63/63 [==============================] - 0s 4ms/step - loss: 0.5985 - accuracy: 0.7311 - val_loss: 0.5900 - val_accuracy: 0.7345\n",
            "Epoch 57/75\n",
            "63/63 [==============================] - 0s 3ms/step - loss: 0.6022 - accuracy: 0.7314 - val_loss: 0.5983 - val_accuracy: 0.7257\n",
            "Epoch 58/75\n",
            "63/63 [==============================] - 0s 4ms/step - loss: 0.6028 - accuracy: 0.7273 - val_loss: 0.5917 - val_accuracy: 0.7305\n",
            "Epoch 59/75\n",
            "63/63 [==============================] - 0s 3ms/step - loss: 0.5979 - accuracy: 0.7311 - val_loss: 0.5915 - val_accuracy: 0.7325\n",
            "Epoch 60/75\n",
            "63/63 [==============================] - 0s 3ms/step - loss: 0.6009 - accuracy: 0.7306 - val_loss: 0.5895 - val_accuracy: 0.7345\n",
            "Epoch 61/75\n",
            "63/63 [==============================] - 0s 3ms/step - loss: 0.5975 - accuracy: 0.7362 - val_loss: 0.5963 - val_accuracy: 0.7282\n",
            "Epoch 62/75\n",
            "63/63 [==============================] - 0s 4ms/step - loss: 0.5961 - accuracy: 0.7335 - val_loss: 0.5939 - val_accuracy: 0.7312\n",
            "Epoch 63/75\n",
            "63/63 [==============================] - 0s 4ms/step - loss: 0.5953 - accuracy: 0.7336 - val_loss: 0.5913 - val_accuracy: 0.7285\n",
            "Epoch 64/75\n",
            "63/63 [==============================] - 0s 4ms/step - loss: 0.6008 - accuracy: 0.7285 - val_loss: 0.5991 - val_accuracy: 0.7272\n",
            "Epoch 65/75\n",
            "63/63 [==============================] - 0s 4ms/step - loss: 0.5964 - accuracy: 0.7348 - val_loss: 0.5949 - val_accuracy: 0.7292\n",
            "Epoch 66/75\n",
            "63/63 [==============================] - 0s 5ms/step - loss: 0.5952 - accuracy: 0.7363 - val_loss: 0.5900 - val_accuracy: 0.7357\n",
            "Epoch 67/75\n",
            "63/63 [==============================] - 0s 3ms/step - loss: 0.5954 - accuracy: 0.7356 - val_loss: 0.5920 - val_accuracy: 0.7292\n",
            "Epoch 68/75\n",
            "63/63 [==============================] - 0s 3ms/step - loss: 0.5969 - accuracy: 0.7342 - val_loss: 0.5957 - val_accuracy: 0.7315\n",
            "Epoch 69/75\n",
            "63/63 [==============================] - 0s 3ms/step - loss: 0.5954 - accuracy: 0.7337 - val_loss: 0.5889 - val_accuracy: 0.7342\n",
            "Epoch 70/75\n",
            "63/63 [==============================] - 0s 3ms/step - loss: 0.5991 - accuracy: 0.7386 - val_loss: 0.5915 - val_accuracy: 0.7330\n",
            "Epoch 71/75\n",
            "63/63 [==============================] - 0s 3ms/step - loss: 0.5939 - accuracy: 0.7365 - val_loss: 0.5913 - val_accuracy: 0.7302\n",
            "Epoch 72/75\n",
            "63/63 [==============================] - 0s 3ms/step - loss: 0.5944 - accuracy: 0.7332 - val_loss: 0.5907 - val_accuracy: 0.7320\n",
            "Epoch 73/75\n",
            "63/63 [==============================] - 0s 3ms/step - loss: 0.5947 - accuracy: 0.7342 - val_loss: 0.5878 - val_accuracy: 0.7345\n",
            "Epoch 74/75\n",
            "63/63 [==============================] - 0s 3ms/step - loss: 0.5943 - accuracy: 0.7366 - val_loss: 0.5878 - val_accuracy: 0.7360\n",
            "Epoch 75/75\n",
            "63/63 [==============================] - 0s 5ms/step - loss: 0.5929 - accuracy: 0.7364 - val_loss: 0.5956 - val_accuracy: 0.7297\n"
          ]
        },
        {
          "output_type": "execute_result",
          "data": {
            "text/plain": [
              "<keras.callbacks.History at 0x7fb4947a2be0>"
            ]
          },
          "metadata": {},
          "execution_count": 39
        }
      ]
    },
    {
      "cell_type": "markdown",
      "source": [
        "*GRAFICAS* DE EVALUACION"
      ],
      "metadata": {
        "id": "VXcAMQV7xyEW"
      }
    },
    {
      "cell_type": "code",
      "source": [
        "loss = pd.DataFrame(ann.history.history)\n",
        "plt.figure(figsize=(15,10))\n",
        "sns.lineplot(data=loss, lw=3)\n",
        "sns.despine()"
      ],
      "metadata": {
        "colab": {
          "base_uri": "https://localhost:8080/",
          "height": 582
        },
        "id": "a33F1O3jxyjb",
        "outputId": "e279a6e3-f8ea-4f1b-c3e9-a3c7aed93b72"
      },
      "execution_count": 40,
      "outputs": [
        {
          "output_type": "display_data",
          "data": {
            "text/plain": [
              "<Figure size 1080x720 with 1 Axes>"
            ],
            "image/png": "[encoded data removed]"
          },
          "metadata": {
            "needs_background": "light"
          }
        }
      ]
    },
    {
      "cell_type": "code",
      "source": [
        "y_predict = ann.predict(X_test)\n",
        "y_predict = y_predict > 0.5\n",
        "\n",
        "print(classification_report(y_predict, y_test))"
      ],
      "metadata": {
        "colab": {
          "base_uri": "https://localhost:8080/"
        },
        "id": "pwlN-G2zx0jw",
        "outputId": "c22dddbb-cc00-48eb-dc47-ee5f41ed2c8f"
      },
      "execution_count": 41,
      "outputs": [
        {
          "output_type": "stream",
          "name": "stdout",
          "text": [
            "125/125 [==============================] - 0s 2ms/step\n",
            "              precision    recall  f1-score   support\n",
            "\n",
            "           0       0.77      0.82      0.79       977\n",
            "           1       0.52      0.77      0.62       703\n",
            "           2       0.82      0.68      0.74      2282\n",
            "\n",
            "   micro avg       0.72      0.73      0.73      3962\n",
            "   macro avg       0.70      0.76      0.72      3962\n",
            "weighted avg       0.75      0.73      0.73      3962\n",
            " samples avg       0.72      0.72      0.72      3962\n",
            "\n"
          ]
        },
        {
          "output_type": "stream",
          "name": "stderr",
          "text": [
            "/usr/local/lib/python3.8/dist-packages/sklearn/metrics/_classification.py:1318: UndefinedMetricWarning: Recall and F-score are ill-defined and being set to 0.0 in samples with no true labels. Use `zero_division` parameter to control this behavior.\n",
            "  _warn_prf(average, modifier, msg_start, len(result))\n"
          ]
        }
      ]
    }
  ]
}